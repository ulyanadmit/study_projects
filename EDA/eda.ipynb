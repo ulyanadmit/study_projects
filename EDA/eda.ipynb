{
 "cells": [
  {
   "cell_type": "markdown",
   "metadata": {},
   "source": [
    "# Исследование данных о продаже компьютерных игр\n",
    "\n",
    "В нашем распоряжении есть исторические данные о продажах игр. \n",
    "\n",
    "Целью исследования является выявление закономерностей, определяющих успешность игры. Это позволит сделать ставку на потенциально популярный продукт и спланировать рекламные кампании. \n",
    "\n",
    "По каждой игре доступны данные о платформе, жанре, продажах в различных регионах, оценках пользователей и критиков, возрастной категории от организации ESRB."
   ]
  },
  {
   "cell_type": "markdown",
   "metadata": {},
   "source": [
    "## Исследование общей информации о данных"
   ]
  },
  {
   "cell_type": "code",
   "execution_count": 1,
   "metadata": {},
   "outputs": [],
   "source": [
    "# загрузка необходимых библиотек\n",
    "import pandas as pd\n",
    "from scipy import stats as st\n",
    "import matplotlib.pyplot as plt\n",
    "import seaborn as sns"
   ]
  },
  {
   "cell_type": "code",
   "execution_count": 2,
   "metadata": {},
   "outputs": [
    {
     "data": {
      "text/html": [
       "<div>\n",
       "<style scoped>\n",
       "    .dataframe tbody tr th:only-of-type {\n",
       "        vertical-align: middle;\n",
       "    }\n",
       "\n",
       "    .dataframe tbody tr th {\n",
       "        vertical-align: top;\n",
       "    }\n",
       "\n",
       "    .dataframe thead th {\n",
       "        text-align: right;\n",
       "    }\n",
       "</style>\n",
       "<table border=\"1\" class=\"dataframe\">\n",
       "  <thead>\n",
       "    <tr style=\"text-align: right;\">\n",
       "      <th></th>\n",
       "      <th>Name</th>\n",
       "      <th>Platform</th>\n",
       "      <th>Year_of_Release</th>\n",
       "      <th>Genre</th>\n",
       "      <th>NA_sales</th>\n",
       "      <th>EU_sales</th>\n",
       "      <th>JP_sales</th>\n",
       "      <th>Other_sales</th>\n",
       "      <th>Critic_Score</th>\n",
       "      <th>User_Score</th>\n",
       "      <th>Rating</th>\n",
       "    </tr>\n",
       "  </thead>\n",
       "  <tbody>\n",
       "    <tr>\n",
       "      <th>0</th>\n",
       "      <td>Wii Sports</td>\n",
       "      <td>Wii</td>\n",
       "      <td>2006.0</td>\n",
       "      <td>Sports</td>\n",
       "      <td>41.36</td>\n",
       "      <td>28.96</td>\n",
       "      <td>3.77</td>\n",
       "      <td>8.45</td>\n",
       "      <td>76.0</td>\n",
       "      <td>8</td>\n",
       "      <td>E</td>\n",
       "    </tr>\n",
       "    <tr>\n",
       "      <th>1</th>\n",
       "      <td>Super Mario Bros.</td>\n",
       "      <td>NES</td>\n",
       "      <td>1985.0</td>\n",
       "      <td>Platform</td>\n",
       "      <td>29.08</td>\n",
       "      <td>3.58</td>\n",
       "      <td>6.81</td>\n",
       "      <td>0.77</td>\n",
       "      <td>NaN</td>\n",
       "      <td>NaN</td>\n",
       "      <td>NaN</td>\n",
       "    </tr>\n",
       "    <tr>\n",
       "      <th>2</th>\n",
       "      <td>Mario Kart Wii</td>\n",
       "      <td>Wii</td>\n",
       "      <td>2008.0</td>\n",
       "      <td>Racing</td>\n",
       "      <td>15.68</td>\n",
       "      <td>12.76</td>\n",
       "      <td>3.79</td>\n",
       "      <td>3.29</td>\n",
       "      <td>82.0</td>\n",
       "      <td>8.3</td>\n",
       "      <td>E</td>\n",
       "    </tr>\n",
       "    <tr>\n",
       "      <th>3</th>\n",
       "      <td>Wii Sports Resort</td>\n",
       "      <td>Wii</td>\n",
       "      <td>2009.0</td>\n",
       "      <td>Sports</td>\n",
       "      <td>15.61</td>\n",
       "      <td>10.93</td>\n",
       "      <td>3.28</td>\n",
       "      <td>2.95</td>\n",
       "      <td>80.0</td>\n",
       "      <td>8</td>\n",
       "      <td>E</td>\n",
       "    </tr>\n",
       "    <tr>\n",
       "      <th>4</th>\n",
       "      <td>Pokemon Red/Pokemon Blue</td>\n",
       "      <td>GB</td>\n",
       "      <td>1996.0</td>\n",
       "      <td>Role-Playing</td>\n",
       "      <td>11.27</td>\n",
       "      <td>8.89</td>\n",
       "      <td>10.22</td>\n",
       "      <td>1.00</td>\n",
       "      <td>NaN</td>\n",
       "      <td>NaN</td>\n",
       "      <td>NaN</td>\n",
       "    </tr>\n",
       "  </tbody>\n",
       "</table>\n",
       "</div>"
      ],
      "text/plain": [
       "                       Name Platform  Year_of_Release         Genre  NA_sales  \\\n",
       "0                Wii Sports      Wii           2006.0        Sports     41.36   \n",
       "1         Super Mario Bros.      NES           1985.0      Platform     29.08   \n",
       "2            Mario Kart Wii      Wii           2008.0        Racing     15.68   \n",
       "3         Wii Sports Resort      Wii           2009.0        Sports     15.61   \n",
       "4  Pokemon Red/Pokemon Blue       GB           1996.0  Role-Playing     11.27   \n",
       "\n",
       "   EU_sales  JP_sales  Other_sales  Critic_Score User_Score Rating  \n",
       "0     28.96      3.77         8.45          76.0          8      E  \n",
       "1      3.58      6.81         0.77           NaN        NaN    NaN  \n",
       "2     12.76      3.79         3.29          82.0        8.3      E  \n",
       "3     10.93      3.28         2.95          80.0          8      E  \n",
       "4      8.89     10.22         1.00           NaN        NaN    NaN  "
      ]
     },
     "metadata": {},
     "output_type": "display_data"
    },
    {
     "name": "stdout",
     "output_type": "stream",
     "text": [
      "<class 'pandas.core.frame.DataFrame'>\n",
      "RangeIndex: 16715 entries, 0 to 16714\n",
      "Data columns (total 11 columns):\n",
      " #   Column           Non-Null Count  Dtype  \n",
      "---  ------           --------------  -----  \n",
      " 0   Name             16713 non-null  object \n",
      " 1   Platform         16715 non-null  object \n",
      " 2   Year_of_Release  16446 non-null  float64\n",
      " 3   Genre            16713 non-null  object \n",
      " 4   NA_sales         16715 non-null  float64\n",
      " 5   EU_sales         16715 non-null  float64\n",
      " 6   JP_sales         16715 non-null  float64\n",
      " 7   Other_sales      16715 non-null  float64\n",
      " 8   Critic_Score     8137 non-null   float64\n",
      " 9   User_Score       10014 non-null  object \n",
      " 10  Rating           9949 non-null   object \n",
      "dtypes: float64(6), object(5)\n",
      "memory usage: 1.4+ MB\n",
      "None\n",
      "Количество дубликатов строк: 0\n"
     ]
    }
   ],
   "source": [
    "# загрузка данных и вывод общей иформации\n",
    "data = pd.read_csv('/datasets/games.csv')\n",
    "display(data.head())\n",
    "print(data.info())\n",
    "print('Количество дубликатов строк:', data.duplicated().sum())"
   ]
  },
  {
   "cell_type": "code",
   "execution_count": 3,
   "metadata": {},
   "outputs": [
    {
     "data": {
      "image/png": "[encoded data removed]",
      "text/plain": [
       "<Figure size 648x648 with 6 Axes>"
      ]
     },
     "metadata": {
      "needs_background": "light"
     },
     "output_type": "display_data"
    }
   ],
   "source": [
    "data.hist(figsize=(9,9));"
   ]
  },
  {
   "cell_type": "code",
   "execution_count": 4,
   "metadata": {},
   "outputs": [
    {
     "data": {
      "text/html": [
       "<div>\n",
       "<style scoped>\n",
       "    .dataframe tbody tr th:only-of-type {\n",
       "        vertical-align: middle;\n",
       "    }\n",
       "\n",
       "    .dataframe tbody tr th {\n",
       "        vertical-align: top;\n",
       "    }\n",
       "\n",
       "    .dataframe thead th {\n",
       "        text-align: right;\n",
       "    }\n",
       "</style>\n",
       "<table border=\"1\" class=\"dataframe\">\n",
       "  <thead>\n",
       "    <tr style=\"text-align: right;\">\n",
       "      <th></th>\n",
       "      <th>Year_of_Release</th>\n",
       "      <th>NA_sales</th>\n",
       "      <th>EU_sales</th>\n",
       "      <th>JP_sales</th>\n",
       "      <th>Other_sales</th>\n",
       "      <th>Critic_Score</th>\n",
       "    </tr>\n",
       "  </thead>\n",
       "  <tbody>\n",
       "    <tr>\n",
       "      <th>Year_of_Release</th>\n",
       "      <td>1.000000</td>\n",
       "      <td>-0.092500</td>\n",
       "      <td>0.003978</td>\n",
       "      <td>-0.168366</td>\n",
       "      <td>0.037820</td>\n",
       "      <td>0.011411</td>\n",
       "    </tr>\n",
       "    <tr>\n",
       "      <th>NA_sales</th>\n",
       "      <td>-0.092500</td>\n",
       "      <td>1.000000</td>\n",
       "      <td>0.765335</td>\n",
       "      <td>0.449594</td>\n",
       "      <td>0.638649</td>\n",
       "      <td>0.240755</td>\n",
       "    </tr>\n",
       "    <tr>\n",
       "      <th>EU_sales</th>\n",
       "      <td>0.003978</td>\n",
       "      <td>0.765335</td>\n",
       "      <td>1.000000</td>\n",
       "      <td>0.435061</td>\n",
       "      <td>0.722792</td>\n",
       "      <td>0.220752</td>\n",
       "    </tr>\n",
       "    <tr>\n",
       "      <th>JP_sales</th>\n",
       "      <td>-0.168366</td>\n",
       "      <td>0.449594</td>\n",
       "      <td>0.435061</td>\n",
       "      <td>1.000000</td>\n",
       "      <td>0.291089</td>\n",
       "      <td>0.152593</td>\n",
       "    </tr>\n",
       "    <tr>\n",
       "      <th>Other_sales</th>\n",
       "      <td>0.037820</td>\n",
       "      <td>0.638649</td>\n",
       "      <td>0.722792</td>\n",
       "      <td>0.291089</td>\n",
       "      <td>1.000000</td>\n",
       "      <td>0.198554</td>\n",
       "    </tr>\n",
       "    <tr>\n",
       "      <th>Critic_Score</th>\n",
       "      <td>0.011411</td>\n",
       "      <td>0.240755</td>\n",
       "      <td>0.220752</td>\n",
       "      <td>0.152593</td>\n",
       "      <td>0.198554</td>\n",
       "      <td>1.000000</td>\n",
       "    </tr>\n",
       "  </tbody>\n",
       "</table>\n",
       "</div>"
      ],
      "text/plain": [
       "                 Year_of_Release  NA_sales  EU_sales  JP_sales  Other_sales  \\\n",
       "Year_of_Release         1.000000 -0.092500  0.003978 -0.168366     0.037820   \n",
       "NA_sales               -0.092500  1.000000  0.765335  0.449594     0.638649   \n",
       "EU_sales                0.003978  0.765335  1.000000  0.435061     0.722792   \n",
       "JP_sales               -0.168366  0.449594  0.435061  1.000000     0.291089   \n",
       "Other_sales             0.037820  0.638649  0.722792  0.291089     1.000000   \n",
       "Critic_Score            0.011411  0.240755  0.220752  0.152593     0.198554   \n",
       "\n",
       "                 Critic_Score  \n",
       "Year_of_Release      0.011411  \n",
       "NA_sales             0.240755  \n",
       "EU_sales             0.220752  \n",
       "JP_sales             0.152593  \n",
       "Other_sales          0.198554  \n",
       "Critic_Score         1.000000  "
      ]
     },
     "metadata": {},
     "output_type": "display_data"
    }
   ],
   "source": [
    "display(data.corr())"
   ]
  },
  {
   "cell_type": "code",
   "execution_count": 5,
   "metadata": {},
   "outputs": [
    {
     "data": {
      "text/html": [
       "<div>\n",
       "<style scoped>\n",
       "    .dataframe tbody tr th:only-of-type {\n",
       "        vertical-align: middle;\n",
       "    }\n",
       "\n",
       "    .dataframe tbody tr th {\n",
       "        vertical-align: top;\n",
       "    }\n",
       "\n",
       "    .dataframe thead th {\n",
       "        text-align: right;\n",
       "    }\n",
       "</style>\n",
       "<table border=\"1\" class=\"dataframe\">\n",
       "  <thead>\n",
       "    <tr style=\"text-align: right;\">\n",
       "      <th></th>\n",
       "      <th>Year_of_Release</th>\n",
       "      <th>NA_sales</th>\n",
       "      <th>EU_sales</th>\n",
       "      <th>JP_sales</th>\n",
       "      <th>Other_sales</th>\n",
       "      <th>Critic_Score</th>\n",
       "    </tr>\n",
       "  </thead>\n",
       "  <tbody>\n",
       "    <tr>\n",
       "      <th>count</th>\n",
       "      <td>16446.000000</td>\n",
       "      <td>16715.000000</td>\n",
       "      <td>16715.000000</td>\n",
       "      <td>16715.000000</td>\n",
       "      <td>16715.000000</td>\n",
       "      <td>8137.000000</td>\n",
       "    </tr>\n",
       "    <tr>\n",
       "      <th>mean</th>\n",
       "      <td>2006.484616</td>\n",
       "      <td>0.263377</td>\n",
       "      <td>0.145060</td>\n",
       "      <td>0.077617</td>\n",
       "      <td>0.047342</td>\n",
       "      <td>68.967679</td>\n",
       "    </tr>\n",
       "    <tr>\n",
       "      <th>std</th>\n",
       "      <td>5.877050</td>\n",
       "      <td>0.813604</td>\n",
       "      <td>0.503339</td>\n",
       "      <td>0.308853</td>\n",
       "      <td>0.186731</td>\n",
       "      <td>13.938165</td>\n",
       "    </tr>\n",
       "    <tr>\n",
       "      <th>min</th>\n",
       "      <td>1980.000000</td>\n",
       "      <td>0.000000</td>\n",
       "      <td>0.000000</td>\n",
       "      <td>0.000000</td>\n",
       "      <td>0.000000</td>\n",
       "      <td>13.000000</td>\n",
       "    </tr>\n",
       "    <tr>\n",
       "      <th>25%</th>\n",
       "      <td>2003.000000</td>\n",
       "      <td>0.000000</td>\n",
       "      <td>0.000000</td>\n",
       "      <td>0.000000</td>\n",
       "      <td>0.000000</td>\n",
       "      <td>60.000000</td>\n",
       "    </tr>\n",
       "    <tr>\n",
       "      <th>50%</th>\n",
       "      <td>2007.000000</td>\n",
       "      <td>0.080000</td>\n",
       "      <td>0.020000</td>\n",
       "      <td>0.000000</td>\n",
       "      <td>0.010000</td>\n",
       "      <td>71.000000</td>\n",
       "    </tr>\n",
       "    <tr>\n",
       "      <th>75%</th>\n",
       "      <td>2010.000000</td>\n",
       "      <td>0.240000</td>\n",
       "      <td>0.110000</td>\n",
       "      <td>0.040000</td>\n",
       "      <td>0.030000</td>\n",
       "      <td>79.000000</td>\n",
       "    </tr>\n",
       "    <tr>\n",
       "      <th>max</th>\n",
       "      <td>2016.000000</td>\n",
       "      <td>41.360000</td>\n",
       "      <td>28.960000</td>\n",
       "      <td>10.220000</td>\n",
       "      <td>10.570000</td>\n",
       "      <td>98.000000</td>\n",
       "    </tr>\n",
       "  </tbody>\n",
       "</table>\n",
       "</div>"
      ],
      "text/plain": [
       "       Year_of_Release      NA_sales      EU_sales      JP_sales  \\\n",
       "count     16446.000000  16715.000000  16715.000000  16715.000000   \n",
       "mean       2006.484616      0.263377      0.145060      0.077617   \n",
       "std           5.877050      0.813604      0.503339      0.308853   \n",
       "min        1980.000000      0.000000      0.000000      0.000000   \n",
       "25%        2003.000000      0.000000      0.000000      0.000000   \n",
       "50%        2007.000000      0.080000      0.020000      0.000000   \n",
       "75%        2010.000000      0.240000      0.110000      0.040000   \n",
       "max        2016.000000     41.360000     28.960000     10.220000   \n",
       "\n",
       "        Other_sales  Critic_Score  \n",
       "count  16715.000000   8137.000000  \n",
       "mean       0.047342     68.967679  \n",
       "std        0.186731     13.938165  \n",
       "min        0.000000     13.000000  \n",
       "25%        0.000000     60.000000  \n",
       "50%        0.010000     71.000000  \n",
       "75%        0.030000     79.000000  \n",
       "max       10.570000     98.000000  "
      ]
     },
     "metadata": {},
     "output_type": "display_data"
    }
   ],
   "source": [
    "display(data.describe())"
   ]
  },
  {
   "cell_type": "markdown",
   "metadata": {},
   "source": [
    "На данном этапе мы получили датафрейм с данными о продаже игр и предварительно с ним ознакомились. Выяснили, что в датафрейме содержатся данные о 16715 играх, в некоторых столбцах есть пропущенные значения. Выяснили, что в данных нет полных дубликатов.\n",
    "\n",
    "Построенные гистограммы и выведенная информация о датафрейме вызвали вопросы к следующием столбцам:\n",
    "\n",
    "- в столбцах с продажами по регионам (`NA_sales`,\t`EU_sales`,\t`JP_sales`,\t`Other_sales`) есть выбросы в данных;\n",
    "- в столбцах `User_Score` и `Year_of_Release` неверный тип данных;\n",
    "- в столбцах `Name` и `Year_of_Release` есть небольшое количество пропусков;\n",
    "- в столбцах `Critic_Score`, `User_Score`, `Rating` есть пропуки в данных, скорее всего большинство в одних и тех же строках."
   ]
  },
  {
   "cell_type": "markdown",
   "metadata": {},
   "source": [
    "## Предобработка данных"
   ]
  },
  {
   "cell_type": "code",
   "execution_count": 6,
   "metadata": {},
   "outputs": [],
   "source": [
    "data = data.rename(columns=str.lower)"
   ]
  },
  {
   "cell_type": "code",
   "execution_count": 7,
   "metadata": {},
   "outputs": [
    {
     "name": "stdout",
     "output_type": "stream",
     "text": [
      "<class 'pandas.core.frame.DataFrame'>\n",
      "Int64Index: 16444 entries, 0 to 16714\n",
      "Data columns (total 11 columns):\n",
      " #   Column           Non-Null Count  Dtype  \n",
      "---  ------           --------------  -----  \n",
      " 0   name             16444 non-null  object \n",
      " 1   platform         16444 non-null  object \n",
      " 2   year_of_release  16444 non-null  int64  \n",
      " 3   genre            16444 non-null  object \n",
      " 4   na_sales         16444 non-null  float64\n",
      " 5   eu_sales         16444 non-null  float64\n",
      " 6   jp_sales         16444 non-null  float64\n",
      " 7   other_sales      16444 non-null  float64\n",
      " 8   critic_score     7983 non-null   float64\n",
      " 9   user_score       9839 non-null   object \n",
      " 10  rating           9768 non-null   object \n",
      "dtypes: float64(5), int64(1), object(5)\n",
      "memory usage: 1.5+ MB\n"
     ]
    }
   ],
   "source": [
    "data = data.dropna(subset=['name', 'year_of_release'])\n",
    "data['year_of_release'] = data['year_of_release'].astype('int')\n",
    "data.info()"
   ]
  },
  {
   "cell_type": "code",
   "execution_count": 8,
   "metadata": {},
   "outputs": [
    {
     "data": {
      "text/html": [
       "<div>\n",
       "<style scoped>\n",
       "    .dataframe tbody tr th:only-of-type {\n",
       "        vertical-align: middle;\n",
       "    }\n",
       "\n",
       "    .dataframe tbody tr th {\n",
       "        vertical-align: top;\n",
       "    }\n",
       "\n",
       "    .dataframe thead th {\n",
       "        text-align: right;\n",
       "    }\n",
       "</style>\n",
       "<table border=\"1\" class=\"dataframe\">\n",
       "  <thead>\n",
       "    <tr style=\"text-align: right;\">\n",
       "      <th></th>\n",
       "      <th>name</th>\n",
       "      <th>platform</th>\n",
       "      <th>year_of_release</th>\n",
       "      <th>genre</th>\n",
       "      <th>na_sales</th>\n",
       "      <th>eu_sales</th>\n",
       "      <th>jp_sales</th>\n",
       "      <th>other_sales</th>\n",
       "      <th>critic_score</th>\n",
       "      <th>user_score</th>\n",
       "      <th>rating</th>\n",
       "    </tr>\n",
       "  </thead>\n",
       "  <tbody>\n",
       "    <tr>\n",
       "      <th>604</th>\n",
       "      <td>Madden NFL 13</td>\n",
       "      <td>PS3</td>\n",
       "      <td>2012</td>\n",
       "      <td>Sports</td>\n",
       "      <td>2.11</td>\n",
       "      <td>0.22</td>\n",
       "      <td>0.00</td>\n",
       "      <td>0.23</td>\n",
       "      <td>83.0</td>\n",
       "      <td>5.5</td>\n",
       "      <td>E</td>\n",
       "    </tr>\n",
       "    <tr>\n",
       "      <th>1190</th>\n",
       "      <td>Need for Speed: Most Wanted</td>\n",
       "      <td>X360</td>\n",
       "      <td>2012</td>\n",
       "      <td>Racing</td>\n",
       "      <td>0.62</td>\n",
       "      <td>0.78</td>\n",
       "      <td>0.01</td>\n",
       "      <td>0.15</td>\n",
       "      <td>83.0</td>\n",
       "      <td>8.5</td>\n",
       "      <td>T</td>\n",
       "    </tr>\n",
       "    <tr>\n",
       "      <th>1591</th>\n",
       "      <td>Need for Speed: Most Wanted</td>\n",
       "      <td>X360</td>\n",
       "      <td>2005</td>\n",
       "      <td>Racing</td>\n",
       "      <td>1.00</td>\n",
       "      <td>0.13</td>\n",
       "      <td>0.02</td>\n",
       "      <td>0.10</td>\n",
       "      <td>83.0</td>\n",
       "      <td>8.5</td>\n",
       "      <td>T</td>\n",
       "    </tr>\n",
       "    <tr>\n",
       "      <th>5972</th>\n",
       "      <td>Need for Speed: Most Wanted</td>\n",
       "      <td>PC</td>\n",
       "      <td>2005</td>\n",
       "      <td>Racing</td>\n",
       "      <td>0.02</td>\n",
       "      <td>0.23</td>\n",
       "      <td>0.00</td>\n",
       "      <td>0.04</td>\n",
       "      <td>82.0</td>\n",
       "      <td>8.5</td>\n",
       "      <td>T</td>\n",
       "    </tr>\n",
       "    <tr>\n",
       "      <th>11715</th>\n",
       "      <td>Need for Speed: Most Wanted</td>\n",
       "      <td>PC</td>\n",
       "      <td>2012</td>\n",
       "      <td>Racing</td>\n",
       "      <td>0.00</td>\n",
       "      <td>0.06</td>\n",
       "      <td>0.00</td>\n",
       "      <td>0.02</td>\n",
       "      <td>82.0</td>\n",
       "      <td>8.5</td>\n",
       "      <td>T</td>\n",
       "    </tr>\n",
       "    <tr>\n",
       "      <th>16230</th>\n",
       "      <td>Madden NFL 13</td>\n",
       "      <td>PS3</td>\n",
       "      <td>2012</td>\n",
       "      <td>Sports</td>\n",
       "      <td>0.00</td>\n",
       "      <td>0.01</td>\n",
       "      <td>0.00</td>\n",
       "      <td>0.00</td>\n",
       "      <td>83.0</td>\n",
       "      <td>5.5</td>\n",
       "      <td>E</td>\n",
       "    </tr>\n",
       "  </tbody>\n",
       "</table>\n",
       "</div>"
      ],
      "text/plain": [
       "                              name platform  year_of_release   genre  \\\n",
       "604                  Madden NFL 13      PS3             2012  Sports   \n",
       "1190   Need for Speed: Most Wanted     X360             2012  Racing   \n",
       "1591   Need for Speed: Most Wanted     X360             2005  Racing   \n",
       "5972   Need for Speed: Most Wanted       PC             2005  Racing   \n",
       "11715  Need for Speed: Most Wanted       PC             2012  Racing   \n",
       "16230                Madden NFL 13      PS3             2012  Sports   \n",
       "\n",
       "       na_sales  eu_sales  jp_sales  other_sales  critic_score user_score  \\\n",
       "604        2.11      0.22      0.00         0.23          83.0        5.5   \n",
       "1190       0.62      0.78      0.01         0.15          83.0        8.5   \n",
       "1591       1.00      0.13      0.02         0.10          83.0        8.5   \n",
       "5972       0.02      0.23      0.00         0.04          82.0        8.5   \n",
       "11715      0.00      0.06      0.00         0.02          82.0        8.5   \n",
       "16230      0.00      0.01      0.00         0.00          83.0        5.5   \n",
       "\n",
       "      rating  \n",
       "604        E  \n",
       "1190       T  \n",
       "1591       T  \n",
       "5972       T  \n",
       "11715      T  \n",
       "16230      E  "
      ]
     },
     "metadata": {},
     "output_type": "display_data"
    }
   ],
   "source": [
    "# найдем дубликаты по связке столбцов name и platform\n",
    "display(data.loc[data.duplicated(subset=['name', 'platform'], keep=False)])"
   ]
  },
  {
   "cell_type": "code",
   "execution_count": 9,
   "metadata": {},
   "outputs": [],
   "source": [
    "# важен еще и год выпуска, удалим дубликат по этоим криитериям\n",
    "data = data.drop_duplicates(subset=['name', 'platform', 'year_of_release'])"
   ]
  },
  {
   "cell_type": "code",
   "execution_count": 10,
   "metadata": {},
   "outputs": [],
   "source": [
    "data['total_sales'] = data['na_sales'] + data['eu_sales'] + data['jp_sales'] + data['other_sales']"
   ]
  },
  {
   "cell_type": "code",
   "execution_count": 11,
   "metadata": {},
   "outputs": [
    {
     "data": {
      "text/plain": [
       "NaN    6605\n",
       "tbd    2376\n",
       "7.8     322\n",
       "8       285\n",
       "8.2     276\n",
       "       ... \n",
       "0.9       2\n",
       "1         2\n",
       "9.6       2\n",
       "0         1\n",
       "9.7       1\n",
       "Name: user_score, Length: 97, dtype: int64"
      ]
     },
     "execution_count": 11,
     "metadata": {},
     "output_type": "execute_result"
    }
   ],
   "source": [
    "# анализ данных по оценкам пользователей\n",
    "data['user_score'].value_counts(dropna=False)"
   ]
  },
  {
   "cell_type": "code",
   "execution_count": 12,
   "metadata": {},
   "outputs": [
    {
     "name": "stdout",
     "output_type": "stream",
     "text": [
      " NaN    6605\n",
      "-1.0    2376\n",
      " 7.8     322\n",
      " 8.0     285\n",
      " 8.2     276\n",
      "        ... \n",
      " 1.5       2\n",
      " 2.3       2\n",
      " 1.9       2\n",
      " 0.0       1\n",
      " 9.7       1\n",
      "Name: user_score, Length: 97, dtype: int64\n",
      "<class 'pandas.core.frame.DataFrame'>\n",
      "Int64Index: 16443 entries, 0 to 16714\n",
      "Data columns (total 12 columns):\n",
      " #   Column           Non-Null Count  Dtype  \n",
      "---  ------           --------------  -----  \n",
      " 0   name             16443 non-null  object \n",
      " 1   platform         16443 non-null  object \n",
      " 2   year_of_release  16443 non-null  int64  \n",
      " 3   genre            16443 non-null  object \n",
      " 4   na_sales         16443 non-null  float64\n",
      " 5   eu_sales         16443 non-null  float64\n",
      " 6   jp_sales         16443 non-null  float64\n",
      " 7   other_sales      16443 non-null  float64\n",
      " 8   critic_score     7982 non-null   float64\n",
      " 9   user_score       9838 non-null   float64\n",
      " 10  rating           9767 non-null   object \n",
      " 11  total_sales      16443 non-null  float64\n",
      "dtypes: float64(7), int64(1), object(4)\n",
      "memory usage: 1.6+ MB\n"
     ]
    }
   ],
   "source": [
    "# замена tbd индикаторным значением, изменение типа данных\n",
    "data.loc[(data['user_score'] == 'tbd'), 'user_score'] = -1\n",
    "data['user_score'] = pd.to_numeric(data['user_score'], errors='coerce')\n",
    "print(data['user_score'].value_counts(dropna=False))\n",
    "data.head(10)\n",
    "data.info()"
   ]
  },
  {
   "cell_type": "code",
   "execution_count": 13,
   "metadata": {},
   "outputs": [
    {
     "name": "stdout",
     "output_type": "stream",
     "text": [
      "Количество строк с незаполненным рейтингом и оценками критиков и пользователей: 6534\n",
      "Количество платформ с заполненной оценкой пользователей: 17\n",
      "Количество платформ с заполненной оценкой критиков: 17\n",
      "Количество платформ с заполненным рейтингом: 17\n",
      "Общее количество платформ: 31\n"
     ]
    }
   ],
   "source": [
    "# поиск пропусков в оценках критиков и пользователей\n",
    "print('Количество строк с незаполненным рейтингом и оценками критиков и пользователей:', \\\n",
    "      len(data.loc[(data['user_score'].isna()) \\\n",
    "                   & (data['rating'].isna()) \\\n",
    "                   & (data['critic_score'].isna())]))\n",
    "print('Количество платформ с заполненной оценкой пользователей:', data.loc[~(data['user_score'].isna())]['platform'].nunique())\n",
    "print('Количество платформ с заполненной оценкой критиков:', data.loc[~(data['critic_score'].isna())]['platform'].nunique())\n",
    "print('Количество платформ с заполненным рейтингом:', data.loc[~(data['rating'].isna())]['platform'].nunique())\n",
    "print('Общее количество платформ:', data['platform'].nunique())"
   ]
  },
  {
   "cell_type": "code",
   "execution_count": 14,
   "metadata": {},
   "outputs": [
    {
     "data": {
      "text/html": [
       "<div>\n",
       "<style scoped>\n",
       "    .dataframe tbody tr th:only-of-type {\n",
       "        vertical-align: middle;\n",
       "    }\n",
       "\n",
       "    .dataframe tbody tr th {\n",
       "        vertical-align: top;\n",
       "    }\n",
       "\n",
       "    .dataframe thead th {\n",
       "        text-align: right;\n",
       "    }\n",
       "</style>\n",
       "<table border=\"1\" class=\"dataframe\">\n",
       "  <thead>\n",
       "    <tr style=\"text-align: right;\">\n",
       "      <th></th>\n",
       "      <th>name</th>\n",
       "      <th>platform</th>\n",
       "      <th>year_of_release</th>\n",
       "      <th>genre</th>\n",
       "      <th>na_sales</th>\n",
       "      <th>eu_sales</th>\n",
       "      <th>jp_sales</th>\n",
       "      <th>other_sales</th>\n",
       "      <th>critic_score</th>\n",
       "      <th>user_score</th>\n",
       "      <th>rating</th>\n",
       "      <th>total_sales</th>\n",
       "    </tr>\n",
       "  </thead>\n",
       "  <tbody>\n",
       "    <tr>\n",
       "      <th>5662</th>\n",
       "      <td>FIFA Street 3</td>\n",
       "      <td>X360</td>\n",
       "      <td>2008</td>\n",
       "      <td>Sports</td>\n",
       "      <td>0.14</td>\n",
       "      <td>0.14</td>\n",
       "      <td>0.00</td>\n",
       "      <td>0.03</td>\n",
       "      <td>63.0</td>\n",
       "      <td>6.9</td>\n",
       "      <td>E</td>\n",
       "      <td>0.31</td>\n",
       "    </tr>\n",
       "    <tr>\n",
       "      <th>1839</th>\n",
       "      <td>Fight Night Champion</td>\n",
       "      <td>PS3</td>\n",
       "      <td>2011</td>\n",
       "      <td>Fighting</td>\n",
       "      <td>0.45</td>\n",
       "      <td>0.49</td>\n",
       "      <td>0.00</td>\n",
       "      <td>0.18</td>\n",
       "      <td>84.0</td>\n",
       "      <td>7.3</td>\n",
       "      <td>M</td>\n",
       "      <td>1.12</td>\n",
       "    </tr>\n",
       "    <tr>\n",
       "      <th>16086</th>\n",
       "      <td>Donkey Kong Jungle Beat</td>\n",
       "      <td>Wii</td>\n",
       "      <td>2008</td>\n",
       "      <td>Platform</td>\n",
       "      <td>0.00</td>\n",
       "      <td>0.01</td>\n",
       "      <td>0.00</td>\n",
       "      <td>0.00</td>\n",
       "      <td>NaN</td>\n",
       "      <td>NaN</td>\n",
       "      <td>undefined</td>\n",
       "      <td>0.01</td>\n",
       "    </tr>\n",
       "    <tr>\n",
       "      <th>1473</th>\n",
       "      <td>Triple Play 2001</td>\n",
       "      <td>PS</td>\n",
       "      <td>2000</td>\n",
       "      <td>Sports</td>\n",
       "      <td>0.74</td>\n",
       "      <td>0.50</td>\n",
       "      <td>0.00</td>\n",
       "      <td>0.09</td>\n",
       "      <td>NaN</td>\n",
       "      <td>NaN</td>\n",
       "      <td>undefined</td>\n",
       "      <td>1.33</td>\n",
       "    </tr>\n",
       "    <tr>\n",
       "      <th>1944</th>\n",
       "      <td>Bully: Scholarship Edition</td>\n",
       "      <td>X360</td>\n",
       "      <td>2008</td>\n",
       "      <td>Action</td>\n",
       "      <td>0.53</td>\n",
       "      <td>0.40</td>\n",
       "      <td>0.03</td>\n",
       "      <td>0.11</td>\n",
       "      <td>80.0</td>\n",
       "      <td>8.3</td>\n",
       "      <td>T</td>\n",
       "      <td>1.07</td>\n",
       "    </tr>\n",
       "  </tbody>\n",
       "</table>\n",
       "</div>"
      ],
      "text/plain": [
       "                             name platform  year_of_release     genre  \\\n",
       "5662                FIFA Street 3     X360             2008    Sports   \n",
       "1839         Fight Night Champion      PS3             2011  Fighting   \n",
       "16086     Donkey Kong Jungle Beat      Wii             2008  Platform   \n",
       "1473             Triple Play 2001       PS             2000    Sports   \n",
       "1944   Bully: Scholarship Edition     X360             2008    Action   \n",
       "\n",
       "       na_sales  eu_sales  jp_sales  other_sales  critic_score  user_score  \\\n",
       "5662       0.14      0.14      0.00         0.03          63.0         6.9   \n",
       "1839       0.45      0.49      0.00         0.18          84.0         7.3   \n",
       "16086      0.00      0.01      0.00         0.00           NaN         NaN   \n",
       "1473       0.74      0.50      0.00         0.09           NaN         NaN   \n",
       "1944       0.53      0.40      0.03         0.11          80.0         8.3   \n",
       "\n",
       "          rating  total_sales  \n",
       "5662           E         0.31  \n",
       "1839           M         1.12  \n",
       "16086  undefined         0.01  \n",
       "1473   undefined         1.33  \n",
       "1944           T         1.07  "
      ]
     },
     "metadata": {},
     "output_type": "display_data"
    }
   ],
   "source": [
    "# заполнение пропусков в возрастной категории\n",
    "data.loc[data['rating'].isna(), 'rating'] = 'undefined'\n",
    "display(data.sample(5))"
   ]
  },
  {
   "cell_type": "markdown",
   "metadata": {},
   "source": [
    " Переименовали столбцы, заменили типы данных на корректные: столбец `user_score` - `float64` и столбец `year_of_release` - `int64`.\n",
    "\n",
    "Строки с пропусками в данных года выпуска и название удалили, таких строк было немного, заполнить корректным значением невозможно. Удалили найденный дубликат по критериям: год выпуска, название, платформа.\n",
    "\n",
    "В колонке с оценками пользователей обнаружили значение tbd, это общепринятое сокращение \"подлежит уточнению\", эти данные заполнили индикаторным значением -1.\n",
    "\n",
    "Обнаружили, что большая часть строк с пропусками в столбцах `user_score`, `critic_score`, `rating` - это одни и те же строки. Вероятно, по данным этих игр не велась статистика. Также выявили, что только 17 из 31 платформ предоставляют статистику. Решили не заполнять данные по оценкам пользователей и критиков, так как такая оценка субъективна. Столбец `rating` заполнили индикаторным значением `undefined`.\n",
    "\n",
    "Создали столбец с общей суммой продаж по всем регионам."
   ]
  },
  {
   "cell_type": "markdown",
   "metadata": {},
   "source": [
    "## Исследовательский анализ данных"
   ]
  },
  {
   "cell_type": "markdown",
   "metadata": {},
   "source": [
    "### Распределение продаж по годам"
   ]
  },
  {
   "cell_type": "code",
   "execution_count": 15,
   "metadata": {},
   "outputs": [
    {
     "data": {
      "image/png": "[encoded data removed]",
      "text/plain": [
       "<Figure size 432x288 with 1 Axes>"
      ]
     },
     "metadata": {
      "needs_background": "light"
     },
     "output_type": "display_data"
    }
   ],
   "source": [
    "data['year_of_release'].plot(kind='hist', bins=37, legend=True, title='Распределение продаж игр по годам');"
   ]
  },
  {
   "cell_type": "code",
   "execution_count": 16,
   "metadata": {},
   "outputs": [
    {
     "data": {
      "text/plain": [
       "year_of_release\n",
       "1980       9\n",
       "1981      46\n",
       "1982      36\n",
       "1983      17\n",
       "1984      14\n",
       "1985      14\n",
       "1986      21\n",
       "1987      16\n",
       "1988      15\n",
       "1989      17\n",
       "1990      16\n",
       "1991      41\n",
       "1992      43\n",
       "1993      60\n",
       "1994     121\n",
       "1995     219\n",
       "1996     263\n",
       "1997     289\n",
       "1998     379\n",
       "1999     338\n",
       "2000     350\n",
       "2001     482\n",
       "2002     829\n",
       "2003     775\n",
       "2004     762\n",
       "2005     939\n",
       "2006    1006\n",
       "2007    1197\n",
       "2008    1427\n",
       "2009    1426\n",
       "2010    1255\n",
       "2011    1136\n",
       "2012     652\n",
       "2013     544\n",
       "2014     581\n",
       "2015     606\n",
       "2016     502\n",
       "Name: name, dtype: int64"
      ]
     },
     "execution_count": 16,
     "metadata": {},
     "output_type": "execute_result"
    }
   ],
   "source": [
    "data.groupby(by='year_of_release')['name'].count()"
   ]
  },
  {
   "cell_type": "markdown",
   "metadata": {},
   "source": [
    "Данные по годам показывают, что в 2005 - 2011 годах были самые большие продажи игр, потом продажи существенно снизились, тенденция к снижению продолжается."
   ]
  },
  {
   "cell_type": "markdown",
   "metadata": {},
   "source": [
    "### Распределение продаж по платформам"
   ]
  },
  {
   "cell_type": "code",
   "execution_count": 17,
   "metadata": {},
   "outputs": [
    {
     "data": {
      "text/plain": [
       "PS2     2127\n",
       "DS      2121\n",
       "PS3     1305\n",
       "Wii     1286\n",
       "X360    1232\n",
       "PSP     1193\n",
       "PS      1190\n",
       "PC       957\n",
       "GBA      811\n",
       "XB       803\n",
       "GC       542\n",
       "3DS      512\n",
       "PSV      429\n",
       "PS4      392\n",
       "N64      316\n",
       "XOne     247\n",
       "SNES     239\n",
       "SAT      173\n",
       "WiiU     147\n",
       "2600     116\n",
       "NES       98\n",
       "GB        97\n",
       "DC        52\n",
       "GEN       27\n",
       "NG        12\n",
       "WS         6\n",
       "SCD        6\n",
       "3DO        3\n",
       "TG16       2\n",
       "PCFX       1\n",
       "GG         1\n",
       "Name: platform, dtype: int64"
      ]
     },
     "execution_count": 17,
     "metadata": {},
     "output_type": "execute_result"
    }
   ],
   "source": [
    "data['platform'].value_counts()"
   ]
  },
  {
   "cell_type": "code",
   "execution_count": 18,
   "metadata": {
    "scrolled": true
   },
   "outputs": [
    {
     "data": {
      "text/html": [
       "<div>\n",
       "<style scoped>\n",
       "    .dataframe tbody tr th:only-of-type {\n",
       "        vertical-align: middle;\n",
       "    }\n",
       "\n",
       "    .dataframe tbody tr th {\n",
       "        vertical-align: top;\n",
       "    }\n",
       "\n",
       "    .dataframe thead th {\n",
       "        text-align: right;\n",
       "    }\n",
       "</style>\n",
       "<table border=\"1\" class=\"dataframe\">\n",
       "  <thead>\n",
       "    <tr style=\"text-align: right;\">\n",
       "      <th>year_of_release</th>\n",
       "      <th>1980</th>\n",
       "      <th>1981</th>\n",
       "      <th>1982</th>\n",
       "      <th>1983</th>\n",
       "      <th>1984</th>\n",
       "      <th>1985</th>\n",
       "      <th>1986</th>\n",
       "      <th>1987</th>\n",
       "      <th>1988</th>\n",
       "      <th>1989</th>\n",
       "      <th>...</th>\n",
       "      <th>2007</th>\n",
       "      <th>2008</th>\n",
       "      <th>2009</th>\n",
       "      <th>2010</th>\n",
       "      <th>2011</th>\n",
       "      <th>2012</th>\n",
       "      <th>2013</th>\n",
       "      <th>2014</th>\n",
       "      <th>2015</th>\n",
       "      <th>2016</th>\n",
       "    </tr>\n",
       "    <tr>\n",
       "      <th>platform</th>\n",
       "      <th></th>\n",
       "      <th></th>\n",
       "      <th></th>\n",
       "      <th></th>\n",
       "      <th></th>\n",
       "      <th></th>\n",
       "      <th></th>\n",
       "      <th></th>\n",
       "      <th></th>\n",
       "      <th></th>\n",
       "      <th></th>\n",
       "      <th></th>\n",
       "      <th></th>\n",
       "      <th></th>\n",
       "      <th></th>\n",
       "      <th></th>\n",
       "      <th></th>\n",
       "      <th></th>\n",
       "      <th></th>\n",
       "      <th></th>\n",
       "      <th></th>\n",
       "    </tr>\n",
       "  </thead>\n",
       "  <tbody>\n",
       "    <tr>\n",
       "      <th>2600</th>\n",
       "      <td>11.38</td>\n",
       "      <td>35.68</td>\n",
       "      <td>28.88</td>\n",
       "      <td>5.84</td>\n",
       "      <td>0.27</td>\n",
       "      <td>0.45</td>\n",
       "      <td>0.67</td>\n",
       "      <td>1.94</td>\n",
       "      <td>0.74</td>\n",
       "      <td>0.63</td>\n",
       "      <td>...</td>\n",
       "      <td>NaN</td>\n",
       "      <td>NaN</td>\n",
       "      <td>NaN</td>\n",
       "      <td>NaN</td>\n",
       "      <td>NaN</td>\n",
       "      <td>NaN</td>\n",
       "      <td>NaN</td>\n",
       "      <td>NaN</td>\n",
       "      <td>NaN</td>\n",
       "      <td>NaN</td>\n",
       "    </tr>\n",
       "    <tr>\n",
       "      <th>3DO</th>\n",
       "      <td>NaN</td>\n",
       "      <td>NaN</td>\n",
       "      <td>NaN</td>\n",
       "      <td>NaN</td>\n",
       "      <td>NaN</td>\n",
       "      <td>NaN</td>\n",
       "      <td>NaN</td>\n",
       "      <td>NaN</td>\n",
       "      <td>NaN</td>\n",
       "      <td>NaN</td>\n",
       "      <td>...</td>\n",
       "      <td>NaN</td>\n",
       "      <td>NaN</td>\n",
       "      <td>NaN</td>\n",
       "      <td>NaN</td>\n",
       "      <td>NaN</td>\n",
       "      <td>NaN</td>\n",
       "      <td>NaN</td>\n",
       "      <td>NaN</td>\n",
       "      <td>NaN</td>\n",
       "      <td>NaN</td>\n",
       "    </tr>\n",
       "    <tr>\n",
       "      <th>3DS</th>\n",
       "      <td>NaN</td>\n",
       "      <td>NaN</td>\n",
       "      <td>NaN</td>\n",
       "      <td>NaN</td>\n",
       "      <td>NaN</td>\n",
       "      <td>NaN</td>\n",
       "      <td>NaN</td>\n",
       "      <td>NaN</td>\n",
       "      <td>NaN</td>\n",
       "      <td>NaN</td>\n",
       "      <td>...</td>\n",
       "      <td>NaN</td>\n",
       "      <td>NaN</td>\n",
       "      <td>NaN</td>\n",
       "      <td>NaN</td>\n",
       "      <td>63.20</td>\n",
       "      <td>51.36</td>\n",
       "      <td>56.57</td>\n",
       "      <td>43.76</td>\n",
       "      <td>27.78</td>\n",
       "      <td>15.14</td>\n",
       "    </tr>\n",
       "    <tr>\n",
       "      <th>DC</th>\n",
       "      <td>NaN</td>\n",
       "      <td>NaN</td>\n",
       "      <td>NaN</td>\n",
       "      <td>NaN</td>\n",
       "      <td>NaN</td>\n",
       "      <td>NaN</td>\n",
       "      <td>NaN</td>\n",
       "      <td>NaN</td>\n",
       "      <td>NaN</td>\n",
       "      <td>NaN</td>\n",
       "      <td>...</td>\n",
       "      <td>0.02</td>\n",
       "      <td>0.04</td>\n",
       "      <td>NaN</td>\n",
       "      <td>NaN</td>\n",
       "      <td>NaN</td>\n",
       "      <td>NaN</td>\n",
       "      <td>NaN</td>\n",
       "      <td>NaN</td>\n",
       "      <td>NaN</td>\n",
       "      <td>NaN</td>\n",
       "    </tr>\n",
       "    <tr>\n",
       "      <th>DS</th>\n",
       "      <td>NaN</td>\n",
       "      <td>NaN</td>\n",
       "      <td>NaN</td>\n",
       "      <td>NaN</td>\n",
       "      <td>NaN</td>\n",
       "      <td>0.02</td>\n",
       "      <td>NaN</td>\n",
       "      <td>NaN</td>\n",
       "      <td>NaN</td>\n",
       "      <td>NaN</td>\n",
       "      <td>...</td>\n",
       "      <td>146.94</td>\n",
       "      <td>145.31</td>\n",
       "      <td>119.54</td>\n",
       "      <td>85.02</td>\n",
       "      <td>26.18</td>\n",
       "      <td>11.01</td>\n",
       "      <td>1.54</td>\n",
       "      <td>NaN</td>\n",
       "      <td>NaN</td>\n",
       "      <td>NaN</td>\n",
       "    </tr>\n",
       "  </tbody>\n",
       "</table>\n",
       "<p>5 rows × 37 columns</p>\n",
       "</div>"
      ],
      "text/plain": [
       "year_of_release   1980   1981   1982  1983  1984  1985  1986  1987  1988  \\\n",
       "platform                                                                   \n",
       "2600             11.38  35.68  28.88  5.84  0.27  0.45  0.67  1.94  0.74   \n",
       "3DO                NaN    NaN    NaN   NaN   NaN   NaN   NaN   NaN   NaN   \n",
       "3DS                NaN    NaN    NaN   NaN   NaN   NaN   NaN   NaN   NaN   \n",
       "DC                 NaN    NaN    NaN   NaN   NaN   NaN   NaN   NaN   NaN   \n",
       "DS                 NaN    NaN    NaN   NaN   NaN  0.02   NaN   NaN   NaN   \n",
       "\n",
       "year_of_release  1989  ...    2007    2008    2009   2010   2011   2012  \\\n",
       "platform               ...                                                \n",
       "2600             0.63  ...     NaN     NaN     NaN    NaN    NaN    NaN   \n",
       "3DO               NaN  ...     NaN     NaN     NaN    NaN    NaN    NaN   \n",
       "3DS               NaN  ...     NaN     NaN     NaN    NaN  63.20  51.36   \n",
       "DC                NaN  ...    0.02    0.04     NaN    NaN    NaN    NaN   \n",
       "DS                NaN  ...  146.94  145.31  119.54  85.02  26.18  11.01   \n",
       "\n",
       "year_of_release   2013   2014   2015   2016  \n",
       "platform                                     \n",
       "2600               NaN    NaN    NaN    NaN  \n",
       "3DO                NaN    NaN    NaN    NaN  \n",
       "3DS              56.57  43.76  27.78  15.14  \n",
       "DC                 NaN    NaN    NaN    NaN  \n",
       "DS                1.54    NaN    NaN    NaN  \n",
       "\n",
       "[5 rows x 37 columns]"
      ]
     },
     "metadata": {},
     "output_type": "display_data"
    }
   ],
   "source": [
    "platform_per_year = data.pivot_table(index='platform',\\\n",
    "                                    columns='year_of_release', values='total_sales', aggfunc='sum')\n",
    "display(platform_per_year.head())"
   ]
  },
  {
   "cell_type": "code",
   "execution_count": 19,
   "metadata": {},
   "outputs": [
    {
     "data": {
      "image/png": "[encoded data removed]",
      "text/plain": [
       "<Figure size 432x288 with 2 Axes>"
      ]
     },
     "metadata": {
      "needs_background": "light"
     },
     "output_type": "display_data"
    }
   ],
   "source": [
    "sns.heatmap(platform_per_year, xticklabels=1, yticklabels=1);"
   ]
  },
  {
   "cell_type": "markdown",
   "metadata": {},
   "source": [
    "Мы сделали таблицу с продажами всех платформ по годам. Тепловая диаграмма показала, что весь анализируемый период не действовала ни одна платформа. В основном каждая действут около 10 лет. Дольше других существует платформа PC.\n",
    "\n",
    "Продажи существенны только у некоторых платформ, часть из них уже не действует.\n",
    "\n",
    "Для анализа имеет смысл смотреть данные с 2012 года по тем платформам, которые существуют на 2016 год."
   ]
  },
  {
   "cell_type": "code",
   "execution_count": 20,
   "metadata": {},
   "outputs": [],
   "source": [
    "# выделим актуальные данные для анализа\n",
    "data_actual = data.query('year_of_release >= 2012')"
   ]
  },
  {
   "cell_type": "code",
   "execution_count": 21,
   "metadata": {},
   "outputs": [
    {
     "name": "stdout",
     "output_type": "stream",
     "text": [
      "Список существующих платформ: ['3DS', 'PC', 'PS3', 'PS4', 'PSV', 'Wii', 'WiiU', 'X360', 'XOne']\n"
     ]
    }
   ],
   "source": [
    "# создадим список существующх на 2016 год платформ\n",
    "existing_platform = data_actual.query('year_of_release == 2016')\\\n",
    "                        .groupby(by='platform')['total_sales']\\\n",
    "                        .sum()\\\n",
    "                        .reset_index()\n",
    "existing_platform = list(existing_platform['platform'])\n",
    "print('Список существующих платформ:', existing_platform)"
   ]
  },
  {
   "cell_type": "code",
   "execution_count": 22,
   "metadata": {
    "scrolled": false
   },
   "outputs": [
    {
     "data": {
      "text/html": [
       "<div>\n",
       "<style scoped>\n",
       "    .dataframe tbody tr th:only-of-type {\n",
       "        vertical-align: middle;\n",
       "    }\n",
       "\n",
       "    .dataframe tbody tr th {\n",
       "        vertical-align: top;\n",
       "    }\n",
       "\n",
       "    .dataframe thead th {\n",
       "        text-align: right;\n",
       "    }\n",
       "</style>\n",
       "<table border=\"1\" class=\"dataframe\">\n",
       "  <thead>\n",
       "    <tr style=\"text-align: right;\">\n",
       "      <th>year_of_release</th>\n",
       "      <th>2012</th>\n",
       "      <th>2013</th>\n",
       "      <th>2014</th>\n",
       "      <th>2015</th>\n",
       "      <th>2016</th>\n",
       "    </tr>\n",
       "    <tr>\n",
       "      <th>platform</th>\n",
       "      <th></th>\n",
       "      <th></th>\n",
       "      <th></th>\n",
       "      <th></th>\n",
       "      <th></th>\n",
       "    </tr>\n",
       "  </thead>\n",
       "  <tbody>\n",
       "    <tr>\n",
       "      <th>3DS</th>\n",
       "      <td>51.36</td>\n",
       "      <td>56.57</td>\n",
       "      <td>43.76</td>\n",
       "      <td>27.78</td>\n",
       "      <td>15.14</td>\n",
       "    </tr>\n",
       "    <tr>\n",
       "      <th>PC</th>\n",
       "      <td>23.22</td>\n",
       "      <td>12.38</td>\n",
       "      <td>13.28</td>\n",
       "      <td>8.52</td>\n",
       "      <td>5.25</td>\n",
       "    </tr>\n",
       "    <tr>\n",
       "      <th>PS3</th>\n",
       "      <td>107.35</td>\n",
       "      <td>113.25</td>\n",
       "      <td>47.76</td>\n",
       "      <td>16.82</td>\n",
       "      <td>3.60</td>\n",
       "    </tr>\n",
       "    <tr>\n",
       "      <th>PS4</th>\n",
       "      <td>NaN</td>\n",
       "      <td>25.99</td>\n",
       "      <td>100.00</td>\n",
       "      <td>118.90</td>\n",
       "      <td>69.25</td>\n",
       "    </tr>\n",
       "    <tr>\n",
       "      <th>PSV</th>\n",
       "      <td>16.19</td>\n",
       "      <td>10.59</td>\n",
       "      <td>11.90</td>\n",
       "      <td>6.25</td>\n",
       "      <td>4.25</td>\n",
       "    </tr>\n",
       "    <tr>\n",
       "      <th>Wii</th>\n",
       "      <td>21.71</td>\n",
       "      <td>8.59</td>\n",
       "      <td>3.75</td>\n",
       "      <td>1.14</td>\n",
       "      <td>0.18</td>\n",
       "    </tr>\n",
       "    <tr>\n",
       "      <th>WiiU</th>\n",
       "      <td>17.56</td>\n",
       "      <td>21.65</td>\n",
       "      <td>22.03</td>\n",
       "      <td>16.35</td>\n",
       "      <td>4.60</td>\n",
       "    </tr>\n",
       "    <tr>\n",
       "      <th>X360</th>\n",
       "      <td>99.74</td>\n",
       "      <td>88.58</td>\n",
       "      <td>34.74</td>\n",
       "      <td>11.96</td>\n",
       "      <td>1.52</td>\n",
       "    </tr>\n",
       "    <tr>\n",
       "      <th>XOne</th>\n",
       "      <td>NaN</td>\n",
       "      <td>18.96</td>\n",
       "      <td>54.07</td>\n",
       "      <td>60.14</td>\n",
       "      <td>26.15</td>\n",
       "    </tr>\n",
       "  </tbody>\n",
       "</table>\n",
       "</div>"
      ],
      "text/plain": [
       "year_of_release    2012    2013    2014    2015   2016\n",
       "platform                                              \n",
       "3DS               51.36   56.57   43.76   27.78  15.14\n",
       "PC                23.22   12.38   13.28    8.52   5.25\n",
       "PS3              107.35  113.25   47.76   16.82   3.60\n",
       "PS4                 NaN   25.99  100.00  118.90  69.25\n",
       "PSV               16.19   10.59   11.90    6.25   4.25\n",
       "Wii               21.71    8.59    3.75    1.14   0.18\n",
       "WiiU              17.56   21.65   22.03   16.35   4.60\n",
       "X360              99.74   88.58   34.74   11.96   1.52\n",
       "XOne                NaN   18.96   54.07   60.14  26.15"
      ]
     },
     "metadata": {},
     "output_type": "display_data"
    },
    {
     "data": {
      "image/png": "[encoded data removed]",
      "text/plain": [
       "<Figure size 432x288 with 2 Axes>"
      ]
     },
     "metadata": {
      "needs_background": "light"
     },
     "output_type": "display_data"
    }
   ],
   "source": [
    "# построим данные по продажам на существующих платформах с 2012 года\n",
    "existing_platform_per_year = platform_per_year.query('platform in @existing_platform')\\\n",
    "                                              .drop(platform_per_year.columns[0:-5], axis=1)\n",
    "display(existing_platform_per_year)\n",
    "sns.heatmap(existing_platform_per_year, cmap='YlGnBu');"
   ]
  },
  {
   "cell_type": "code",
   "execution_count": 23,
   "metadata": {},
   "outputs": [
    {
     "data": {
      "image/png": "[encoded data removed]",
      "text/plain": [
       "<Figure size 432x288 with 1 Axes>"
      ]
     },
     "metadata": {
      "needs_background": "light"
     },
     "output_type": "display_data"
    }
   ],
   "source": [
    "# построим графики продаж по годам\n",
    "existing_platform_per_year.T.plot(title='Графики продаж игр по платформам', ylabel='Количество проданных игр', xlabel='Год выпуска');"
   ]
  },
  {
   "cell_type": "code",
   "execution_count": 24,
   "metadata": {},
   "outputs": [
    {
     "data": {
      "text/html": [
       "<div>\n",
       "<style scoped>\n",
       "    .dataframe tbody tr th:only-of-type {\n",
       "        vertical-align: middle;\n",
       "    }\n",
       "\n",
       "    .dataframe tbody tr th {\n",
       "        vertical-align: top;\n",
       "    }\n",
       "\n",
       "    .dataframe thead th {\n",
       "        text-align: right;\n",
       "    }\n",
       "</style>\n",
       "<table border=\"1\" class=\"dataframe\">\n",
       "  <thead>\n",
       "    <tr style=\"text-align: right;\">\n",
       "      <th>year_of_release</th>\n",
       "      <th>2012</th>\n",
       "      <th>2013</th>\n",
       "      <th>2014</th>\n",
       "      <th>2015</th>\n",
       "      <th>2016</th>\n",
       "      <th>total</th>\n",
       "    </tr>\n",
       "    <tr>\n",
       "      <th>platform</th>\n",
       "      <th></th>\n",
       "      <th></th>\n",
       "      <th></th>\n",
       "      <th></th>\n",
       "      <th></th>\n",
       "      <th></th>\n",
       "    </tr>\n",
       "  </thead>\n",
       "  <tbody>\n",
       "    <tr>\n",
       "      <th>PS4</th>\n",
       "      <td>NaN</td>\n",
       "      <td>25.99</td>\n",
       "      <td>100.00</td>\n",
       "      <td>118.90</td>\n",
       "      <td>69.25</td>\n",
       "      <td>314.14</td>\n",
       "    </tr>\n",
       "    <tr>\n",
       "      <th>PS3</th>\n",
       "      <td>107.35</td>\n",
       "      <td>113.25</td>\n",
       "      <td>47.76</td>\n",
       "      <td>16.82</td>\n",
       "      <td>3.60</td>\n",
       "      <td>288.78</td>\n",
       "    </tr>\n",
       "    <tr>\n",
       "      <th>X360</th>\n",
       "      <td>99.74</td>\n",
       "      <td>88.58</td>\n",
       "      <td>34.74</td>\n",
       "      <td>11.96</td>\n",
       "      <td>1.52</td>\n",
       "      <td>236.54</td>\n",
       "    </tr>\n",
       "    <tr>\n",
       "      <th>3DS</th>\n",
       "      <td>51.36</td>\n",
       "      <td>56.57</td>\n",
       "      <td>43.76</td>\n",
       "      <td>27.78</td>\n",
       "      <td>15.14</td>\n",
       "      <td>194.61</td>\n",
       "    </tr>\n",
       "    <tr>\n",
       "      <th>XOne</th>\n",
       "      <td>NaN</td>\n",
       "      <td>18.96</td>\n",
       "      <td>54.07</td>\n",
       "      <td>60.14</td>\n",
       "      <td>26.15</td>\n",
       "      <td>159.32</td>\n",
       "    </tr>\n",
       "    <tr>\n",
       "      <th>WiiU</th>\n",
       "      <td>17.56</td>\n",
       "      <td>21.65</td>\n",
       "      <td>22.03</td>\n",
       "      <td>16.35</td>\n",
       "      <td>4.60</td>\n",
       "      <td>82.19</td>\n",
       "    </tr>\n",
       "    <tr>\n",
       "      <th>PC</th>\n",
       "      <td>23.22</td>\n",
       "      <td>12.38</td>\n",
       "      <td>13.28</td>\n",
       "      <td>8.52</td>\n",
       "      <td>5.25</td>\n",
       "      <td>62.65</td>\n",
       "    </tr>\n",
       "    <tr>\n",
       "      <th>PSV</th>\n",
       "      <td>16.19</td>\n",
       "      <td>10.59</td>\n",
       "      <td>11.90</td>\n",
       "      <td>6.25</td>\n",
       "      <td>4.25</td>\n",
       "      <td>49.18</td>\n",
       "    </tr>\n",
       "    <tr>\n",
       "      <th>Wii</th>\n",
       "      <td>21.71</td>\n",
       "      <td>8.59</td>\n",
       "      <td>3.75</td>\n",
       "      <td>1.14</td>\n",
       "      <td>0.18</td>\n",
       "      <td>35.37</td>\n",
       "    </tr>\n",
       "  </tbody>\n",
       "</table>\n",
       "</div>"
      ],
      "text/plain": [
       "year_of_release    2012    2013    2014    2015   2016   total\n",
       "platform                                                      \n",
       "PS4                 NaN   25.99  100.00  118.90  69.25  314.14\n",
       "PS3              107.35  113.25   47.76   16.82   3.60  288.78\n",
       "X360              99.74   88.58   34.74   11.96   1.52  236.54\n",
       "3DS               51.36   56.57   43.76   27.78  15.14  194.61\n",
       "XOne                NaN   18.96   54.07   60.14  26.15  159.32\n",
       "WiiU              17.56   21.65   22.03   16.35   4.60   82.19\n",
       "PC                23.22   12.38   13.28    8.52   5.25   62.65\n",
       "PSV               16.19   10.59   11.90    6.25   4.25   49.18\n",
       "Wii               21.71    8.59    3.75    1.14   0.18   35.37"
      ]
     },
     "metadata": {},
     "output_type": "display_data"
    },
    {
     "name": "stdout",
     "output_type": "stream",
     "text": [
      "Список самых крупных платформ: Index(['PS4', 'PS3', 'X360', '3DS', 'XOne'], dtype='object', name='platform')\n"
     ]
    }
   ],
   "source": [
    "# найдем самые прибыльные платформы из существующих\n",
    "existing_platform_per_year['total'] = existing_platform_per_year[:].sum(axis=1)\n",
    "existing_platform_per_year = existing_platform_per_year.sort_values(by='total', ascending=False)\n",
    "display(existing_platform_per_year)\n",
    "largest_platform = existing_platform_per_year.index[0:5]\n",
    "print('Список самых крупных платформ:', largest_platform)"
   ]
  },
  {
   "cell_type": "code",
   "execution_count": 25,
   "metadata": {},
   "outputs": [
    {
     "data": {
      "image/png": "[encoded data removed]",
      "text/plain": [
       "<Figure size 432x288 with 1 Axes>"
      ]
     },
     "metadata": {
      "needs_background": "light"
     },
     "output_type": "display_data"
    }
   ],
   "source": [
    "existing_platform_per_year.T[:-1].boxplot();"
   ]
  },
  {
   "cell_type": "code",
   "execution_count": 26,
   "metadata": {},
   "outputs": [
    {
     "data": {
      "text/plain": [
       "(0.0, 2.0)"
      ]
     },
     "execution_count": 26,
     "metadata": {},
     "output_type": "execute_result"
    },
    {
     "data": {
      "image/png": "[encoded data removed]",
      "text/plain": [
       "<Figure size 432x288 with 1 Axes>"
      ]
     },
     "metadata": {
      "needs_background": "light"
     },
     "output_type": "display_data"
    },
    {
     "data": {
      "image/png": "[encoded data removed]",
      "text/plain": [
       "<Figure size 432x288 with 1 Axes>"
      ]
     },
     "metadata": {
      "needs_background": "light"
     },
     "output_type": "display_data"
    }
   ],
   "source": [
    "data_actual.boxplot(column='total_sales', by='platform');\n",
    "data_actual.boxplot(column='total_sales', by='platform');\n",
    "plt.ylim(0, 2)"
   ]
  },
  {
   "cell_type": "markdown",
   "metadata": {},
   "source": [
    "Мы нашли 9 существующих на 2016 год платформ, проанализировали продажи по ним по годам, увидели что продажи по всем платформам падают. Не так сильно падают продажи игр на платформах PSV и Wii. Нашли платформы с самыми большими продажами за последние 5 лет. Создали список 5 таких платформ, в него вошли следующие платфомы: PS4, PS3, X360, 3DS, XOne.\n",
    "\n",
    "График «ящик с усами» по продажам игр по годам в разбивке по платформам показал, что у платформы PS3 самый большой разброс в продажах по годам, что мы увидели также на обычном графике. С 2013 по 2015 год эта платформа сильно упала. В целом у самых популярных платформ сильнее всех упали продажи за анализируемый период. Медианное количество продаж игр по годам на платформе PS3 меньше, чем на платформе PS4.\n",
    "\n",
    "Анализ распределения глобальных продаж по платформам показал, что в продажах игр существуют сильные выбросы, то есть небольшое количество игр продается существенно лучше других. Если говорить о медианном количестве продаж каждой игры, то больше всего оно у платформы X360, далее следуют платформы Wii и XOne, еще чуть ниже WiiU, PS3 и PS4. То же самое можно сказать о третьем квартиле и усах распределений то есть у названных платформ больше всего игр продается в болььших количествах.\n",
    "\n",
    "В  списке крупных платформ по общим продажам на четвертом месте мы выявили платформу 3DS, но диаграмма размаха показала, что это происходит за счет выбросов, в медианное количество продаж игр этой платформы меньше.\n",
    "\n",
    "Потенциально самыми прибыльными платформами мы считаем следуюие: X360, PS4, Wii, XOne, PS3, WiiU."
   ]
  },
  {
   "cell_type": "markdown",
   "metadata": {},
   "source": [
    "### Влияние отзывов пользователей и критиков на продажи"
   ]
  },
  {
   "cell_type": "code",
   "execution_count": 27,
   "metadata": {},
   "outputs": [
    {
     "data": {
      "image/png": "[encoded data removed]",
      "text/plain": [
       "<Figure size 432x288 with 1 Axes>"
      ]
     },
     "metadata": {
      "needs_background": "light"
     },
     "output_type": "display_data"
    },
    {
     "data": {
      "image/png": "[encoded data removed]",
      "text/plain": [
       "<Figure size 432x288 with 1 Axes>"
      ]
     },
     "metadata": {
      "needs_background": "light"
     },
     "output_type": "display_data"
    }
   ],
   "source": [
    "# построим диаграмму рассеяния\n",
    "data_actual.query('platform == \"PS4\"')\\\n",
    "    .plot(kind='scatter', x='total_sales', y='critic_score',\\\n",
    "         legend=True, title='Зависимость продаж от оценки критиков');\n",
    "data_actual.query('platform == \"PS4\" and user_score != -1')\\\n",
    "    .plot(kind='scatter', x='total_sales', y='user_score',\\\n",
    "         legend=True, title='Зависимость продаж от оценки пользователей');"
   ]
  },
  {
   "cell_type": "code",
   "execution_count": 28,
   "metadata": {},
   "outputs": [
    {
     "data": {
      "image/png": "[encoded data removed]",
      "text/plain": [
       "<Figure size 432x288 with 2 Axes>"
      ]
     },
     "metadata": {
      "needs_background": "light"
     },
     "output_type": "display_data"
    }
   ],
   "source": [
    "sns.heatmap(data_actual.query('platform == \"PS4\" and user_score != -1')[['total_sales', 'critic_score', 'user_score']]\\\n",
    "            .corr(), annot=True);"
   ]
  },
  {
   "cell_type": "markdown",
   "metadata": {},
   "source": [
    "Для анализа взяли самую популярную платформу PS4. Построили диаграмму рассеяния, которая показала, большое количество продаж есть у игр с более высокими оценками пользователей и критиков. Но тем не менее есть игры с высокими оценками и низкими продажами. Построили матрицу корреляции, увидели что существует более сильная зависимость между оценкой критиков и продажами, чем между оценкой пользоваталей и продажами."
   ]
  },
  {
   "cell_type": "code",
   "execution_count": 29,
   "metadata": {
    "scrolled": false
   },
   "outputs": [
    {
     "data": {
      "image/png": "[encoded data removed]",
      "text/plain": [
       "<Figure size 648x216 with 4 Axes>"
      ]
     },
     "metadata": {
      "needs_background": "light"
     },
     "output_type": "display_data"
    },
    {
     "data": {
      "image/png": "[encoded data removed]",
      "text/plain": [
       "<Figure size 648x216 with 4 Axes>"
      ]
     },
     "metadata": {
      "needs_background": "light"
     },
     "output_type": "display_data"
    },
    {
     "data": {
      "image/png": "[encoded data removed]",
      "text/plain": [
       "<Figure size 648x216 with 4 Axes>"
      ]
     },
     "metadata": {
      "needs_background": "light"
     },
     "output_type": "display_data"
    },
    {
     "data": {
      "image/png": "[encoded data removed]",
      "text/plain": [
       "<Figure size 648x216 with 4 Axes>"
      ]
     },
     "metadata": {
      "needs_background": "light"
     },
     "output_type": "display_data"
    },
    {
     "data": {
      "image/png": "[encoded data removed]",
      "text/plain": [
       "<Figure size 648x216 with 4 Axes>"
      ]
     },
     "metadata": {
      "needs_background": "light"
     },
     "output_type": "display_data"
    },
    {
     "data": {
      "image/png": "[encoded data removed]",
      "text/plain": [
       "<Figure size 648x216 with 4 Axes>"
      ]
     },
     "metadata": {
      "needs_background": "light"
     },
     "output_type": "display_data"
    },
    {
     "data": {
      "image/png": "[encoded data removed]",
      "text/plain": [
       "<Figure size 648x216 with 4 Axes>"
      ]
     },
     "metadata": {
      "needs_background": "light"
     },
     "output_type": "display_data"
    },
    {
     "data": {
      "image/png": "[encoded data removed]",
      "text/plain": [
       "<Figure size 648x216 with 4 Axes>"
      ]
     },
     "metadata": {
      "needs_background": "light"
     },
     "output_type": "display_data"
    },
    {
     "data": {
      "image/png": "[encoded data removed]",
      "text/plain": [
       "<Figure size 648x216 with 4 Axes>"
      ]
     },
     "metadata": {
      "needs_background": "light"
     },
     "output_type": "display_data"
    }
   ],
   "source": [
    "# построим диаграммы рассеяния по существующим платформам\n",
    "for p in existing_platform:\n",
    "    df = data_actual.loc[(data_actual['platform'] == p) & (data_actual['user_score'] != -1)]\n",
    "    fig, ax = plt.subplots(1, 3, figsize=(9, 3))\n",
    "    ax[0].scatter(df['critic_score'], df['total_sales'])\n",
    "    ax[1].scatter(df['user_score'], df['total_sales'])\n",
    "    fig.suptitle(p)\n",
    "    sns.heatmap(df[['total_sales', 'critic_score', 'user_score']].corr(), annot=True);"
   ]
  },
  {
   "cell_type": "markdown",
   "metadata": {},
   "source": [
    "По другим крупным платформам картина подобная, с увеличением оценки критиков и пользователей растет число игр с большими продажами. Ни у одной платформы нет сильной корреляции между оценками и продажами. У платформы PSV корреляция между этими данными самая низкая. У платром Wii и WiiU мы обнаружили большую корреляцию между оценками пользователей и продажами, чем между оценками критиков и продажами."
   ]
  },
  {
   "cell_type": "markdown",
   "metadata": {},
   "source": [
    "### Распределение продаж по жанрам"
   ]
  },
  {
   "cell_type": "code",
   "execution_count": 30,
   "metadata": {},
   "outputs": [
    {
     "data": {
      "text/html": [
       "<div>\n",
       "<style scoped>\n",
       "    .dataframe tbody tr th:only-of-type {\n",
       "        vertical-align: middle;\n",
       "    }\n",
       "\n",
       "    .dataframe tbody tr th {\n",
       "        vertical-align: top;\n",
       "    }\n",
       "\n",
       "    .dataframe thead tr th {\n",
       "        text-align: left;\n",
       "    }\n",
       "\n",
       "    .dataframe thead tr:last-of-type th {\n",
       "        text-align: right;\n",
       "    }\n",
       "</style>\n",
       "<table border=\"1\" class=\"dataframe\">\n",
       "  <thead>\n",
       "    <tr>\n",
       "      <th></th>\n",
       "      <th colspan=\"3\" halign=\"left\">total_sales</th>\n",
       "    </tr>\n",
       "    <tr>\n",
       "      <th></th>\n",
       "      <th>count</th>\n",
       "      <th>sum</th>\n",
       "      <th>mean</th>\n",
       "    </tr>\n",
       "    <tr>\n",
       "      <th>genre</th>\n",
       "      <th></th>\n",
       "      <th></th>\n",
       "      <th></th>\n",
       "    </tr>\n",
       "  </thead>\n",
       "  <tbody>\n",
       "    <tr>\n",
       "      <th>Action</th>\n",
       "      <td>1031</td>\n",
       "      <td>441.12</td>\n",
       "      <td>0.427856</td>\n",
       "    </tr>\n",
       "    <tr>\n",
       "      <th>Shooter</th>\n",
       "      <td>235</td>\n",
       "      <td>304.73</td>\n",
       "      <td>1.296723</td>\n",
       "    </tr>\n",
       "    <tr>\n",
       "      <th>Role-Playing</th>\n",
       "      <td>370</td>\n",
       "      <td>192.80</td>\n",
       "      <td>0.521081</td>\n",
       "    </tr>\n",
       "    <tr>\n",
       "      <th>Sports</th>\n",
       "      <td>267</td>\n",
       "      <td>181.06</td>\n",
       "      <td>0.678127</td>\n",
       "    </tr>\n",
       "    <tr>\n",
       "      <th>Misc</th>\n",
       "      <td>192</td>\n",
       "      <td>85.04</td>\n",
       "      <td>0.442917</td>\n",
       "    </tr>\n",
       "    <tr>\n",
       "      <th>Platform</th>\n",
       "      <td>85</td>\n",
       "      <td>61.00</td>\n",
       "      <td>0.717647</td>\n",
       "    </tr>\n",
       "    <tr>\n",
       "      <th>Racing</th>\n",
       "      <td>115</td>\n",
       "      <td>53.50</td>\n",
       "      <td>0.465217</td>\n",
       "    </tr>\n",
       "    <tr>\n",
       "      <th>Fighting</th>\n",
       "      <td>109</td>\n",
       "      <td>44.49</td>\n",
       "      <td>0.408165</td>\n",
       "    </tr>\n",
       "    <tr>\n",
       "      <th>Simulation</th>\n",
       "      <td>80</td>\n",
       "      <td>35.12</td>\n",
       "      <td>0.439000</td>\n",
       "    </tr>\n",
       "    <tr>\n",
       "      <th>Adventure</th>\n",
       "      <td>302</td>\n",
       "      <td>29.43</td>\n",
       "      <td>0.097450</td>\n",
       "    </tr>\n",
       "    <tr>\n",
       "      <th>Strategy</th>\n",
       "      <td>71</td>\n",
       "      <td>13.34</td>\n",
       "      <td>0.187887</td>\n",
       "    </tr>\n",
       "    <tr>\n",
       "      <th>Puzzle</th>\n",
       "      <td>28</td>\n",
       "      <td>4.89</td>\n",
       "      <td>0.174643</td>\n",
       "    </tr>\n",
       "  </tbody>\n",
       "</table>\n",
       "</div>"
      ],
      "text/plain": [
       "             total_sales                  \n",
       "                   count     sum      mean\n",
       "genre                                     \n",
       "Action              1031  441.12  0.427856\n",
       "Shooter              235  304.73  1.296723\n",
       "Role-Playing         370  192.80  0.521081\n",
       "Sports               267  181.06  0.678127\n",
       "Misc                 192   85.04  0.442917\n",
       "Platform              85   61.00  0.717647\n",
       "Racing               115   53.50  0.465217\n",
       "Fighting             109   44.49  0.408165\n",
       "Simulation            80   35.12  0.439000\n",
       "Adventure            302   29.43  0.097450\n",
       "Strategy              71   13.34  0.187887\n",
       "Puzzle                28    4.89  0.174643"
      ]
     },
     "metadata": {},
     "output_type": "display_data"
    },
    {
     "data": {
      "image/png": "[encoded data removed]",
      "text/plain": [
       "<Figure size 432x288 with 1 Axes>"
      ]
     },
     "metadata": {
      "needs_background": "light"
     },
     "output_type": "display_data"
    },
    {
     "data": {
      "image/png": "[encoded data removed]",
      "text/plain": [
       "<Figure size 1440x576 with 2 Axes>"
      ]
     },
     "metadata": {},
     "output_type": "display_data"
    }
   ],
   "source": [
    "# посчитаем количество проданных игр каждого жанра, общее количество проданных \n",
    "# экземпляров каждого жанра, среднее количество продаж каждой игры по жанру\n",
    "\n",
    "sales_per_genre = data_actual.groupby(by='genre')\\\n",
    "                      .agg({'total_sales': ['count', 'sum', 'mean']})\\\n",
    "                      .sort_values(by=('total_sales', 'sum'), ascending=False)\n",
    "sales_per_genre[[('total_sales', 'count'), ('total_sales', 'sum')]]\\\n",
    "                   .plot(kind='bar', title='Распределение выпущенных и проданных игр по жанрам')\n",
    "sales_per_genre[[('total_sales', 'count'),\\\n",
    "                 ('total_sales', 'sum')]]\\\n",
    "               .plot(kind='pie', subplots=True, figsize=(20,8), legend=False,\\\n",
    "                     title='Доли выпущенных и проданных игр по жанрам')\n",
    "display(sales_per_genre)"
   ]
  },
  {
   "cell_type": "code",
   "execution_count": 31,
   "metadata": {},
   "outputs": [
    {
     "data": {
      "image/png": "[encoded data removed]",
      "text/plain": [
       "<Figure size 432x288 with 1 Axes>"
      ]
     },
     "metadata": {
      "needs_background": "light"
     },
     "output_type": "display_data"
    }
   ],
   "source": [
    "sales_per_genre[('total_sales', 'mean')].plot(kind='bar',\\\n",
    "                                              title='Среднее количество проданных игр по жанрам');"
   ]
  },
  {
   "cell_type": "markdown",
   "metadata": {},
   "source": [
    "Анализ распределения распределение продаж по жанрам выявил, что четыре самых популярных жанра, в которых выпускаются игры (Action, Shooter, Role-Playing, Sports), также лидируют и по продажам.\n",
    "\n",
    "Мы подсчитали среднее количество продаж каждой игры по жанрам, выяснили, что больше всего среднее количество продаж каждой игры в жанре Shooter, а также в не самом популярном жанре Platform."
   ]
  },
  {
   "cell_type": "markdown",
   "metadata": {},
   "source": [
    "## Составление портрета пользователя каждого региона"
   ]
  },
  {
   "cell_type": "code",
   "execution_count": 32,
   "metadata": {},
   "outputs": [
    {
     "data": {
      "image/png": "[encoded data removed]",
      "text/plain": [
       "<Figure size 1440x360 with 1 Axes>"
      ]
     },
     "metadata": {
      "needs_background": "light"
     },
     "output_type": "display_data"
    }
   ],
   "source": [
    "# посчитаем сумму проданных игр каждой из существующих на данный момент платформы по регионам\n",
    "platform_per_region = data_actual.query('platform in @existing_platform')\\\n",
    "                                 .pivot_table(index='platform',\\\n",
    "                                              values=('na_sales', 'eu_sales', 'jp_sales'),\\\n",
    "                                              aggfunc='sum')\n",
    "platform_per_region.plot(kind='bar', figsize=(20,5),\\\n",
    "                         title='Количество проданных игр каждой платфомы в регионах');"
   ]
  },
  {
   "cell_type": "code",
   "execution_count": 33,
   "metadata": {},
   "outputs": [
    {
     "data": {
      "text/html": [
       "<div>\n",
       "<style scoped>\n",
       "    .dataframe tbody tr th:only-of-type {\n",
       "        vertical-align: middle;\n",
       "    }\n",
       "\n",
       "    .dataframe tbody tr th {\n",
       "        vertical-align: top;\n",
       "    }\n",
       "\n",
       "    .dataframe thead th {\n",
       "        text-align: right;\n",
       "    }\n",
       "</style>\n",
       "<table border=\"1\" class=\"dataframe\">\n",
       "  <thead>\n",
       "    <tr style=\"text-align: right;\">\n",
       "      <th></th>\n",
       "      <th>eu_sales</th>\n",
       "      <th>rate</th>\n",
       "    </tr>\n",
       "    <tr>\n",
       "      <th>platform</th>\n",
       "      <th></th>\n",
       "      <th></th>\n",
       "    </tr>\n",
       "  </thead>\n",
       "  <tbody>\n",
       "    <tr>\n",
       "      <th>PS4</th>\n",
       "      <td>141.09</td>\n",
       "      <td>0.280575</td>\n",
       "    </tr>\n",
       "    <tr>\n",
       "      <th>PS3</th>\n",
       "      <td>106.85</td>\n",
       "      <td>0.212485</td>\n",
       "    </tr>\n",
       "    <tr>\n",
       "      <th>X360</th>\n",
       "      <td>74.52</td>\n",
       "      <td>0.148192</td>\n",
       "    </tr>\n",
       "    <tr>\n",
       "      <th>XOne</th>\n",
       "      <td>51.59</td>\n",
       "      <td>0.102593</td>\n",
       "    </tr>\n",
       "    <tr>\n",
       "      <th>3DS</th>\n",
       "      <td>42.64</td>\n",
       "      <td>0.084795</td>\n",
       "    </tr>\n",
       "  </tbody>\n",
       "</table>\n",
       "</div>"
      ],
      "text/plain": [
       "          eu_sales      rate\n",
       "platform                    \n",
       "PS4         141.09  0.280575\n",
       "PS3         106.85  0.212485\n",
       "X360         74.52  0.148192\n",
       "XOne         51.59  0.102593\n",
       "3DS          42.64  0.084795"
      ]
     },
     "metadata": {},
     "output_type": "display_data"
    },
    {
     "name": "stdout",
     "output_type": "stream",
     "text": [
      "Доля продаж пяти самых популярных платформ: 0.83\n"
     ]
    },
    {
     "data": {
      "text/html": [
       "<div>\n",
       "<style scoped>\n",
       "    .dataframe tbody tr th:only-of-type {\n",
       "        vertical-align: middle;\n",
       "    }\n",
       "\n",
       "    .dataframe tbody tr th {\n",
       "        vertical-align: top;\n",
       "    }\n",
       "\n",
       "    .dataframe thead th {\n",
       "        text-align: right;\n",
       "    }\n",
       "</style>\n",
       "<table border=\"1\" class=\"dataframe\">\n",
       "  <thead>\n",
       "    <tr style=\"text-align: right;\">\n",
       "      <th></th>\n",
       "      <th>jp_sales</th>\n",
       "      <th>rate</th>\n",
       "    </tr>\n",
       "    <tr>\n",
       "      <th>platform</th>\n",
       "      <th></th>\n",
       "      <th></th>\n",
       "    </tr>\n",
       "  </thead>\n",
       "  <tbody>\n",
       "    <tr>\n",
       "      <th>3DS</th>\n",
       "      <td>87.79</td>\n",
       "      <td>0.492124</td>\n",
       "    </tr>\n",
       "    <tr>\n",
       "      <th>PS3</th>\n",
       "      <td>35.29</td>\n",
       "      <td>0.197825</td>\n",
       "    </tr>\n",
       "    <tr>\n",
       "      <th>PSV</th>\n",
       "      <td>21.04</td>\n",
       "      <td>0.117944</td>\n",
       "    </tr>\n",
       "    <tr>\n",
       "      <th>PS4</th>\n",
       "      <td>15.96</td>\n",
       "      <td>0.089467</td>\n",
       "    </tr>\n",
       "    <tr>\n",
       "      <th>WiiU</th>\n",
       "      <td>13.01</td>\n",
       "      <td>0.072930</td>\n",
       "    </tr>\n",
       "  </tbody>\n",
       "</table>\n",
       "</div>"
      ],
      "text/plain": [
       "          jp_sales      rate\n",
       "platform                    \n",
       "3DS          87.79  0.492124\n",
       "PS3          35.29  0.197825\n",
       "PSV          21.04  0.117944\n",
       "PS4          15.96  0.089467\n",
       "WiiU         13.01  0.072930"
      ]
     },
     "metadata": {},
     "output_type": "display_data"
    },
    {
     "name": "stdout",
     "output_type": "stream",
     "text": [
      "Доля продаж пяти самых популярных платформ: 0.97\n"
     ]
    },
    {
     "data": {
      "text/html": [
       "<div>\n",
       "<style scoped>\n",
       "    .dataframe tbody tr th:only-of-type {\n",
       "        vertical-align: middle;\n",
       "    }\n",
       "\n",
       "    .dataframe tbody tr th {\n",
       "        vertical-align: top;\n",
       "    }\n",
       "\n",
       "    .dataframe thead th {\n",
       "        text-align: right;\n",
       "    }\n",
       "</style>\n",
       "<table border=\"1\" class=\"dataframe\">\n",
       "  <thead>\n",
       "    <tr style=\"text-align: right;\">\n",
       "      <th></th>\n",
       "      <th>na_sales</th>\n",
       "      <th>rate</th>\n",
       "    </tr>\n",
       "    <tr>\n",
       "      <th>platform</th>\n",
       "      <th></th>\n",
       "      <th></th>\n",
       "    </tr>\n",
       "  </thead>\n",
       "  <tbody>\n",
       "    <tr>\n",
       "      <th>X360</th>\n",
       "      <td>140.05</td>\n",
       "      <td>0.238891</td>\n",
       "    </tr>\n",
       "    <tr>\n",
       "      <th>PS4</th>\n",
       "      <td>108.74</td>\n",
       "      <td>0.185484</td>\n",
       "    </tr>\n",
       "    <tr>\n",
       "      <th>PS3</th>\n",
       "      <td>103.38</td>\n",
       "      <td>0.176341</td>\n",
       "    </tr>\n",
       "    <tr>\n",
       "      <th>XOne</th>\n",
       "      <td>93.12</td>\n",
       "      <td>0.158840</td>\n",
       "    </tr>\n",
       "    <tr>\n",
       "      <th>3DS</th>\n",
       "      <td>55.31</td>\n",
       "      <td>0.094345</td>\n",
       "    </tr>\n",
       "  </tbody>\n",
       "</table>\n",
       "</div>"
      ],
      "text/plain": [
       "          na_sales      rate\n",
       "platform                    \n",
       "X360        140.05  0.238891\n",
       "PS4         108.74  0.185484\n",
       "PS3         103.38  0.176341\n",
       "XOne         93.12  0.158840\n",
       "3DS          55.31  0.094345"
      ]
     },
     "metadata": {},
     "output_type": "display_data"
    },
    {
     "name": "stdout",
     "output_type": "stream",
     "text": [
      "Доля продаж пяти самых популярных платформ: 0.85\n"
     ]
    }
   ],
   "source": [
    "# определим 5 самых популярных платформ в регионе и долю продаж по ним\n",
    "for region in platform_per_region.columns:\n",
    "    platform_per_region['rate'] = platform_per_region[region] / platform_per_region[region].sum()\n",
    "    display(platform_per_region.sort_values(by=region, ascending=False)[[region, 'rate']].head(5))\n",
    "    print('Доля продаж пяти самых популярных платформ:', platform_per_region\\\n",
    "          .sort_values(by=region, ascending=False).head(5)['rate'].sum().round(2))"
   ]
  },
  {
   "cell_type": "markdown",
   "metadata": {},
   "source": [
    "Мы посчитали количество проданных игр каждой платформы в регионах Северная Америка, Европа и Япония. Выявили, что больше всего игр продается в Северной Америке и Европе, меньше - в Японии. Проанализировали популярность платформ в регионах, выяснили что в разных регионах популярны разные платформы. Северная Америка и Европа в этом смысле более похожи между собой, а Япония существенно отличается. Выявили, что такие платформы как 3DS и PSV больше ориенированы на Японию.\n",
    "\n",
    "Мы составили рейтинг ТОП-5 самых популярных платформ в регионе. В Северной Америке это: X360, PS4, PS3, XOne, 3DS. В Европе: PS4, PS3, X360, XOne, 3DS. В Японии: 3DS, PS3, PSV, PS4, WiiU. Доля продаж пяти самых популярных платформ в Японии составляет 97%, в Северной Америке 85%, в Европе - 83%."
   ]
  },
  {
   "cell_type": "code",
   "execution_count": 34,
   "metadata": {},
   "outputs": [
    {
     "data": {
      "image/png": "[encoded data removed]",
      "text/plain": [
       "<Figure size 1080x360 with 1 Axes>"
      ]
     },
     "metadata": {
      "needs_background": "light"
     },
     "output_type": "display_data"
    }
   ],
   "source": [
    "# посчитаем сумму проданных игр каждого жанра по регионам\n",
    "genre_per_region = data_actual.pivot_table(index='genre',\\\n",
    "                             values=('na_sales', 'eu_sales', 'jp_sales'), aggfunc='sum')\n",
    "genre_per_region.plot(kind='bar', figsize=(15,5),\\\n",
    "                      title='Количество проданных игр каждого жанра в регионах');"
   ]
  },
  {
   "cell_type": "code",
   "execution_count": 35,
   "metadata": {},
   "outputs": [
    {
     "data": {
      "text/html": [
       "<div>\n",
       "<style scoped>\n",
       "    .dataframe tbody tr th:only-of-type {\n",
       "        vertical-align: middle;\n",
       "    }\n",
       "\n",
       "    .dataframe tbody tr th {\n",
       "        vertical-align: top;\n",
       "    }\n",
       "\n",
       "    .dataframe thead th {\n",
       "        text-align: right;\n",
       "    }\n",
       "</style>\n",
       "<table border=\"1\" class=\"dataframe\">\n",
       "  <thead>\n",
       "    <tr style=\"text-align: right;\">\n",
       "      <th></th>\n",
       "      <th>eu_sales</th>\n",
       "      <th>rate</th>\n",
       "    </tr>\n",
       "    <tr>\n",
       "      <th>genre</th>\n",
       "      <th></th>\n",
       "      <th></th>\n",
       "    </tr>\n",
       "  </thead>\n",
       "  <tbody>\n",
       "    <tr>\n",
       "      <th>Action</th>\n",
       "      <td>159.34</td>\n",
       "      <td>0.314398</td>\n",
       "    </tr>\n",
       "    <tr>\n",
       "      <th>Shooter</th>\n",
       "      <td>113.47</td>\n",
       "      <td>0.223891</td>\n",
       "    </tr>\n",
       "    <tr>\n",
       "      <th>Sports</th>\n",
       "      <td>69.08</td>\n",
       "      <td>0.136304</td>\n",
       "    </tr>\n",
       "    <tr>\n",
       "      <th>Role-Playing</th>\n",
       "      <td>48.53</td>\n",
       "      <td>0.095756</td>\n",
       "    </tr>\n",
       "    <tr>\n",
       "      <th>Racing</th>\n",
       "      <td>27.29</td>\n",
       "      <td>0.053847</td>\n",
       "    </tr>\n",
       "  </tbody>\n",
       "</table>\n",
       "</div>"
      ],
      "text/plain": [
       "              eu_sales      rate\n",
       "genre                           \n",
       "Action          159.34  0.314398\n",
       "Shooter         113.47  0.223891\n",
       "Sports           69.08  0.136304\n",
       "Role-Playing     48.53  0.095756\n",
       "Racing           27.29  0.053847"
      ]
     },
     "metadata": {},
     "output_type": "display_data"
    },
    {
     "name": "stdout",
     "output_type": "stream",
     "text": [
      "Доля продаж пяти самых популярных жанров: 0.82\n"
     ]
    },
    {
     "data": {
      "text/html": [
       "<div>\n",
       "<style scoped>\n",
       "    .dataframe tbody tr th:only-of-type {\n",
       "        vertical-align: middle;\n",
       "    }\n",
       "\n",
       "    .dataframe tbody tr th {\n",
       "        vertical-align: top;\n",
       "    }\n",
       "\n",
       "    .dataframe thead th {\n",
       "        text-align: right;\n",
       "    }\n",
       "</style>\n",
       "<table border=\"1\" class=\"dataframe\">\n",
       "  <thead>\n",
       "    <tr style=\"text-align: right;\">\n",
       "      <th></th>\n",
       "      <th>jp_sales</th>\n",
       "      <th>rate</th>\n",
       "    </tr>\n",
       "    <tr>\n",
       "      <th>genre</th>\n",
       "      <th></th>\n",
       "      <th></th>\n",
       "    </tr>\n",
       "  </thead>\n",
       "  <tbody>\n",
       "    <tr>\n",
       "      <th>Role-Playing</th>\n",
       "      <td>65.44</td>\n",
       "      <td>0.339807</td>\n",
       "    </tr>\n",
       "    <tr>\n",
       "      <th>Action</th>\n",
       "      <td>52.80</td>\n",
       "      <td>0.274172</td>\n",
       "    </tr>\n",
       "    <tr>\n",
       "      <th>Misc</th>\n",
       "      <td>12.86</td>\n",
       "      <td>0.066777</td>\n",
       "    </tr>\n",
       "    <tr>\n",
       "      <th>Simulation</th>\n",
       "      <td>10.41</td>\n",
       "      <td>0.054055</td>\n",
       "    </tr>\n",
       "    <tr>\n",
       "      <th>Fighting</th>\n",
       "      <td>9.44</td>\n",
       "      <td>0.049019</td>\n",
       "    </tr>\n",
       "  </tbody>\n",
       "</table>\n",
       "</div>"
      ],
      "text/plain": [
       "              jp_sales      rate\n",
       "genre                           \n",
       "Role-Playing     65.44  0.339807\n",
       "Action           52.80  0.274172\n",
       "Misc             12.86  0.066777\n",
       "Simulation       10.41  0.054055\n",
       "Fighting          9.44  0.049019"
      ]
     },
     "metadata": {},
     "output_type": "display_data"
    },
    {
     "name": "stdout",
     "output_type": "stream",
     "text": [
      "Доля продаж пяти самых популярных жанров: 0.77\n"
     ]
    },
    {
     "data": {
      "text/html": [
       "<div>\n",
       "<style scoped>\n",
       "    .dataframe tbody tr th:only-of-type {\n",
       "        vertical-align: middle;\n",
       "    }\n",
       "\n",
       "    .dataframe tbody tr th {\n",
       "        vertical-align: top;\n",
       "    }\n",
       "\n",
       "    .dataframe thead th {\n",
       "        text-align: right;\n",
       "    }\n",
       "</style>\n",
       "<table border=\"1\" class=\"dataframe\">\n",
       "  <thead>\n",
       "    <tr style=\"text-align: right;\">\n",
       "      <th></th>\n",
       "      <th>na_sales</th>\n",
       "      <th>rate</th>\n",
       "    </tr>\n",
       "    <tr>\n",
       "      <th>genre</th>\n",
       "      <th></th>\n",
       "      <th></th>\n",
       "    </tr>\n",
       "  </thead>\n",
       "  <tbody>\n",
       "    <tr>\n",
       "      <th>Action</th>\n",
       "      <td>177.84</td>\n",
       "      <td>0.300929</td>\n",
       "    </tr>\n",
       "    <tr>\n",
       "      <th>Shooter</th>\n",
       "      <td>144.77</td>\n",
       "      <td>0.244970</td>\n",
       "    </tr>\n",
       "    <tr>\n",
       "      <th>Sports</th>\n",
       "      <td>81.53</td>\n",
       "      <td>0.137960</td>\n",
       "    </tr>\n",
       "    <tr>\n",
       "      <th>Role-Playing</th>\n",
       "      <td>64.00</td>\n",
       "      <td>0.108297</td>\n",
       "    </tr>\n",
       "    <tr>\n",
       "      <th>Misc</th>\n",
       "      <td>38.19</td>\n",
       "      <td>0.064623</td>\n",
       "    </tr>\n",
       "  </tbody>\n",
       "</table>\n",
       "</div>"
      ],
      "text/plain": [
       "              na_sales      rate\n",
       "genre                           \n",
       "Action          177.84  0.300929\n",
       "Shooter         144.77  0.244970\n",
       "Sports           81.53  0.137960\n",
       "Role-Playing     64.00  0.108297\n",
       "Misc             38.19  0.064623"
      ]
     },
     "metadata": {},
     "output_type": "display_data"
    },
    {
     "name": "stdout",
     "output_type": "stream",
     "text": [
      "Доля продаж пяти самых популярных жанров: 0.86\n"
     ]
    }
   ],
   "source": [
    "# определим 5 самых популярных жанров в регионе и долю продаж по ним\n",
    "for genre in genre_per_region.columns:\n",
    "    genre_per_region['rate'] = genre_per_region[genre] / genre_per_region[genre].sum()\n",
    "    display(genre_per_region.sort_values(by=genre, ascending=False)[[genre, 'rate']].head(5));\n",
    "    print('Доля продаж пяти самых популярных жанров:', genre_per_region\\\n",
    "          .sort_values(by=region, ascending=False).head(5)['rate'].sum().round(2))"
   ]
  },
  {
   "cell_type": "markdown",
   "metadata": {},
   "source": [
    "Мы посчитали количество проданных игр каждого жанра в регионах Северная Америка, Европа и Япония. Проанализировали популярность жанров в регионах, выяснили что в разных регионах популярны разные жанры. Северная Америка и Европа в этом смысле более похожи между собой, а Япония отличается. Жанр Racing популярнее в Европе, в Японии популярен жанр Role-Playing. Указанные данные позволяют сделать вывод, что культурные особенности влияют на выбор жанра игры.\n",
    "\n",
    "Мы составили рейтинг ТОП-5 самых популярных жанров в регионе. В Северной Америке это: Action, Shooter, Sports, Role-Playing, Misc. В Европе: Action, Shooter, Sports, Role-Playing, Racing. В Японии: Role-Playing, Action, Misc, Simulation, Fighting. Доля продаж пяти самых популярных жанров в Японии составляет 77%, в Европе - 82%, в Северной Америке - 86%."
   ]
  },
  {
   "cell_type": "code",
   "execution_count": 36,
   "metadata": {},
   "outputs": [
    {
     "data": {
      "text/html": [
       "<div>\n",
       "<style scoped>\n",
       "    .dataframe tbody tr th:only-of-type {\n",
       "        vertical-align: middle;\n",
       "    }\n",
       "\n",
       "    .dataframe tbody tr th {\n",
       "        vertical-align: top;\n",
       "    }\n",
       "\n",
       "    .dataframe thead th {\n",
       "        text-align: right;\n",
       "    }\n",
       "</style>\n",
       "<table border=\"1\" class=\"dataframe\">\n",
       "  <thead>\n",
       "    <tr style=\"text-align: right;\">\n",
       "      <th></th>\n",
       "      <th>total_sales</th>\n",
       "      <th>na_sales</th>\n",
       "      <th>eu_sales</th>\n",
       "      <th>jp_sales</th>\n",
       "    </tr>\n",
       "    <tr>\n",
       "      <th>rating</th>\n",
       "      <th></th>\n",
       "      <th></th>\n",
       "      <th></th>\n",
       "      <th></th>\n",
       "    </tr>\n",
       "  </thead>\n",
       "  <tbody>\n",
       "    <tr>\n",
       "      <th>undefined</th>\n",
       "      <td>1275</td>\n",
       "      <td>103.31</td>\n",
       "      <td>91.50</td>\n",
       "      <td>108.84</td>\n",
       "    </tr>\n",
       "    <tr>\n",
       "      <th>M</th>\n",
       "      <td>498</td>\n",
       "      <td>231.57</td>\n",
       "      <td>193.96</td>\n",
       "      <td>21.20</td>\n",
       "    </tr>\n",
       "    <tr>\n",
       "      <th>T</th>\n",
       "      <td>412</td>\n",
       "      <td>66.02</td>\n",
       "      <td>52.96</td>\n",
       "      <td>26.02</td>\n",
       "    </tr>\n",
       "    <tr>\n",
       "      <th>E</th>\n",
       "      <td>394</td>\n",
       "      <td>114.37</td>\n",
       "      <td>113.02</td>\n",
       "      <td>28.33</td>\n",
       "    </tr>\n",
       "    <tr>\n",
       "      <th>E10+</th>\n",
       "      <td>306</td>\n",
       "      <td>75.70</td>\n",
       "      <td>55.37</td>\n",
       "      <td>8.19</td>\n",
       "    </tr>\n",
       "  </tbody>\n",
       "</table>\n",
       "</div>"
      ],
      "text/plain": [
       "           total_sales  na_sales  eu_sales  jp_sales\n",
       "rating                                              \n",
       "undefined         1275    103.31     91.50    108.84\n",
       "M                  498    231.57    193.96     21.20\n",
       "T                  412     66.02     52.96     26.02\n",
       "E                  394    114.37    113.02     28.33\n",
       "E10+               306     75.70     55.37      8.19"
      ]
     },
     "metadata": {},
     "output_type": "display_data"
    }
   ],
   "source": [
    "# посчитаем сумму и среднее количество проданных игр каждой возрастной категории по регионам\n",
    "sales_by_rating = data_actual.groupby(by='rating')\\\n",
    "                      .agg({'total_sales': 'count',\\\n",
    "                            'na_sales': 'sum',\\\n",
    "                            'eu_sales': 'sum',\\\n",
    "                            'jp_sales': 'sum'})\\\n",
    "                       .sort_values(by='total_sales', ascending=False)\n",
    "\n",
    "display(sales_by_rating)"
   ]
  },
  {
   "cell_type": "code",
   "execution_count": 37,
   "metadata": {},
   "outputs": [
    {
     "data": {
      "image/png": "[encoded data removed]",
      "text/plain": [
       "<Figure size 1080x360 with 3 Axes>"
      ]
     },
     "metadata": {},
     "output_type": "display_data"
    }
   ],
   "source": [
    "# построим круговые диаграммы долей проданных игр по каждой возрастной категории\n",
    "sales_by_rating[['na_sales', 'eu_sales', 'jp_sales']]\\\n",
    "               .plot(kind='pie', subplots=True, figsize=(15,5), legend=False,\\\n",
    "                     title='Доли проданных игр каждой возрастной категории в регионах');"
   ]
  },
  {
   "cell_type": "code",
   "execution_count": 38,
   "metadata": {},
   "outputs": [
    {
     "data": {
      "image/png": "[encoded data removed]",
      "text/plain": [
       "<Figure size 432x288 with 1 Axes>"
      ]
     },
     "metadata": {},
     "output_type": "display_data"
    }
   ],
   "source": [
    "sales_by_rating[['total_sales']]\\\n",
    "               .plot(kind='pie', subplots=True, legend=False,\\\n",
    "                     title='Доли выпущенных игр по возрастным категориям');"
   ]
  },
  {
   "cell_type": "markdown",
   "metadata": {},
   "source": [
    "Мы посчитали количество проданных игр каждой возрастной категории в регионах Северная Америка, Европа и Япония. Существует большое количество игр, по которым возрастная категория (рейтинг организации ESRB) не определена. В Японии возрастная категория определена для меньше, чем половины проданных игр. В основном организация ESRB ориентирована на Северную Америку и Европу, для более точного анализа игр по  возрастным категориям в Японии нужны данные о рейтинге, который проставляется в Японии.\n",
    "\n",
    "В Северной Америке и Европе распределение количества проданных игр по возрастным категориям примерно одинаково, в Европе продано чуть меньше игр категориии E10+ и чуть больше категории E. Доля продаж игр категории E10+ примерно одинакова во всех регионах. В Японии больше всего продаются игры категории E и T, чуть меньше категории M и существенно меньше категории E10+.\n",
    "\n",
    "Можно сделать вывод, что в Японии в компьютерные игры играют в основном дети, а в Европе и Северной Америке взрослые играют гораздо больше."
   ]
  },
  {
   "cell_type": "markdown",
   "metadata": {},
   "source": [
    "## Проверка гипотез"
   ]
  },
  {
   "cell_type": "markdown",
   "metadata": {},
   "source": [
    "Проверка гипотезы: Средние пользовательские рейтинги платформ Xbox One и PC одинаковые.\n",
    "\n",
    "```\n",
    "H_0: Средний пользовательский рейтинг (user_score) платформы Xbox One (XOne) = cредний пользовательский рейтинг (user_score) платформы PC.\n",
    "H_a: Средний пользовательский рейтинг (user_score) платформы Xbox One (XOne) ≠ cредний пользовательский рейтинг (user_score) платформы PC.\n",
    "alpha = 0.05\n",
    "```"
   ]
  },
  {
   "cell_type": "code",
   "execution_count": 39,
   "metadata": {},
   "outputs": [
    {
     "name": "stdout",
     "output_type": "stream",
     "text": [
      "0.5535080500643661\n",
      "Не получилось отвергнуть нулевую гипотезу \n"
     ]
    }
   ],
   "source": [
    "# results = вызов метода для проверки гипотезы\n",
    "results = st.ttest_ind(data_actual[(data_actual['platform'] =='XOne')\\\n",
    "                                   & (data_actual['user_score'] > 0)]['user_score'],\\\n",
    "                       data_actual[(data_actual['platform'] =='PC')\\\n",
    "                                   & (data_actual['user_score'] > 0)]['user_score'])\n",
    "\n",
    "# alpha = задайте значение уровня значимости\n",
    "alpha = 0.05\n",
    "\n",
    "# вывод значения p-value на экран \n",
    "print(results.pvalue)\n",
    "\n",
    "# условный оператор с выводом строки с ответом\n",
    "if results.pvalue < alpha:\n",
    "    print('Отвергаем нулевую гипотезу ')\n",
    "else:\n",
    "    print('Не получилось отвергнуть нулевую гипотезу ')"
   ]
  },
  {
   "cell_type": "markdown",
   "metadata": {},
   "source": [
    "Проверка гипотезы: Средние пользовательские рейтинги жанров Action и Sports разные.\n",
    "\n",
    "```\n",
    "H_0: Средний пользовательский рейтинг (user_score) жанра Action = cредний пользовательский рейтинг (user_score) жанра Sports.\n",
    "H_a: Средний пользовательский рейтинг (user_score) жанра Action ≠ cредний пользовательский рейтинг (user_score) жанра Sports.\n",
    "alpha = 0.05\n",
    "```"
   ]
  },
  {
   "cell_type": "code",
   "execution_count": 40,
   "metadata": {},
   "outputs": [
    {
     "name": "stdout",
     "output_type": "stream",
     "text": [
      "4.8045233804629176e-26\n",
      "Отвергаем нулевую гипотезу \n"
     ]
    }
   ],
   "source": [
    "# results = вызов метода для проверки гипотезы за актуальный период\n",
    "results = st.ttest_ind(data_actual[(data_actual['genre'] == 'Action')\\\n",
    "                            & (data_actual['user_score'] >= 0)]['user_score'],\n",
    "                       data_actual[(data_actual['genre'] == 'Sports')\\\n",
    "                            & (data_actual['user_score'] >= 0)]['user_score'])\n",
    "\n",
    "# alpha = задайте значение уровня значимости\n",
    "alpha = 0.05\n",
    "\n",
    "# вывод значения p-value на экран \n",
    "print(results.pvalue)\n",
    "\n",
    "# условный оператор с выводом строки с ответом\n",
    "if results.pvalue < alpha:\n",
    "    print('Отвергаем нулевую гипотезу ')\n",
    "else:\n",
    "    print('Не получилось отвергнуть нулевую гипотезу ')"
   ]
  },
  {
   "cell_type": "markdown",
   "metadata": {},
   "source": [
    "Мы проверяли гипотезы:\n",
    "- средние пользовательские рейтинги платформ Xbox One и PC одинаковые;\n",
    "- средние пользовательские рейтинги жанров Action и Sports разные.\n",
    "\n",
    "Пороговое значение alpha задали 0.05.\n",
    "\n",
    "Нулевой гипотезой было, что средний пользовательский рейтинг одинаковый.\n",
    "\n",
    "В первом случае (сравнение платформ Xbox One и PC) нулевую гипотезу не получилось отвергнуть. Значение p-value в этой проверке получилось очень большим.\n",
    "\n",
    "Во втором случае (сравнение жанров Action и Sports) нулевая гипотеза была отвергнута. Значение p-value в этой проверке получилось очень маленьким."
   ]
  },
  {
   "cell_type": "markdown",
   "metadata": {},
   "source": [
    "## Общий вывод"
   ]
  },
  {
   "cell_type": "markdown",
   "metadata": {},
   "source": [
    "Мы провели исследование данных о продажах компьютерных игр, основываясь на имеющихся в нашем распоряжении исторических данных о продажах игр: о платформе, жанре, продажах в различных регионах, оценках пользователей и критиков, возрастной категории от организации ESRB.\n",
    "\n",
    "Целью исследования было выявление закономерностей, определяющих успешность игры.\n",
    "\n",
    "Строки с пропусками в данных года выпуска и название удалили, таких строк было немного, заполнить корректным значением невозможно.\n",
    "\n",
    "Обнаружили, что по значительной части игр данные об оценках пользователей и критиков, а также о возрастной категории от организации ESRB не представлены, в целом такие данные представляют только 17 из 31 найденных платформ. Решили не заполнять данные по оценкам пользователей и критиков, так как такая оценка субъективна. Столбец `rating` заполнили индикаторным значением `undefined`.\n",
    "\n",
    "Анализ продаж игр по годам показал, что в 2005 - 2011 годах были самые большие продажи игр, потом продажи существенно снизились и тенденция к снижению продолжается. В дальнейшем для анализа мы брали данные за 2012 - 2016 годы.\n",
    "\n",
    "Мы нашли 9 существующих на 2016 год платформ, проанализировали продажи по ним по годам, увидели что продажи по всем платформам падают. Не так сильно падают продажи игр на платформах PSV и Wii. Нашли платформы с самыми большими продажами за последние 5 лет. Создали список 5 таких платформ, в него вошли следующие платфомы: PS4, PS3, X360, 3DS, XOne.\n",
    "\n",
    "У платформы PS3 самый большой разброс в продажах по годам. С 2013 по 2015 год эта платформа сильно упала. В целом у самых популярных платформ сильнее всех упали продажи за анализируемый период. Медианное количество продаж игр по годам на платформе PS3 меньше, чем на платформе PS4.\n",
    "\n",
    "Анализ распределения глобальных продаж по платформам показал, что в продажах игр существуют сильные выбросы, то есть небольшое количество игр продается существенно лучше других. Если говорить о медианном количестве продаж каждой игры, то больше всего оно у платформы X360, далее следуют платформы Wii и XOne, еще чуть ниже WiiU, PS3 и PS4.\n",
    "\n",
    "Потенциально самыми прибыльными платформами мы считаем следуюие: X360, PS4, Wii, XOne, PS3, WiiU.\n",
    "\n",
    "Анализ влияния оценов критиков и пользователей на продажи показал, что большое количество продаж есть у игр с более высокими оценками пользователей и критиков. Но тем не менее есть игры с высокими оценками и низкими продажами. Существует более сильная зависимость между оценкой критиков и продажами, чем между оценкой пользоваталей и продажами, но в общем зависимость между этими показателями не большая.\n",
    "\n",
    "Анализ распределения распределение продаж по жанрам выявил, что четыре самых популярных жанра, в которых выпускаются игры (Action, Shooter, Role-Playing, Sports), также лидируют и по продажам.\n",
    "\n",
    "Среднее количество продаж каждой игры лучше других в жанре Shooter, а также в не самом популярном жанре Platform.\n",
    "\n",
    "Мы проанализировали продажи в зависимости от региона: Северная Америка, Европа и Япония. Больше всего игр продается в Северной Америке и Европе, меньше - в Японии.\n",
    "\n",
    "Анализ популярности платформ в регионах выявил, что Северная Америка и Европа в этом смысле более похожи между собой, а Япония существенно отличается. Такие платформы как 3DS и PSV больше ориенированы на Японию, что следует учитывать при планировании продаж.\n",
    "\n",
    "Мы составили рейтинг ТОП-5 самых популярных платформ в регионе. В Северной Америке это: X360, PS4, PS3, XOne, 3DS. В Европе: PS4, PS3, X360, XOne, 3DS. В Японии: 3DS, PS3, PSV, PS4, WiiU. Доля продаж пяти самых популярных платформ в Японии составляет 97%, в Северной Америке 85%, в Европе - 83%.\n",
    "\n",
    "Анализ популярности жанров игр в регионах также выявил, что Северная Америка и Европа в этом смысле более похожи между собой, а Япония отличается. Жанр Racing популярнее в Европе, в Японии популярен жанр Role-Playing.\n",
    "\n",
    "Мы составили рейтинг ТОП-5 самых популярных жанров в регионе. В Северной Америке это: Action, Shooter, Sports, Role-Playing, Misc. В Европе: Action, Shooter, Sports, Role-Playing, Racing. В Японии: Role-Playing, Action, Misc, Simulation, Fighting. Доля продаж пяти самых популярных жанров в Японии составляет 77%, в Европе - 82%, в Северной Америке - 86%.\n",
    "\n",
    "Мы посмотрели на продажи игр по возрастным категориям (рейтинг организации ESRB) в регионах. Существует большое количество игр, по которым возрастная категория не определена. В Японии возрастная категория определена для меньше, чем половины проданных игр.\n",
    "\n",
    "В Северной Америке и Европе распределение количества проданных игр по возрастным категориям примерно одинаково, в Европе продано чуть меньше игр категориии E10+ и чуть больше категории E.Доля продаж игр категории E10+ примерно одинакова во всех регионах. В Японии больше всего продаются игры категории E и T, чуть меньше категории M и существенно меньше категории E10+.\n",
    "\n",
    "Можно сделать вывод, что в Японии в компьютерные игры играют в основном дети, а в Европе и Северной Америке взрослые играют гораздо больше. Для более точного анализа игр по  возрастным категориям в Японии нужны данные о рейтинге, который проставляется в Японии.\n",
    "\n",
    "Мы проверили следующие гипотезы:\n",
    "- средние пользовательские рейтинги платформ Xbox One и PC одинаковые;\n",
    "- средние пользовательские рейтинги жанров Action и Sports одинаковые.\n",
    "\n",
    "В первом случае (сравнение платформ Xbox One и PC) гипотезу о том, что средний пользовательский рейтинг одинаковый не получилось отвергнуть. \n",
    "\n",
    "Во втором случае (сравнение жанров Action и Sports) гипотеза была отвергнута."
   ]
  }
 ],
 "metadata": {
  "ExecuteTimeLog": [
   {
    "duration": 796,
    "start_time": "2022-09-05T17:01:05.984Z"
   },
   {
    "duration": 107,
    "start_time": "2022-09-05T17:02:38.419Z"
   },
   {
    "duration": 68,
    "start_time": "2022-09-05T17:03:53.581Z"
   },
   {
    "duration": 4,
    "start_time": "2022-09-05T17:10:03.987Z"
   },
   {
    "duration": 13,
    "start_time": "2022-09-05T17:10:20.703Z"
   },
   {
    "duration": 85,
    "start_time": "2022-09-05T17:12:33.179Z"
   },
   {
    "duration": 4,
    "start_time": "2022-09-05T17:12:59.877Z"
   },
   {
    "duration": 4,
    "start_time": "2022-09-05T17:13:09.502Z"
   },
   {
    "duration": 5,
    "start_time": "2022-09-05T17:13:37.907Z"
   },
   {
    "duration": 7,
    "start_time": "2022-09-05T17:14:11.006Z"
   },
   {
    "duration": 7,
    "start_time": "2022-09-05T17:14:18.804Z"
   },
   {
    "duration": 8,
    "start_time": "2022-09-05T17:14:37.623Z"
   },
   {
    "duration": 9,
    "start_time": "2022-09-05T17:15:30.509Z"
   },
   {
    "duration": 3,
    "start_time": "2022-09-05T17:16:25.847Z"
   },
   {
    "duration": 5,
    "start_time": "2022-09-05T17:16:40.900Z"
   },
   {
    "duration": 8,
    "start_time": "2022-09-05T17:16:58.876Z"
   },
   {
    "duration": 9,
    "start_time": "2022-09-05T17:17:15.119Z"
   },
   {
    "duration": 6,
    "start_time": "2022-09-05T17:17:27.180Z"
   },
   {
    "duration": 19,
    "start_time": "2022-09-05T17:20:08.683Z"
   },
   {
    "duration": 17,
    "start_time": "2022-09-05T17:23:19.557Z"
   },
   {
    "duration": 75,
    "start_time": "2022-09-05T17:27:43.474Z"
   },
   {
    "duration": 11,
    "start_time": "2022-09-05T17:28:02.780Z"
   },
   {
    "duration": 10,
    "start_time": "2022-09-05T17:28:20.484Z"
   },
   {
    "duration": 8,
    "start_time": "2022-09-05T17:28:41.556Z"
   },
   {
    "duration": 25,
    "start_time": "2022-09-05T17:29:01.394Z"
   },
   {
    "duration": 24,
    "start_time": "2022-09-05T17:31:15.308Z"
   },
   {
    "duration": 17,
    "start_time": "2022-09-05T17:31:24.214Z"
   },
   {
    "duration": 18,
    "start_time": "2022-09-05T17:31:53.243Z"
   },
   {
    "duration": 17,
    "start_time": "2022-09-05T17:32:56.886Z"
   },
   {
    "duration": 18,
    "start_time": "2022-09-05T17:34:02.509Z"
   },
   {
    "duration": 10,
    "start_time": "2022-09-05T17:38:04.427Z"
   },
   {
    "duration": 7,
    "start_time": "2022-09-05T17:38:42.096Z"
   },
   {
    "duration": 684,
    "start_time": "2022-09-05T17:38:57.060Z"
   },
   {
    "duration": 5,
    "start_time": "2022-09-05T17:39:39.016Z"
   },
   {
    "duration": 7,
    "start_time": "2022-09-05T17:40:35.952Z"
   },
   {
    "duration": 70,
    "start_time": "2022-09-05T17:49:03.769Z"
   },
   {
    "duration": 26,
    "start_time": "2022-09-05T17:49:17.717Z"
   },
   {
    "duration": 17,
    "start_time": "2022-09-05T17:49:39.846Z"
   },
   {
    "duration": 14,
    "start_time": "2022-09-05T17:50:24.919Z"
   },
   {
    "duration": 35,
    "start_time": "2022-09-05T17:50:39.758Z"
   },
   {
    "duration": 5,
    "start_time": "2022-09-05T17:53:05.557Z"
   },
   {
    "duration": 7,
    "start_time": "2022-09-05T17:53:46.750Z"
   },
   {
    "duration": 10,
    "start_time": "2022-09-05T17:54:03.436Z"
   },
   {
    "duration": 9,
    "start_time": "2022-09-05T17:54:27.178Z"
   },
   {
    "duration": 7,
    "start_time": "2022-09-05T17:54:50.539Z"
   },
   {
    "duration": 25,
    "start_time": "2022-09-05T17:56:19.458Z"
   },
   {
    "duration": 8,
    "start_time": "2022-09-05T18:04:53.672Z"
   },
   {
    "duration": 7,
    "start_time": "2022-09-05T18:05:23.112Z"
   },
   {
    "duration": 9,
    "start_time": "2022-09-05T18:05:52.036Z"
   },
   {
    "duration": 7,
    "start_time": "2022-09-05T18:06:15.302Z"
   },
   {
    "duration": 7,
    "start_time": "2022-09-05T18:06:47.803Z"
   },
   {
    "duration": 7,
    "start_time": "2022-09-05T18:07:02.280Z"
   },
   {
    "duration": 3,
    "start_time": "2022-09-05T18:17:01.920Z"
   },
   {
    "duration": 7,
    "start_time": "2022-09-05T18:17:13.502Z"
   },
   {
    "duration": 17,
    "start_time": "2022-09-05T18:17:32.566Z"
   },
   {
    "duration": 12,
    "start_time": "2022-09-05T18:18:17.476Z"
   },
   {
    "duration": 14,
    "start_time": "2022-09-05T18:20:17.309Z"
   },
   {
    "duration": 20,
    "start_time": "2022-09-05T18:22:34.062Z"
   },
   {
    "duration": 17,
    "start_time": "2022-09-05T18:22:51.535Z"
   },
   {
    "duration": 17,
    "start_time": "2022-09-05T18:23:16.330Z"
   },
   {
    "duration": 15,
    "start_time": "2022-09-05T18:23:29.360Z"
   },
   {
    "duration": 3,
    "start_time": "2022-09-05T18:23:58.952Z"
   },
   {
    "duration": 78,
    "start_time": "2022-09-05T18:23:58.960Z"
   },
   {
    "duration": 4,
    "start_time": "2022-09-05T18:23:59.039Z"
   },
   {
    "duration": 30,
    "start_time": "2022-09-05T18:23:59.044Z"
   },
   {
    "duration": 24,
    "start_time": "2022-09-05T18:24:02.106Z"
   },
   {
    "duration": 10,
    "start_time": "2022-09-05T18:24:35.687Z"
   },
   {
    "duration": 14,
    "start_time": "2022-09-05T18:24:58.868Z"
   },
   {
    "duration": 8,
    "start_time": "2022-09-05T18:25:24.633Z"
   },
   {
    "duration": 8,
    "start_time": "2022-09-05T18:26:06.961Z"
   },
   {
    "duration": 14,
    "start_time": "2022-09-05T18:28:43.465Z"
   },
   {
    "duration": 22,
    "start_time": "2022-09-05T18:29:55.266Z"
   },
   {
    "duration": 20,
    "start_time": "2022-09-05T18:30:04.306Z"
   },
   {
    "duration": 26,
    "start_time": "2022-09-05T18:30:42.390Z"
   },
   {
    "duration": 21,
    "start_time": "2022-09-05T18:30:51.815Z"
   },
   {
    "duration": 3,
    "start_time": "2022-09-05T18:31:51.331Z"
   },
   {
    "duration": 77,
    "start_time": "2022-09-05T18:31:51.338Z"
   },
   {
    "duration": 3,
    "start_time": "2022-09-05T18:31:51.417Z"
   },
   {
    "duration": 17,
    "start_time": "2022-09-05T18:32:01.543Z"
   },
   {
    "duration": 21,
    "start_time": "2022-09-05T18:32:16.516Z"
   },
   {
    "duration": 11,
    "start_time": "2022-09-05T18:32:50.636Z"
   },
   {
    "duration": 20,
    "start_time": "2022-09-05T18:33:17.352Z"
   },
   {
    "duration": 14,
    "start_time": "2022-09-05T18:33:40.729Z"
   },
   {
    "duration": 390,
    "start_time": "2022-09-05T18:52:48.997Z"
   },
   {
    "duration": 79,
    "start_time": "2022-09-05T18:52:57.144Z"
   },
   {
    "duration": 766,
    "start_time": "2022-09-05T18:53:13.281Z"
   },
   {
    "duration": 12,
    "start_time": "2022-09-05T18:55:26.766Z"
   },
   {
    "duration": 3,
    "start_time": "2022-09-05T18:56:28.695Z"
   },
   {
    "duration": 3,
    "start_time": "2022-09-05T18:56:30.851Z"
   },
   {
    "duration": 19,
    "start_time": "2022-09-05T18:56:32.128Z"
   },
   {
    "duration": 7,
    "start_time": "2022-09-05T18:56:43.575Z"
   },
   {
    "duration": 18,
    "start_time": "2022-09-05T18:56:49.895Z"
   },
   {
    "duration": 18,
    "start_time": "2022-09-05T18:57:12.877Z"
   },
   {
    "duration": 17,
    "start_time": "2022-09-05T18:57:20.697Z"
   },
   {
    "duration": 15,
    "start_time": "2022-09-05T18:59:01.530Z"
   },
   {
    "duration": 6,
    "start_time": "2022-09-05T19:01:03.303Z"
   },
   {
    "duration": 7,
    "start_time": "2022-09-05T19:01:37.052Z"
   },
   {
    "duration": 8,
    "start_time": "2022-09-05T19:03:12.450Z"
   },
   {
    "duration": 8,
    "start_time": "2022-09-05T19:03:35.168Z"
   },
   {
    "duration": 20,
    "start_time": "2022-09-05T19:05:13.173Z"
   },
   {
    "duration": 6,
    "start_time": "2022-09-05T19:05:57.137Z"
   },
   {
    "duration": 959,
    "start_time": "2022-09-05T19:07:13.739Z"
   },
   {
    "duration": 903,
    "start_time": "2022-09-05T19:07:52.076Z"
   },
   {
    "duration": 6,
    "start_time": "2022-09-05T19:12:43.640Z"
   },
   {
    "duration": 9,
    "start_time": "2022-09-05T19:14:06.471Z"
   },
   {
    "duration": 7,
    "start_time": "2022-09-05T19:17:20.242Z"
   },
   {
    "duration": 11,
    "start_time": "2022-09-05T19:19:12.391Z"
   },
   {
    "duration": 14,
    "start_time": "2022-09-05T19:20:47.606Z"
   },
   {
    "duration": 5,
    "start_time": "2022-09-05T19:23:39.632Z"
   },
   {
    "duration": 20,
    "start_time": "2022-09-05T19:23:46.084Z"
   },
   {
    "duration": 4,
    "start_time": "2022-09-05T19:25:28.446Z"
   },
   {
    "duration": 59,
    "start_time": "2022-09-05T19:39:02.473Z"
   },
   {
    "duration": 45,
    "start_time": "2022-09-05T19:40:01.238Z"
   },
   {
    "duration": 479,
    "start_time": "2022-09-05T19:42:24.642Z"
   },
   {
    "duration": 54,
    "start_time": "2022-09-05T19:43:07.369Z"
   },
   {
    "duration": 60,
    "start_time": "2022-09-05T19:44:04.904Z"
   },
   {
    "duration": 69,
    "start_time": "2022-09-05T19:44:57.741Z"
   },
   {
    "duration": 8,
    "start_time": "2022-09-05T19:45:21.761Z"
   },
   {
    "duration": 10,
    "start_time": "2022-09-05T19:45:51.361Z"
   },
   {
    "duration": 8,
    "start_time": "2022-09-05T19:46:20.509Z"
   },
   {
    "duration": 11,
    "start_time": "2022-09-05T19:46:41.454Z"
   },
   {
    "duration": 4,
    "start_time": "2022-09-05T19:48:08.867Z"
   },
   {
    "duration": 26,
    "start_time": "2022-09-05T19:48:15.734Z"
   },
   {
    "duration": 19,
    "start_time": "2022-09-05T19:48:28.953Z"
   },
   {
    "duration": 122,
    "start_time": "2022-09-05T19:51:00.149Z"
   },
   {
    "duration": 199,
    "start_time": "2022-09-05T19:51:39.573Z"
   },
   {
    "duration": 172,
    "start_time": "2022-09-05T19:51:52.102Z"
   },
   {
    "duration": 7,
    "start_time": "2022-09-05T19:53:16.735Z"
   },
   {
    "duration": 203,
    "start_time": "2022-09-05T19:54:13.298Z"
   },
   {
    "duration": 262,
    "start_time": "2022-09-05T19:54:26.343Z"
   },
   {
    "duration": 191,
    "start_time": "2022-09-05T19:54:36.362Z"
   },
   {
    "duration": 256,
    "start_time": "2022-09-05T19:54:50.239Z"
   },
   {
    "duration": 19,
    "start_time": "2022-09-05T20:00:34.508Z"
   },
   {
    "duration": 11,
    "start_time": "2022-09-05T20:00:49.906Z"
   },
   {
    "duration": 6,
    "start_time": "2022-09-05T20:01:57.320Z"
   },
   {
    "duration": 8,
    "start_time": "2022-09-05T20:02:12.935Z"
   },
   {
    "duration": 9,
    "start_time": "2022-09-05T20:02:35.723Z"
   },
   {
    "duration": 8,
    "start_time": "2022-09-05T20:03:14.474Z"
   },
   {
    "duration": 8,
    "start_time": "2022-09-05T20:04:31.871Z"
   },
   {
    "duration": 148,
    "start_time": "2022-09-05T20:07:28.875Z"
   },
   {
    "duration": 170,
    "start_time": "2022-09-05T20:07:45.305Z"
   },
   {
    "duration": 181,
    "start_time": "2022-09-05T20:08:05.202Z"
   },
   {
    "duration": 190,
    "start_time": "2022-09-05T20:09:09.188Z"
   },
   {
    "duration": 179,
    "start_time": "2022-09-05T20:09:25.623Z"
   },
   {
    "duration": 54,
    "start_time": "2022-09-06T02:41:44.660Z"
   },
   {
    "duration": 40,
    "start_time": "2022-09-06T02:42:00.593Z"
   },
   {
    "duration": 1066,
    "start_time": "2022-09-06T02:42:07.534Z"
   },
   {
    "duration": 178,
    "start_time": "2022-09-06T02:42:08.602Z"
   },
   {
    "duration": 714,
    "start_time": "2022-09-06T02:42:08.783Z"
   },
   {
    "duration": 10,
    "start_time": "2022-09-06T02:42:09.500Z"
   },
   {
    "duration": 3,
    "start_time": "2022-09-06T02:42:09.512Z"
   },
   {
    "duration": 19,
    "start_time": "2022-09-06T02:42:09.516Z"
   },
   {
    "duration": 6,
    "start_time": "2022-09-06T02:42:09.536Z"
   },
   {
    "duration": 43,
    "start_time": "2022-09-06T02:42:09.543Z"
   },
   {
    "duration": 7,
    "start_time": "2022-09-06T02:42:09.587Z"
   },
   {
    "duration": 14,
    "start_time": "2022-09-06T02:42:21.726Z"
   },
   {
    "duration": 726,
    "start_time": "2022-09-06T02:47:29.173Z"
   },
   {
    "duration": 6,
    "start_time": "2022-09-06T02:47:49.779Z"
   },
   {
    "duration": 14,
    "start_time": "2022-09-06T02:49:49.224Z"
   },
   {
    "duration": 12,
    "start_time": "2022-09-06T02:55:32.384Z"
   },
   {
    "duration": 68,
    "start_time": "2022-09-06T03:00:04.743Z"
   },
   {
    "duration": 14,
    "start_time": "2022-09-06T03:00:12.457Z"
   },
   {
    "duration": 4,
    "start_time": "2022-09-06T03:00:30.216Z"
   },
   {
    "duration": 54,
    "start_time": "2022-09-06T03:00:41.496Z"
   },
   {
    "duration": 8,
    "start_time": "2022-09-06T03:03:38.018Z"
   },
   {
    "duration": 52,
    "start_time": "2022-09-06T03:04:44.866Z"
   },
   {
    "duration": 11,
    "start_time": "2022-09-06T03:04:54.712Z"
   },
   {
    "duration": 14,
    "start_time": "2022-09-06T03:05:04.516Z"
   },
   {
    "duration": 14,
    "start_time": "2022-09-06T03:05:07.777Z"
   },
   {
    "duration": 469,
    "start_time": "2022-09-06T03:05:08.364Z"
   },
   {
    "duration": 30,
    "start_time": "2022-09-06T03:07:07.620Z"
   },
   {
    "duration": 952,
    "start_time": "2022-09-06T03:07:20.666Z"
   },
   {
    "duration": 45,
    "start_time": "2022-09-06T03:07:26.217Z"
   },
   {
    "duration": 28,
    "start_time": "2022-09-06T03:07:50.909Z"
   },
   {
    "duration": 8,
    "start_time": "2022-09-06T03:08:32.380Z"
   },
   {
    "duration": 6,
    "start_time": "2022-09-06T03:08:40.154Z"
   },
   {
    "duration": 117,
    "start_time": "2022-09-06T03:09:30.439Z"
   },
   {
    "duration": 221,
    "start_time": "2022-09-06T03:14:44.199Z"
   },
   {
    "duration": 316,
    "start_time": "2022-09-06T03:15:01.050Z"
   },
   {
    "duration": 758,
    "start_time": "2022-09-06T03:15:09.953Z"
   },
   {
    "duration": 662,
    "start_time": "2022-09-06T03:15:27.460Z"
   },
   {
    "duration": 634,
    "start_time": "2022-09-06T03:16:57.573Z"
   },
   {
    "duration": 7,
    "start_time": "2022-09-06T03:18:51.831Z"
   },
   {
    "duration": 8,
    "start_time": "2022-09-06T03:20:20.366Z"
   },
   {
    "duration": 7,
    "start_time": "2022-09-06T03:20:43.247Z"
   },
   {
    "duration": 11,
    "start_time": "2022-09-06T03:21:24.529Z"
   },
   {
    "duration": 18,
    "start_time": "2022-09-06T03:22:09.277Z"
   },
   {
    "duration": 13,
    "start_time": "2022-09-06T03:24:51.723Z"
   },
   {
    "duration": 17,
    "start_time": "2022-09-06T03:25:22.902Z"
   },
   {
    "duration": 20,
    "start_time": "2022-09-06T03:26:05.490Z"
   },
   {
    "duration": 10,
    "start_time": "2022-09-06T03:27:10.343Z"
   },
   {
    "duration": 13,
    "start_time": "2022-09-06T03:27:42.082Z"
   },
   {
    "duration": 236,
    "start_time": "2022-09-06T03:28:36.172Z"
   },
   {
    "duration": 235,
    "start_time": "2022-09-06T03:28:48.812Z"
   },
   {
    "duration": 227,
    "start_time": "2022-09-06T03:29:56.323Z"
   },
   {
    "duration": 230,
    "start_time": "2022-09-06T03:34:42.115Z"
   },
   {
    "duration": 291,
    "start_time": "2022-09-06T03:35:02.046Z"
   },
   {
    "duration": 318,
    "start_time": "2022-09-06T03:36:26.162Z"
   },
   {
    "duration": 254,
    "start_time": "2022-09-06T03:37:00.614Z"
   },
   {
    "duration": 237,
    "start_time": "2022-09-06T03:37:28.630Z"
   },
   {
    "duration": 3,
    "start_time": "2022-09-06T03:38:41.395Z"
   },
   {
    "duration": 4,
    "start_time": "2022-09-06T03:38:51.389Z"
   },
   {
    "duration": 4,
    "start_time": "2022-09-06T03:39:18.772Z"
   },
   {
    "duration": 9,
    "start_time": "2022-09-06T03:39:36.075Z"
   },
   {
    "duration": 2,
    "start_time": "2022-09-06T03:39:56.139Z"
   },
   {
    "duration": 4,
    "start_time": "2022-09-06T03:40:05.566Z"
   },
   {
    "duration": 621,
    "start_time": "2022-09-06T03:42:53.345Z"
   },
   {
    "duration": 211,
    "start_time": "2022-09-06T03:50:00.097Z"
   },
   {
    "duration": 54,
    "start_time": "2022-09-06T03:50:33.236Z"
   },
   {
    "duration": 46,
    "start_time": "2022-09-06T03:51:03.790Z"
   },
   {
    "duration": 57,
    "start_time": "2022-09-06T03:51:24.503Z"
   },
   {
    "duration": 42,
    "start_time": "2022-09-06T03:51:49.238Z"
   },
   {
    "duration": 75,
    "start_time": "2022-09-06T03:52:19.050Z"
   },
   {
    "duration": 45,
    "start_time": "2022-09-06T03:52:48.412Z"
   },
   {
    "duration": 188,
    "start_time": "2022-09-06T03:53:04.001Z"
   },
   {
    "duration": 47,
    "start_time": "2022-09-06T03:53:40.016Z"
   },
   {
    "duration": 52,
    "start_time": "2022-09-06T03:53:57.369Z"
   },
   {
    "duration": 49,
    "start_time": "2022-09-06T03:54:13.277Z"
   },
   {
    "duration": 218,
    "start_time": "2022-09-06T03:54:42.241Z"
   },
   {
    "duration": 158,
    "start_time": "2022-09-06T03:55:12.167Z"
   },
   {
    "duration": 5,
    "start_time": "2022-09-06T03:56:20.252Z"
   },
   {
    "duration": 171,
    "start_time": "2022-09-06T04:01:20.520Z"
   },
   {
    "duration": 3,
    "start_time": "2022-09-06T04:01:37.015Z"
   },
   {
    "duration": 3028,
    "start_time": "2022-09-06T04:04:13.670Z"
   },
   {
    "duration": 391,
    "start_time": "2022-09-06T04:05:36.340Z"
   },
   {
    "duration": 32,
    "start_time": "2022-09-06T04:06:16.426Z"
   },
   {
    "duration": 74,
    "start_time": "2022-09-06T04:06:43.130Z"
   },
   {
    "duration": 64,
    "start_time": "2022-09-06T04:07:08.400Z"
   },
   {
    "duration": 26,
    "start_time": "2022-09-06T04:07:24.464Z"
   },
   {
    "duration": 15,
    "start_time": "2022-09-06T04:08:00.754Z"
   },
   {
    "duration": 13,
    "start_time": "2022-09-06T04:08:51.061Z"
   },
   {
    "duration": 3,
    "start_time": "2022-09-06T04:12:09.956Z"
   },
   {
    "duration": 10,
    "start_time": "2022-09-06T04:12:21.684Z"
   },
   {
    "duration": 4,
    "start_time": "2022-09-06T04:13:08.107Z"
   },
   {
    "duration": 12,
    "start_time": "2022-09-06T04:13:33.369Z"
   },
   {
    "duration": 228,
    "start_time": "2022-09-06T04:14:07.528Z"
   },
   {
    "duration": 3,
    "start_time": "2022-09-06T04:31:32.399Z"
   },
   {
    "duration": 19,
    "start_time": "2022-09-06T04:31:48.598Z"
   },
   {
    "duration": 137,
    "start_time": "2022-09-06T04:36:41.003Z"
   },
   {
    "duration": 16,
    "start_time": "2022-09-06T04:36:51.071Z"
   },
   {
    "duration": 281,
    "start_time": "2022-09-06T04:37:57.431Z"
   },
   {
    "duration": 432,
    "start_time": "2022-09-06T04:38:24.304Z"
   },
   {
    "duration": 368,
    "start_time": "2022-09-06T04:38:32.742Z"
   },
   {
    "duration": 15,
    "start_time": "2022-09-06T04:41:08.301Z"
   },
   {
    "duration": 19,
    "start_time": "2022-09-06T04:41:53.338Z"
   },
   {
    "duration": 13,
    "start_time": "2022-09-06T04:42:49.106Z"
   },
   {
    "duration": 25,
    "start_time": "2022-09-06T04:43:04.219Z"
   },
   {
    "duration": 28,
    "start_time": "2022-09-06T04:47:18.604Z"
   },
   {
    "duration": 3,
    "start_time": "2022-09-06T04:49:26.148Z"
   },
   {
    "duration": 28,
    "start_time": "2022-09-06T04:50:48.625Z"
   },
   {
    "duration": 1411,
    "start_time": "2022-09-06T17:23:49.801Z"
   },
   {
    "duration": 154,
    "start_time": "2022-09-06T17:23:51.218Z"
   },
   {
    "duration": 834,
    "start_time": "2022-09-06T17:23:51.374Z"
   },
   {
    "duration": 14,
    "start_time": "2022-09-06T17:23:52.215Z"
   },
   {
    "duration": 4,
    "start_time": "2022-09-06T17:23:52.231Z"
   },
   {
    "duration": 24,
    "start_time": "2022-09-06T17:23:52.236Z"
   },
   {
    "duration": 7,
    "start_time": "2022-09-06T17:23:52.262Z"
   },
   {
    "duration": 54,
    "start_time": "2022-09-06T17:23:52.271Z"
   },
   {
    "duration": 19,
    "start_time": "2022-09-06T17:23:52.326Z"
   },
   {
    "duration": 15,
    "start_time": "2022-09-06T17:23:52.348Z"
   },
   {
    "duration": 209,
    "start_time": "2022-09-06T17:23:52.364Z"
   },
   {
    "duration": 7,
    "start_time": "2022-09-06T17:23:52.576Z"
   },
   {
    "duration": 26,
    "start_time": "2022-09-06T17:23:52.585Z"
   },
   {
    "duration": 48,
    "start_time": "2022-09-06T17:23:52.613Z"
   },
   {
    "duration": 791,
    "start_time": "2022-09-06T17:23:52.663Z"
   },
   {
    "duration": 201,
    "start_time": "2022-09-06T17:23:53.456Z"
   },
   {
    "duration": 4,
    "start_time": "2022-09-06T17:23:53.659Z"
   },
   {
    "duration": 16,
    "start_time": "2022-09-06T17:23:53.665Z"
   },
   {
    "duration": 26,
    "start_time": "2022-09-06T17:28:46.927Z"
   },
   {
    "duration": 120,
    "start_time": "2022-09-06T17:29:41.018Z"
   },
   {
    "duration": 14,
    "start_time": "2022-09-06T17:30:59.663Z"
   },
   {
    "duration": 9,
    "start_time": "2022-09-06T17:32:04.122Z"
   },
   {
    "duration": 15,
    "start_time": "2022-09-06T17:32:23.293Z"
   },
   {
    "duration": 21,
    "start_time": "2022-09-06T17:34:31.121Z"
   },
   {
    "duration": 14,
    "start_time": "2022-09-06T17:35:08.042Z"
   },
   {
    "duration": 57,
    "start_time": "2022-09-06T17:36:24.415Z"
   },
   {
    "duration": 162,
    "start_time": "2022-09-06T17:36:42.987Z"
   },
   {
    "duration": 9,
    "start_time": "2022-09-06T17:37:34.932Z"
   },
   {
    "duration": 271,
    "start_time": "2022-09-06T17:37:38.481Z"
   },
   {
    "duration": 9,
    "start_time": "2022-09-06T17:44:13.699Z"
   },
   {
    "duration": 30,
    "start_time": "2022-09-06T17:44:19.655Z"
   },
   {
    "duration": 12,
    "start_time": "2022-09-06T17:45:06.642Z"
   },
   {
    "duration": 16,
    "start_time": "2022-09-06T17:46:11.541Z"
   },
   {
    "duration": 382,
    "start_time": "2022-09-06T17:46:55.691Z"
   },
   {
    "duration": 29,
    "start_time": "2022-09-06T17:47:51.319Z"
   },
   {
    "duration": 358,
    "start_time": "2022-09-06T17:48:32.785Z"
   },
   {
    "duration": 540,
    "start_time": "2022-09-06T17:49:54.395Z"
   },
   {
    "duration": 361,
    "start_time": "2022-09-06T17:50:18.653Z"
   },
   {
    "duration": 353,
    "start_time": "2022-09-06T17:50:29.290Z"
   },
   {
    "duration": 381,
    "start_time": "2022-09-06T17:51:15.882Z"
   },
   {
    "duration": 384,
    "start_time": "2022-09-06T17:52:17.946Z"
   },
   {
    "duration": 364,
    "start_time": "2022-09-06T17:52:52.181Z"
   },
   {
    "duration": 636,
    "start_time": "2022-09-06T17:54:27.334Z"
   },
   {
    "duration": 335,
    "start_time": "2022-09-06T17:55:02.734Z"
   },
   {
    "duration": 348,
    "start_time": "2022-09-06T17:55:41.480Z"
   },
   {
    "duration": 1124,
    "start_time": "2022-09-06T17:56:09.087Z"
   },
   {
    "duration": 406,
    "start_time": "2022-09-06T17:56:27.657Z"
   },
   {
    "duration": 1176,
    "start_time": "2022-09-06T17:59:39.893Z"
   },
   {
    "duration": 649,
    "start_time": "2022-09-06T17:59:53.138Z"
   },
   {
    "duration": 1208,
    "start_time": "2022-09-06T18:00:15.201Z"
   },
   {
    "duration": 1505,
    "start_time": "2022-09-06T18:02:39.349Z"
   },
   {
    "duration": 549,
    "start_time": "2022-09-06T18:02:53.299Z"
   },
   {
    "duration": 1974,
    "start_time": "2022-09-06T18:08:13.122Z"
   },
   {
    "duration": 463,
    "start_time": "2022-09-06T18:08:45.563Z"
   },
   {
    "duration": 28,
    "start_time": "2022-09-06T18:09:40.347Z"
   },
   {
    "duration": 321,
    "start_time": "2022-09-06T18:10:35.230Z"
   },
   {
    "duration": 357,
    "start_time": "2022-09-06T18:10:44.678Z"
   },
   {
    "duration": 361,
    "start_time": "2022-09-06T18:10:56.081Z"
   },
   {
    "duration": 337,
    "start_time": "2022-09-06T18:12:51.036Z"
   },
   {
    "duration": 4,
    "start_time": "2022-09-06T18:13:18.338Z"
   },
   {
    "duration": 271,
    "start_time": "2022-09-06T18:13:34.955Z"
   },
   {
    "duration": 19,
    "start_time": "2022-09-06T18:15:08.102Z"
   },
   {
    "duration": 276,
    "start_time": "2022-09-06T18:16:00.151Z"
   },
   {
    "duration": 72,
    "start_time": "2022-09-06T18:17:26.918Z"
   },
   {
    "duration": 44,
    "start_time": "2022-09-06T18:21:40.856Z"
   },
   {
    "duration": 44,
    "start_time": "2022-09-06T18:23:19.133Z"
   },
   {
    "duration": 818,
    "start_time": "2022-09-06T18:23:30.001Z"
   },
   {
    "duration": 343,
    "start_time": "2022-09-06T18:24:01.316Z"
   },
   {
    "duration": 270,
    "start_time": "2022-09-06T18:24:11.858Z"
   },
   {
    "duration": 14,
    "start_time": "2022-09-06T18:28:44.186Z"
   },
   {
    "duration": 13,
    "start_time": "2022-09-06T18:29:28.520Z"
   },
   {
    "duration": 5,
    "start_time": "2022-09-06T18:30:19.290Z"
   },
   {
    "duration": 10,
    "start_time": "2022-09-06T18:30:49.684Z"
   },
   {
    "duration": 12,
    "start_time": "2022-09-06T18:31:34.977Z"
   },
   {
    "duration": 9,
    "start_time": "2022-09-06T18:31:43.489Z"
   },
   {
    "duration": 9,
    "start_time": "2022-09-06T18:31:56.938Z"
   },
   {
    "duration": 9,
    "start_time": "2022-09-06T18:32:08.123Z"
   },
   {
    "duration": 6,
    "start_time": "2022-09-06T18:33:32.774Z"
   },
   {
    "duration": 27,
    "start_time": "2022-09-06T18:33:41.490Z"
   },
   {
    "duration": 19,
    "start_time": "2022-09-06T18:33:58.935Z"
   },
   {
    "duration": 16,
    "start_time": "2022-09-06T18:35:02.655Z"
   },
   {
    "duration": 22,
    "start_time": "2022-09-06T18:35:39.773Z"
   },
   {
    "duration": 81,
    "start_time": "2022-09-06T18:36:58.730Z"
   },
   {
    "duration": 11,
    "start_time": "2022-09-06T18:37:13.686Z"
   },
   {
    "duration": 91,
    "start_time": "2022-09-06T18:38:00.925Z"
   },
   {
    "duration": 11,
    "start_time": "2022-09-06T18:38:15.529Z"
   },
   {
    "duration": 15,
    "start_time": "2022-09-06T18:39:11.045Z"
   },
   {
    "duration": 15,
    "start_time": "2022-09-06T18:39:26.542Z"
   },
   {
    "duration": 1087,
    "start_time": "2022-09-06T18:43:18.177Z"
   },
   {
    "duration": 19,
    "start_time": "2022-09-06T18:43:46.602Z"
   },
   {
    "duration": 13,
    "start_time": "2022-09-06T18:44:13.286Z"
   },
   {
    "duration": 7,
    "start_time": "2022-09-06T18:46:56.167Z"
   },
   {
    "duration": 18,
    "start_time": "2022-09-06T18:47:18.567Z"
   },
   {
    "duration": 33,
    "start_time": "2022-09-06T18:48:36.993Z"
   },
   {
    "duration": 22,
    "start_time": "2022-09-06T18:49:13.489Z"
   },
   {
    "duration": 16,
    "start_time": "2022-09-06T18:49:23.855Z"
   },
   {
    "duration": 20,
    "start_time": "2022-09-06T18:49:33.974Z"
   },
   {
    "duration": 18,
    "start_time": "2022-09-06T18:49:51.844Z"
   },
   {
    "duration": 172,
    "start_time": "2022-09-06T18:54:39.858Z"
   },
   {
    "duration": 9,
    "start_time": "2022-09-06T18:55:53.132Z"
   },
   {
    "duration": 263,
    "start_time": "2022-09-06T18:56:29.983Z"
   },
   {
    "duration": 126,
    "start_time": "2022-09-06T18:58:48.268Z"
   },
   {
    "duration": 130,
    "start_time": "2022-09-06T18:59:10.734Z"
   },
   {
    "duration": 223,
    "start_time": "2022-09-06T18:59:55.831Z"
   },
   {
    "duration": 763,
    "start_time": "2022-09-06T19:03:51.106Z"
   },
   {
    "duration": 771,
    "start_time": "2022-09-06T19:04:27.031Z"
   },
   {
    "duration": 233,
    "start_time": "2022-09-06T19:05:13.783Z"
   },
   {
    "duration": 335,
    "start_time": "2022-09-06T19:05:38.296Z"
   },
   {
    "duration": 283,
    "start_time": "2022-09-06T19:05:44.559Z"
   },
   {
    "duration": 25,
    "start_time": "2022-09-06T19:06:06.840Z"
   },
   {
    "duration": 235,
    "start_time": "2022-09-06T19:06:40.858Z"
   },
   {
    "duration": 238,
    "start_time": "2022-09-06T19:08:04.631Z"
   },
   {
    "duration": 272,
    "start_time": "2022-09-06T19:12:24.368Z"
   },
   {
    "duration": 30,
    "start_time": "2022-09-06T19:15:52.743Z"
   },
   {
    "duration": 173,
    "start_time": "2022-09-06T19:16:13.540Z"
   },
   {
    "duration": 210,
    "start_time": "2022-09-06T19:16:19.048Z"
   },
   {
    "duration": 35,
    "start_time": "2022-09-06T19:16:39.227Z"
   },
   {
    "duration": 14,
    "start_time": "2022-09-06T19:16:55.886Z"
   },
   {
    "duration": 166,
    "start_time": "2022-09-06T19:17:57.593Z"
   },
   {
    "duration": 333,
    "start_time": "2022-09-06T19:19:31.604Z"
   },
   {
    "duration": 9,
    "start_time": "2022-09-06T19:21:15.681Z"
   },
   {
    "duration": 10,
    "start_time": "2022-09-06T19:21:52.140Z"
   },
   {
    "duration": 13,
    "start_time": "2022-09-06T19:22:36.454Z"
   },
   {
    "duration": 10,
    "start_time": "2022-09-06T19:22:47.178Z"
   },
   {
    "duration": 331,
    "start_time": "2022-09-06T19:25:12.790Z"
   },
   {
    "duration": 335,
    "start_time": "2022-09-06T19:25:33.482Z"
   },
   {
    "duration": 315,
    "start_time": "2022-09-06T19:25:55.034Z"
   },
   {
    "duration": 321,
    "start_time": "2022-09-06T19:27:50.790Z"
   },
   {
    "duration": 686,
    "start_time": "2022-09-06T19:28:50.170Z"
   },
   {
    "duration": 317,
    "start_time": "2022-09-06T19:29:19.931Z"
   },
   {
    "duration": 1764,
    "start_time": "2022-09-06T19:32:28.331Z"
   },
   {
    "duration": 14,
    "start_time": "2022-09-06T19:32:38.140Z"
   },
   {
    "duration": 76,
    "start_time": "2022-09-06T19:33:41.056Z"
   },
   {
    "duration": 263,
    "start_time": "2022-09-06T19:33:51.834Z"
   },
   {
    "duration": 263,
    "start_time": "2022-09-06T19:34:22.630Z"
   },
   {
    "duration": 1278,
    "start_time": "2022-09-07T02:32:01.731Z"
   },
   {
    "duration": 173,
    "start_time": "2022-09-07T02:32:04.244Z"
   },
   {
    "duration": 752,
    "start_time": "2022-09-07T02:32:12.185Z"
   },
   {
    "duration": 1066,
    "start_time": "2022-09-07T02:35:38.312Z"
   },
   {
    "duration": 684,
    "start_time": "2022-09-07T02:36:00.260Z"
   },
   {
    "duration": 14,
    "start_time": "2022-09-07T02:36:06.589Z"
   },
   {
    "duration": 6,
    "start_time": "2022-09-07T02:36:08.994Z"
   },
   {
    "duration": 30,
    "start_time": "2022-09-07T02:36:10.336Z"
   },
   {
    "duration": 10,
    "start_time": "2022-09-07T02:36:23.584Z"
   },
   {
    "duration": 30,
    "start_time": "2022-09-07T02:36:25.488Z"
   },
   {
    "duration": 8,
    "start_time": "2022-09-07T02:36:50.909Z"
   },
   {
    "duration": 5,
    "start_time": "2022-09-07T02:39:00.844Z"
   },
   {
    "duration": 148,
    "start_time": "2022-09-07T02:40:30.214Z"
   },
   {
    "duration": 237,
    "start_time": "2022-09-07T02:41:03.186Z"
   },
   {
    "duration": 26,
    "start_time": "2022-09-07T02:44:48.932Z"
   },
   {
    "duration": 20,
    "start_time": "2022-09-07T02:45:00.330Z"
   },
   {
    "duration": 21,
    "start_time": "2022-09-07T02:47:13.945Z"
   },
   {
    "duration": 7,
    "start_time": "2022-09-07T02:49:14.886Z"
   },
   {
    "duration": 5,
    "start_time": "2022-09-07T02:49:22.624Z"
   },
   {
    "duration": 6,
    "start_time": "2022-09-07T02:49:34.685Z"
   },
   {
    "duration": 6,
    "start_time": "2022-09-07T02:50:35.613Z"
   },
   {
    "duration": 13,
    "start_time": "2022-09-07T02:52:22.901Z"
   },
   {
    "duration": 14,
    "start_time": "2022-09-07T02:53:02.814Z"
   },
   {
    "duration": 6,
    "start_time": "2022-09-07T02:53:16.106Z"
   },
   {
    "duration": 8,
    "start_time": "2022-09-07T02:53:24.551Z"
   },
   {
    "duration": 15,
    "start_time": "2022-09-07T02:53:39.937Z"
   },
   {
    "duration": 13,
    "start_time": "2022-09-07T02:54:49.511Z"
   },
   {
    "duration": 14,
    "start_time": "2022-09-07T02:55:04.180Z"
   },
   {
    "duration": 6,
    "start_time": "2022-09-07T02:56:46.382Z"
   },
   {
    "duration": 16,
    "start_time": "2022-09-07T02:56:53.500Z"
   },
   {
    "duration": 171,
    "start_time": "2022-09-07T02:57:19.187Z"
   },
   {
    "duration": 6,
    "start_time": "2022-09-07T02:58:26.710Z"
   },
   {
    "duration": 7,
    "start_time": "2022-09-07T02:58:40.639Z"
   },
   {
    "duration": 8,
    "start_time": "2022-09-07T02:58:58.889Z"
   },
   {
    "duration": 166,
    "start_time": "2022-09-07T03:00:31.478Z"
   },
   {
    "duration": 160,
    "start_time": "2022-09-07T03:01:31.434Z"
   },
   {
    "duration": 159,
    "start_time": "2022-09-07T03:01:58.091Z"
   },
   {
    "duration": 9,
    "start_time": "2022-09-07T03:02:52.679Z"
   },
   {
    "duration": 158,
    "start_time": "2022-09-07T03:03:06.985Z"
   },
   {
    "duration": 163,
    "start_time": "2022-09-07T03:04:29.445Z"
   },
   {
    "duration": 163,
    "start_time": "2022-09-07T03:06:31.995Z"
   },
   {
    "duration": 178,
    "start_time": "2022-09-07T03:06:58.227Z"
   },
   {
    "duration": 4,
    "start_time": "2022-09-07T03:09:09.479Z"
   },
   {
    "duration": 179,
    "start_time": "2022-09-07T03:09:10.380Z"
   },
   {
    "duration": 181,
    "start_time": "2022-09-07T03:09:15.082Z"
   },
   {
    "duration": 288,
    "start_time": "2022-09-07T03:10:33.407Z"
   },
   {
    "duration": 155,
    "start_time": "2022-09-07T03:10:51.450Z"
   },
   {
    "duration": 7,
    "start_time": "2022-09-07T03:10:59.409Z"
   },
   {
    "duration": 7,
    "start_time": "2022-09-07T03:11:05.001Z"
   },
   {
    "duration": 39,
    "start_time": "2022-09-07T03:11:09.723Z"
   },
   {
    "duration": 662,
    "start_time": "2022-09-07T03:11:16.592Z"
   },
   {
    "duration": 10,
    "start_time": "2022-09-07T03:11:25.049Z"
   },
   {
    "duration": 366,
    "start_time": "2022-09-07T03:11:34.189Z"
   },
   {
    "duration": 219,
    "start_time": "2022-09-07T03:11:54.378Z"
   },
   {
    "duration": 15,
    "start_time": "2022-09-07T03:12:32.918Z"
   },
   {
    "duration": 179,
    "start_time": "2022-09-07T03:12:47.668Z"
   },
   {
    "duration": 259,
    "start_time": "2022-09-07T03:13:31.416Z"
   },
   {
    "duration": 287,
    "start_time": "2022-09-07T03:15:45.982Z"
   },
   {
    "duration": 669,
    "start_time": "2022-09-07T03:16:57.521Z"
   },
   {
    "duration": 186,
    "start_time": "2022-09-07T03:17:39.122Z"
   },
   {
    "duration": 238,
    "start_time": "2022-09-07T03:18:32.377Z"
   },
   {
    "duration": 66,
    "start_time": "2022-09-07T03:22:29.605Z"
   },
   {
    "duration": 3,
    "start_time": "2022-09-07T03:22:47.199Z"
   },
   {
    "duration": 3,
    "start_time": "2022-09-07T03:23:09.789Z"
   },
   {
    "duration": 12,
    "start_time": "2022-09-07T03:23:37.663Z"
   },
   {
    "duration": 47,
    "start_time": "2022-09-07T03:23:53.881Z"
   },
   {
    "duration": 18,
    "start_time": "2022-09-07T03:29:45.636Z"
   },
   {
    "duration": 9,
    "start_time": "2022-09-07T03:30:14.305Z"
   },
   {
    "duration": 249,
    "start_time": "2022-09-07T03:30:39.077Z"
   },
   {
    "duration": 252,
    "start_time": "2022-09-07T03:31:16.863Z"
   },
   {
    "duration": 59,
    "start_time": "2022-09-07T03:31:43.321Z"
   },
   {
    "duration": 8,
    "start_time": "2022-09-07T03:32:31.330Z"
   },
   {
    "duration": 2,
    "start_time": "2022-09-07T03:32:45.114Z"
   },
   {
    "duration": 83,
    "start_time": "2022-09-07T03:32:45.121Z"
   },
   {
    "duration": 678,
    "start_time": "2022-09-07T03:32:45.206Z"
   },
   {
    "duration": 11,
    "start_time": "2022-09-07T03:32:45.886Z"
   },
   {
    "duration": 4,
    "start_time": "2022-09-07T03:32:45.899Z"
   },
   {
    "duration": 34,
    "start_time": "2022-09-07T03:32:45.904Z"
   },
   {
    "duration": 6,
    "start_time": "2022-09-07T03:32:45.940Z"
   },
   {
    "duration": 23,
    "start_time": "2022-09-07T03:32:45.948Z"
   },
   {
    "duration": 6,
    "start_time": "2022-09-07T03:32:45.973Z"
   },
   {
    "duration": 8,
    "start_time": "2022-09-07T03:32:45.980Z"
   },
   {
    "duration": 198,
    "start_time": "2022-09-07T03:32:45.990Z"
   },
   {
    "duration": 192,
    "start_time": "2022-09-07T03:32:46.189Z"
   },
   {
    "duration": 164,
    "start_time": "2022-09-07T03:32:46.382Z"
   },
   {
    "duration": 7,
    "start_time": "2022-09-07T03:32:46.548Z"
   },
   {
    "duration": 12,
    "start_time": "2022-09-07T03:32:46.557Z"
   },
   {
    "duration": 36,
    "start_time": "2022-09-07T03:32:46.571Z"
   },
   {
    "duration": 792,
    "start_time": "2022-09-07T03:32:46.608Z"
   },
   {
    "duration": 9,
    "start_time": "2022-09-07T03:32:47.402Z"
   },
   {
    "duration": 306,
    "start_time": "2022-09-07T03:32:47.413Z"
   },
   {
    "duration": 222,
    "start_time": "2022-09-07T03:32:47.720Z"
   },
   {
    "duration": 14,
    "start_time": "2022-09-07T03:32:47.943Z"
   },
   {
    "duration": 181,
    "start_time": "2022-09-07T03:32:47.958Z"
   },
   {
    "duration": 256,
    "start_time": "2022-09-07T03:32:48.141Z"
   },
   {
    "duration": 289,
    "start_time": "2022-09-07T03:32:48.399Z"
   },
   {
    "duration": 55,
    "start_time": "2022-09-07T03:32:48.689Z"
   },
   {
    "duration": 65,
    "start_time": "2022-09-07T03:33:44.888Z"
   },
   {
    "duration": 39,
    "start_time": "2022-09-07T03:34:47.179Z"
   },
   {
    "duration": 49,
    "start_time": "2022-09-07T03:36:38.843Z"
   },
   {
    "duration": 25,
    "start_time": "2022-09-07T03:37:16.127Z"
   },
   {
    "duration": 27,
    "start_time": "2022-09-07T03:37:40.446Z"
   },
   {
    "duration": 22,
    "start_time": "2022-09-07T03:38:37.203Z"
   },
   {
    "duration": 1477,
    "start_time": "2022-09-07T03:38:59.060Z"
   },
   {
    "duration": 5,
    "start_time": "2022-09-07T03:42:44.004Z"
   },
   {
    "duration": 7,
    "start_time": "2022-09-07T03:42:48.719Z"
   },
   {
    "duration": 12,
    "start_time": "2022-09-07T03:43:44.653Z"
   },
   {
    "duration": 4,
    "start_time": "2022-09-07T03:45:42.071Z"
   },
   {
    "duration": 12,
    "start_time": "2022-09-07T03:46:04.651Z"
   },
   {
    "duration": 13,
    "start_time": "2022-09-07T03:46:41.486Z"
   },
   {
    "duration": 15,
    "start_time": "2022-09-07T03:46:59.944Z"
   },
   {
    "duration": 17,
    "start_time": "2022-09-07T03:47:30.465Z"
   },
   {
    "duration": 19,
    "start_time": "2022-09-07T03:47:40.487Z"
   },
   {
    "duration": 20,
    "start_time": "2022-09-07T03:48:20.769Z"
   },
   {
    "duration": 23,
    "start_time": "2022-09-07T03:55:27.280Z"
   },
   {
    "duration": 82,
    "start_time": "2022-09-07T03:56:09.946Z"
   },
   {
    "duration": 76,
    "start_time": "2022-09-07T04:00:27.135Z"
   },
   {
    "duration": 768,
    "start_time": "2022-09-07T04:00:34.158Z"
   },
   {
    "duration": 10,
    "start_time": "2022-09-07T04:00:51.845Z"
   },
   {
    "duration": 4,
    "start_time": "2022-09-07T04:00:55.521Z"
   },
   {
    "duration": 4,
    "start_time": "2022-09-07T04:00:58.434Z"
   },
   {
    "duration": 20,
    "start_time": "2022-09-07T04:00:59.045Z"
   },
   {
    "duration": 5,
    "start_time": "2022-09-07T04:01:07.865Z"
   },
   {
    "duration": 206,
    "start_time": "2022-09-07T04:01:08.908Z"
   },
   {
    "duration": 173,
    "start_time": "2022-09-07T04:01:16.781Z"
   },
   {
    "duration": 3,
    "start_time": "2022-09-07T04:01:25.785Z"
   },
   {
    "duration": 38,
    "start_time": "2022-09-07T04:01:29.361Z"
   },
   {
    "duration": 3,
    "start_time": "2022-09-07T04:01:39.362Z"
   },
   {
    "duration": 24,
    "start_time": "2022-09-07T04:02:03.017Z"
   },
   {
    "duration": 3,
    "start_time": "2022-09-07T04:04:12.031Z"
   },
   {
    "duration": 79,
    "start_time": "2022-09-07T04:04:12.038Z"
   },
   {
    "duration": 680,
    "start_time": "2022-09-07T04:04:12.119Z"
   },
   {
    "duration": 12,
    "start_time": "2022-09-07T04:04:12.801Z"
   },
   {
    "duration": 4,
    "start_time": "2022-09-07T04:04:12.815Z"
   },
   {
    "duration": 25,
    "start_time": "2022-09-07T04:04:12.838Z"
   },
   {
    "duration": 5,
    "start_time": "2022-09-07T04:04:12.865Z"
   },
   {
    "duration": 194,
    "start_time": "2022-09-07T04:04:12.872Z"
   },
   {
    "duration": 184,
    "start_time": "2022-09-07T04:04:13.068Z"
   },
   {
    "duration": 8,
    "start_time": "2022-09-07T04:04:13.255Z"
   },
   {
    "duration": 27,
    "start_time": "2022-09-07T04:04:18.929Z"
   },
   {
    "duration": 38,
    "start_time": "2022-09-07T04:04:42.556Z"
   },
   {
    "duration": 29,
    "start_time": "2022-09-07T04:05:05.105Z"
   },
   {
    "duration": 4,
    "start_time": "2022-09-07T04:05:47.878Z"
   },
   {
    "duration": 90,
    "start_time": "2022-09-07T04:05:47.884Z"
   },
   {
    "duration": 910,
    "start_time": "2022-09-07T04:05:47.976Z"
   },
   {
    "duration": 19,
    "start_time": "2022-09-07T04:05:48.888Z"
   },
   {
    "duration": 5,
    "start_time": "2022-09-07T04:05:48.910Z"
   },
   {
    "duration": 58,
    "start_time": "2022-09-07T04:05:48.917Z"
   },
   {
    "duration": 21,
    "start_time": "2022-09-07T04:05:48.977Z"
   },
   {
    "duration": 268,
    "start_time": "2022-09-07T04:05:49.000Z"
   },
   {
    "duration": 187,
    "start_time": "2022-09-07T04:05:49.270Z"
   },
   {
    "duration": 7,
    "start_time": "2022-09-07T04:05:49.459Z"
   },
   {
    "duration": 10,
    "start_time": "2022-09-07T04:05:53.372Z"
   },
   {
    "duration": 30,
    "start_time": "2022-09-07T04:05:54.269Z"
   },
   {
    "duration": 4,
    "start_time": "2022-09-07T04:06:15.860Z"
   },
   {
    "duration": 102,
    "start_time": "2022-09-07T04:06:15.866Z"
   },
   {
    "duration": 710,
    "start_time": "2022-09-07T04:06:15.970Z"
   },
   {
    "duration": 12,
    "start_time": "2022-09-07T04:06:16.682Z"
   },
   {
    "duration": 4,
    "start_time": "2022-09-07T04:06:16.697Z"
   },
   {
    "duration": 40,
    "start_time": "2022-09-07T04:06:16.702Z"
   },
   {
    "duration": 5,
    "start_time": "2022-09-07T04:06:16.744Z"
   },
   {
    "duration": 188,
    "start_time": "2022-09-07T04:06:16.750Z"
   },
   {
    "duration": 177,
    "start_time": "2022-09-07T04:06:16.940Z"
   },
   {
    "duration": 7,
    "start_time": "2022-09-07T04:06:17.118Z"
   },
   {
    "duration": 7,
    "start_time": "2022-09-07T04:06:19.978Z"
   },
   {
    "duration": 19,
    "start_time": "2022-09-07T04:06:21.598Z"
   },
   {
    "duration": 61,
    "start_time": "2022-09-07T04:06:23.827Z"
   },
   {
    "duration": 24,
    "start_time": "2022-09-07T04:06:59.927Z"
   },
   {
    "duration": 166,
    "start_time": "2022-09-07T04:07:18.988Z"
   },
   {
    "duration": 3,
    "start_time": "2022-09-07T04:07:58.889Z"
   },
   {
    "duration": 106,
    "start_time": "2022-09-07T04:07:58.897Z"
   },
   {
    "duration": 721,
    "start_time": "2022-09-07T04:07:59.006Z"
   },
   {
    "duration": 14,
    "start_time": "2022-09-07T04:07:59.728Z"
   },
   {
    "duration": 4,
    "start_time": "2022-09-07T04:07:59.744Z"
   },
   {
    "duration": 19,
    "start_time": "2022-09-07T04:07:59.749Z"
   },
   {
    "duration": 4,
    "start_time": "2022-09-07T04:07:59.770Z"
   },
   {
    "duration": 195,
    "start_time": "2022-09-07T04:07:59.776Z"
   },
   {
    "duration": 190,
    "start_time": "2022-09-07T04:07:59.973Z"
   },
   {
    "duration": 8,
    "start_time": "2022-09-07T04:08:00.164Z"
   },
   {
    "duration": 27,
    "start_time": "2022-09-07T04:08:00.174Z"
   },
   {
    "duration": 318,
    "start_time": "2022-09-07T04:08:19.348Z"
   },
   {
    "duration": 150,
    "start_time": "2022-09-07T04:09:35.241Z"
   },
   {
    "duration": 4,
    "start_time": "2022-09-07T04:11:01.355Z"
   },
   {
    "duration": 102,
    "start_time": "2022-09-07T04:11:01.362Z"
   },
   {
    "duration": 751,
    "start_time": "2022-09-07T04:11:01.466Z"
   },
   {
    "duration": 26,
    "start_time": "2022-09-07T04:11:02.219Z"
   },
   {
    "duration": 5,
    "start_time": "2022-09-07T04:11:02.247Z"
   },
   {
    "duration": 24,
    "start_time": "2022-09-07T04:11:02.253Z"
   },
   {
    "duration": 5,
    "start_time": "2022-09-07T04:11:02.279Z"
   },
   {
    "duration": 214,
    "start_time": "2022-09-07T04:11:02.285Z"
   },
   {
    "duration": 200,
    "start_time": "2022-09-07T04:11:02.502Z"
   },
   {
    "duration": 11,
    "start_time": "2022-09-07T04:11:02.704Z"
   },
   {
    "duration": 49,
    "start_time": "2022-09-07T04:11:02.717Z"
   },
   {
    "duration": 162,
    "start_time": "2022-09-07T04:11:02.769Z"
   },
   {
    "duration": 170,
    "start_time": "2022-09-07T04:11:02.937Z"
   },
   {
    "duration": 7,
    "start_time": "2022-09-07T04:11:03.109Z"
   },
   {
    "duration": 22,
    "start_time": "2022-09-07T04:11:03.118Z"
   },
   {
    "duration": 38,
    "start_time": "2022-09-07T04:11:03.141Z"
   },
   {
    "duration": 717,
    "start_time": "2022-09-07T04:11:03.181Z"
   },
   {
    "duration": 9,
    "start_time": "2022-09-07T04:11:03.900Z"
   },
   {
    "duration": 308,
    "start_time": "2022-09-07T04:11:03.910Z"
   },
   {
    "duration": 256,
    "start_time": "2022-09-07T04:11:04.219Z"
   },
   {
    "duration": 16,
    "start_time": "2022-09-07T04:11:04.477Z"
   },
   {
    "duration": 202,
    "start_time": "2022-09-07T04:11:04.495Z"
   },
   {
    "duration": 293,
    "start_time": "2022-09-07T04:11:04.698Z"
   },
   {
    "duration": 324,
    "start_time": "2022-09-07T04:11:04.994Z"
   },
   {
    "duration": 25,
    "start_time": "2022-09-07T04:11:05.321Z"
   },
   {
    "duration": 1055,
    "start_time": "2022-09-07T04:14:32.011Z"
   },
   {
    "duration": 2774,
    "start_time": "2022-09-07T04:15:17.207Z"
   },
   {
    "duration": 173,
    "start_time": "2022-09-07T04:17:19.653Z"
   },
   {
    "duration": 31,
    "start_time": "2022-09-07T04:18:26.430Z"
   },
   {
    "duration": 48,
    "start_time": "2022-09-07T04:18:56.928Z"
   },
   {
    "duration": 26,
    "start_time": "2022-09-07T04:19:14.528Z"
   },
   {
    "duration": 4,
    "start_time": "2022-09-07T04:20:03.923Z"
   },
   {
    "duration": 3,
    "start_time": "2022-09-07T04:20:21.127Z"
   },
   {
    "duration": 4,
    "start_time": "2022-09-07T04:20:25.453Z"
   },
   {
    "duration": 26,
    "start_time": "2022-09-07T04:20:36.880Z"
   },
   {
    "duration": 1954,
    "start_time": "2022-09-07T04:21:30.662Z"
   },
   {
    "duration": 584,
    "start_time": "2022-09-07T04:22:26.067Z"
   },
   {
    "duration": 14,
    "start_time": "2022-09-07T04:22:58.537Z"
   },
   {
    "duration": 541,
    "start_time": "2022-09-07T04:23:49.285Z"
   },
   {
    "duration": 20,
    "start_time": "2022-09-07T04:24:48.955Z"
   },
   {
    "duration": 588,
    "start_time": "2022-09-07T04:24:56.123Z"
   },
   {
    "duration": 536,
    "start_time": "2022-09-07T04:26:41.904Z"
   },
   {
    "duration": 526,
    "start_time": "2022-09-07T04:27:19.796Z"
   },
   {
    "duration": 37,
    "start_time": "2022-09-07T04:27:38.296Z"
   },
   {
    "duration": 934,
    "start_time": "2022-09-07T04:30:34.641Z"
   },
   {
    "duration": 52,
    "start_time": "2022-09-07T04:31:52.111Z"
   },
   {
    "duration": 58,
    "start_time": "2022-09-07T04:32:53.538Z"
   },
   {
    "duration": 1263,
    "start_time": "2022-09-07T04:33:30.777Z"
   },
   {
    "duration": 36,
    "start_time": "2022-09-07T04:38:14.846Z"
   },
   {
    "duration": 8,
    "start_time": "2022-09-07T04:40:04.324Z"
   },
   {
    "duration": 7,
    "start_time": "2022-09-07T04:40:59.320Z"
   },
   {
    "duration": 125,
    "start_time": "2022-09-07T04:42:25.397Z"
   },
   {
    "duration": 1305,
    "start_time": "2022-09-07T17:00:41.541Z"
   },
   {
    "duration": 132,
    "start_time": "2022-09-07T17:00:42.848Z"
   },
   {
    "duration": 793,
    "start_time": "2022-09-07T17:00:42.981Z"
   },
   {
    "duration": 13,
    "start_time": "2022-09-07T17:00:43.777Z"
   },
   {
    "duration": 15,
    "start_time": "2022-09-07T17:00:43.791Z"
   },
   {
    "duration": 22,
    "start_time": "2022-09-07T17:00:43.808Z"
   },
   {
    "duration": 5,
    "start_time": "2022-09-07T17:00:43.832Z"
   },
   {
    "duration": 234,
    "start_time": "2022-09-07T17:00:43.838Z"
   },
   {
    "duration": 229,
    "start_time": "2022-09-07T17:00:44.074Z"
   },
   {
    "duration": 9,
    "start_time": "2022-09-07T17:00:44.306Z"
   },
   {
    "duration": 31,
    "start_time": "2022-09-07T17:00:44.317Z"
   },
   {
    "duration": 160,
    "start_time": "2022-09-07T17:00:44.350Z"
   },
   {
    "duration": 202,
    "start_time": "2022-09-07T17:00:44.512Z"
   },
   {
    "duration": 7,
    "start_time": "2022-09-07T17:00:44.716Z"
   },
   {
    "duration": 32,
    "start_time": "2022-09-07T17:00:44.725Z"
   },
   {
    "duration": 59,
    "start_time": "2022-09-07T17:00:44.759Z"
   },
   {
    "duration": 803,
    "start_time": "2022-09-07T17:00:44.820Z"
   },
   {
    "duration": 8,
    "start_time": "2022-09-07T17:00:45.625Z"
   },
   {
    "duration": 413,
    "start_time": "2022-09-07T17:00:45.635Z"
   },
   {
    "duration": 278,
    "start_time": "2022-09-07T17:00:46.049Z"
   },
   {
    "duration": 15,
    "start_time": "2022-09-07T17:00:46.329Z"
   },
   {
    "duration": 216,
    "start_time": "2022-09-07T17:00:46.346Z"
   },
   {
    "duration": 294,
    "start_time": "2022-09-07T17:00:46.564Z"
   },
   {
    "duration": 305,
    "start_time": "2022-09-07T17:00:46.860Z"
   },
   {
    "duration": 1429,
    "start_time": "2022-09-07T17:00:47.167Z"
   },
   {
    "duration": 235,
    "start_time": "2022-09-07T17:00:48.602Z"
   },
   {
    "duration": 107,
    "start_time": "2022-09-07T17:02:08.659Z"
   },
   {
    "duration": 7,
    "start_time": "2022-09-07T17:02:27.524Z"
   },
   {
    "duration": 8,
    "start_time": "2022-09-07T17:02:54.158Z"
   },
   {
    "duration": 8,
    "start_time": "2022-09-07T17:04:07.695Z"
   },
   {
    "duration": 14,
    "start_time": "2022-09-07T17:05:55.247Z"
   },
   {
    "duration": 16,
    "start_time": "2022-09-07T17:06:11.092Z"
   },
   {
    "duration": 581,
    "start_time": "2022-09-07T17:06:34.818Z"
   },
   {
    "duration": 592,
    "start_time": "2022-09-07T17:10:34.313Z"
   },
   {
    "duration": 708,
    "start_time": "2022-09-07T17:10:43.193Z"
   },
   {
    "duration": 19,
    "start_time": "2022-09-07T17:11:40.102Z"
   },
   {
    "duration": 16,
    "start_time": "2022-09-07T17:12:20.085Z"
   },
   {
    "duration": 656,
    "start_time": "2022-09-07T17:12:36.152Z"
   },
   {
    "duration": 672,
    "start_time": "2022-09-07T17:13:31.710Z"
   },
   {
    "duration": 776,
    "start_time": "2022-09-07T17:14:17.530Z"
   },
   {
    "duration": 10,
    "start_time": "2022-09-07T17:15:57.156Z"
   },
   {
    "duration": 7,
    "start_time": "2022-09-07T17:16:01.795Z"
   },
   {
    "duration": 1144,
    "start_time": "2022-09-07T17:18:09.544Z"
   },
   {
    "duration": 708,
    "start_time": "2022-09-07T17:19:05.881Z"
   },
   {
    "duration": 10,
    "start_time": "2022-09-07T17:20:37.560Z"
   },
   {
    "duration": 660,
    "start_time": "2022-09-07T17:21:25.410Z"
   },
   {
    "duration": 14,
    "start_time": "2022-09-07T17:25:24.899Z"
   },
   {
    "duration": 20,
    "start_time": "2022-09-07T17:25:58.358Z"
   },
   {
    "duration": 245,
    "start_time": "2022-09-07T17:27:08.530Z"
   },
   {
    "duration": 916,
    "start_time": "2022-09-07T17:28:00.000Z"
   },
   {
    "duration": 178,
    "start_time": "2022-09-07T17:28:48.084Z"
   },
   {
    "duration": 30,
    "start_time": "2022-09-07T17:40:36.581Z"
   },
   {
    "duration": 86,
    "start_time": "2022-09-07T17:40:45.027Z"
   },
   {
    "duration": 77,
    "start_time": "2022-09-07T17:41:39.987Z"
   },
   {
    "duration": 67,
    "start_time": "2022-09-07T17:42:38.456Z"
   },
   {
    "duration": 66,
    "start_time": "2022-09-07T17:43:11.880Z"
   },
   {
    "duration": 22,
    "start_time": "2022-09-07T17:43:44.433Z"
   },
   {
    "duration": 21,
    "start_time": "2022-09-07T17:44:50.058Z"
   },
   {
    "duration": 187,
    "start_time": "2022-09-07T17:46:42.700Z"
   },
   {
    "duration": 268,
    "start_time": "2022-09-07T17:47:35.937Z"
   },
   {
    "duration": 411,
    "start_time": "2022-09-07T17:48:53.658Z"
   },
   {
    "duration": 222,
    "start_time": "2022-09-07T17:49:10.635Z"
   },
   {
    "duration": 166,
    "start_time": "2022-09-07T17:49:41.810Z"
   },
   {
    "duration": 176,
    "start_time": "2022-09-07T17:50:25.567Z"
   },
   {
    "duration": 140,
    "start_time": "2022-09-07T17:51:25.475Z"
   },
   {
    "duration": 155,
    "start_time": "2022-09-07T17:54:49.448Z"
   },
   {
    "duration": 226,
    "start_time": "2022-09-07T17:56:08.677Z"
   },
   {
    "duration": 476,
    "start_time": "2022-09-07T17:56:56.362Z"
   },
   {
    "duration": 587,
    "start_time": "2022-09-07T17:57:07.266Z"
   },
   {
    "duration": 519,
    "start_time": "2022-09-07T17:57:18.067Z"
   },
   {
    "duration": 18,
    "start_time": "2022-09-07T18:05:26.933Z"
   },
   {
    "duration": 11,
    "start_time": "2022-09-07T18:06:11.510Z"
   },
   {
    "duration": 8,
    "start_time": "2022-09-07T18:06:24.404Z"
   },
   {
    "duration": 15,
    "start_time": "2022-09-07T18:06:52.449Z"
   },
   {
    "duration": 11,
    "start_time": "2022-09-07T18:11:21.860Z"
   },
   {
    "duration": 18,
    "start_time": "2022-09-07T18:11:55.298Z"
   },
   {
    "duration": 52,
    "start_time": "2022-09-07T18:12:10.784Z"
   },
   {
    "duration": 810,
    "start_time": "2022-09-07T18:13:59.202Z"
   },
   {
    "duration": 781,
    "start_time": "2022-09-07T18:14:19.993Z"
   },
   {
    "duration": 33,
    "start_time": "2022-09-07T18:14:38.404Z"
   },
   {
    "duration": 42,
    "start_time": "2022-09-07T18:15:21.056Z"
   },
   {
    "duration": 32,
    "start_time": "2022-09-07T18:15:53.624Z"
   },
   {
    "duration": 548,
    "start_time": "2022-09-07T18:16:12.126Z"
   },
   {
    "duration": 27,
    "start_time": "2022-09-07T18:16:19.337Z"
   },
   {
    "duration": 30,
    "start_time": "2022-09-07T18:17:11.771Z"
   },
   {
    "duration": 511,
    "start_time": "2022-09-07T18:17:18.134Z"
   },
   {
    "duration": 25,
    "start_time": "2022-09-07T18:17:21.661Z"
   },
   {
    "duration": 316,
    "start_time": "2022-09-07T18:20:58.980Z"
   },
   {
    "duration": 274,
    "start_time": "2022-09-07T18:21:06.847Z"
   },
   {
    "duration": 24,
    "start_time": "2022-09-07T18:21:19.670Z"
   },
   {
    "duration": 26,
    "start_time": "2022-09-07T18:31:16.161Z"
   },
   {
    "duration": 39,
    "start_time": "2022-09-07T18:32:40.019Z"
   },
   {
    "duration": 29,
    "start_time": "2022-09-07T18:32:55.856Z"
   },
   {
    "duration": 23,
    "start_time": "2022-09-07T18:33:06.956Z"
   },
   {
    "duration": 32,
    "start_time": "2022-09-07T18:33:15.890Z"
   },
   {
    "duration": 14,
    "start_time": "2022-09-07T18:34:17.363Z"
   },
   {
    "duration": 15,
    "start_time": "2022-09-07T18:34:50.652Z"
   },
   {
    "duration": 15,
    "start_time": "2022-09-07T18:36:54.128Z"
   },
   {
    "duration": 16,
    "start_time": "2022-09-07T18:37:01.930Z"
   },
   {
    "duration": 206,
    "start_time": "2022-09-07T18:40:05.801Z"
   },
   {
    "duration": 799,
    "start_time": "2022-09-07T18:41:38.475Z"
   },
   {
    "duration": 165,
    "start_time": "2022-09-07T18:41:49.157Z"
   },
   {
    "duration": 165,
    "start_time": "2022-09-07T18:46:50.974Z"
   },
   {
    "duration": 166,
    "start_time": "2022-09-07T18:47:03.337Z"
   },
   {
    "duration": 334,
    "start_time": "2022-09-07T18:48:07.606Z"
   },
   {
    "duration": 336,
    "start_time": "2022-09-07T18:48:56.863Z"
   },
   {
    "duration": 1160,
    "start_time": "2022-09-07T18:50:30.825Z"
   },
   {
    "duration": 1282,
    "start_time": "2022-09-07T18:52:30.497Z"
   },
   {
    "duration": 458,
    "start_time": "2022-09-07T18:53:02.481Z"
   },
   {
    "duration": 304,
    "start_time": "2022-09-07T18:55:25.941Z"
   },
   {
    "duration": 162,
    "start_time": "2022-09-07T18:55:55.073Z"
   },
   {
    "duration": 170,
    "start_time": "2022-09-07T18:56:14.979Z"
   },
   {
    "duration": 184,
    "start_time": "2022-09-07T18:57:06.644Z"
   },
   {
    "duration": 174,
    "start_time": "2022-09-07T18:57:56.064Z"
   },
   {
    "duration": 227,
    "start_time": "2022-09-07T18:59:02.348Z"
   },
   {
    "duration": 225,
    "start_time": "2022-09-07T18:59:40.175Z"
   },
   {
    "duration": 202,
    "start_time": "2022-09-07T18:59:49.747Z"
   },
   {
    "duration": 233,
    "start_time": "2022-09-07T19:00:37.786Z"
   },
   {
    "duration": 180,
    "start_time": "2022-09-07T19:01:00.776Z"
   },
   {
    "duration": 150,
    "start_time": "2022-09-07T19:01:05.390Z"
   },
   {
    "duration": 10,
    "start_time": "2022-09-07T19:02:49.377Z"
   },
   {
    "duration": 848,
    "start_time": "2022-09-07T19:03:07.020Z"
   },
   {
    "duration": 1142,
    "start_time": "2022-09-07T19:03:39.878Z"
   },
   {
    "duration": 366,
    "start_time": "2022-09-07T19:04:00.826Z"
   },
   {
    "duration": 23,
    "start_time": "2022-09-07T19:09:08.669Z"
   },
   {
    "duration": 22,
    "start_time": "2022-09-07T19:09:29.500Z"
   },
   {
    "duration": 35,
    "start_time": "2022-09-07T19:10:04.828Z"
   },
   {
    "duration": 24,
    "start_time": "2022-09-07T19:10:55.085Z"
   },
   {
    "duration": 27,
    "start_time": "2022-09-07T19:12:10.123Z"
   },
   {
    "duration": 195,
    "start_time": "2022-09-07T19:14:26.600Z"
   },
   {
    "duration": 153,
    "start_time": "2022-09-07T19:15:09.303Z"
   },
   {
    "duration": 359,
    "start_time": "2022-09-07T19:16:53.233Z"
   },
   {
    "duration": 184,
    "start_time": "2022-09-07T19:17:49.607Z"
   },
   {
    "duration": 69,
    "start_time": "2022-09-07T19:20:09.764Z"
   },
   {
    "duration": 43,
    "start_time": "2022-09-07T19:20:53.792Z"
   },
   {
    "duration": 41,
    "start_time": "2022-09-07T19:21:04.476Z"
   },
   {
    "duration": 100,
    "start_time": "2022-09-07T19:23:31.900Z"
   },
   {
    "duration": 58,
    "start_time": "2022-09-07T19:23:45.875Z"
   },
   {
    "duration": 71,
    "start_time": "2022-09-07T19:24:03.391Z"
   },
   {
    "duration": 51,
    "start_time": "2022-09-07T19:24:14.810Z"
   },
   {
    "duration": 151,
    "start_time": "2022-09-07T19:24:32.244Z"
   },
   {
    "duration": 25,
    "start_time": "2022-09-07T19:24:41.509Z"
   },
   {
    "duration": 30,
    "start_time": "2022-09-07T19:25:20.766Z"
   },
   {
    "duration": 23,
    "start_time": "2022-09-07T19:26:29.398Z"
   },
   {
    "duration": 21,
    "start_time": "2022-09-07T19:26:48.596Z"
   },
   {
    "duration": 48,
    "start_time": "2022-09-07T19:27:35.160Z"
   },
   {
    "duration": 54,
    "start_time": "2022-09-07T19:27:50.812Z"
   },
   {
    "duration": 65,
    "start_time": "2022-09-07T19:29:36.465Z"
   },
   {
    "duration": 36,
    "start_time": "2022-09-07T19:29:53.150Z"
   },
   {
    "duration": 192,
    "start_time": "2022-09-07T19:30:15.555Z"
   },
   {
    "duration": 24,
    "start_time": "2022-09-07T19:30:26.819Z"
   },
   {
    "duration": 26,
    "start_time": "2022-09-07T19:31:17.197Z"
   },
   {
    "duration": 182,
    "start_time": "2022-09-07T19:31:36.540Z"
   },
   {
    "duration": 23,
    "start_time": "2022-09-07T19:33:56.454Z"
   },
   {
    "duration": 26,
    "start_time": "2022-09-07T19:34:15.715Z"
   },
   {
    "duration": 26,
    "start_time": "2022-09-07T19:39:27.157Z"
   },
   {
    "duration": 53,
    "start_time": "2022-09-07T19:39:34.339Z"
   },
   {
    "duration": 26,
    "start_time": "2022-09-07T19:39:48.553Z"
   },
   {
    "duration": 55,
    "start_time": "2022-09-07T19:41:29.519Z"
   },
   {
    "duration": 105,
    "start_time": "2022-09-07T19:41:36.990Z"
   },
   {
    "duration": 23,
    "start_time": "2022-09-07T19:42:32.271Z"
   },
   {
    "duration": 214,
    "start_time": "2022-09-07T19:42:42.801Z"
   },
   {
    "duration": 186,
    "start_time": "2022-09-07T19:42:51.355Z"
   },
   {
    "duration": 139,
    "start_time": "2022-09-07T19:42:58.286Z"
   },
   {
    "duration": 295,
    "start_time": "2022-09-07T19:43:05.942Z"
   },
   {
    "duration": 1335,
    "start_time": "2022-09-08T02:38:58.138Z"
   },
   {
    "duration": 140,
    "start_time": "2022-09-08T02:38:59.475Z"
   },
   {
    "duration": 775,
    "start_time": "2022-09-08T02:38:59.617Z"
   },
   {
    "duration": 21,
    "start_time": "2022-09-08T02:39:00.394Z"
   },
   {
    "duration": 10,
    "start_time": "2022-09-08T02:39:00.417Z"
   },
   {
    "duration": 50,
    "start_time": "2022-09-08T02:39:00.428Z"
   },
   {
    "duration": 6,
    "start_time": "2022-09-08T02:39:00.480Z"
   },
   {
    "duration": 197,
    "start_time": "2022-09-08T02:39:00.488Z"
   },
   {
    "duration": 200,
    "start_time": "2022-09-08T02:39:00.687Z"
   },
   {
    "duration": 8,
    "start_time": "2022-09-08T02:39:00.902Z"
   },
   {
    "duration": 34,
    "start_time": "2022-09-08T02:39:00.913Z"
   },
   {
    "duration": 145,
    "start_time": "2022-09-08T02:39:00.949Z"
   },
   {
    "duration": 201,
    "start_time": "2022-09-08T02:39:01.096Z"
   },
   {
    "duration": 12,
    "start_time": "2022-09-08T02:39:01.299Z"
   },
   {
    "duration": 27,
    "start_time": "2022-09-08T02:39:01.313Z"
   },
   {
    "duration": 61,
    "start_time": "2022-09-08T02:39:01.342Z"
   },
   {
    "duration": 811,
    "start_time": "2022-09-08T02:39:01.404Z"
   },
   {
    "duration": 8,
    "start_time": "2022-09-08T02:39:02.217Z"
   },
   {
    "duration": 401,
    "start_time": "2022-09-08T02:39:02.227Z"
   },
   {
    "duration": 255,
    "start_time": "2022-09-08T02:39:02.630Z"
   },
   {
    "duration": 20,
    "start_time": "2022-09-08T02:39:02.887Z"
   },
   {
    "duration": 208,
    "start_time": "2022-09-08T02:39:02.909Z"
   },
   {
    "duration": 296,
    "start_time": "2022-09-08T02:39:03.119Z"
   },
   {
    "duration": 276,
    "start_time": "2022-09-08T02:39:03.416Z"
   },
   {
    "duration": 1361,
    "start_time": "2022-09-08T02:39:03.702Z"
   },
   {
    "duration": 1031,
    "start_time": "2022-09-08T02:39:05.065Z"
   },
   {
    "duration": 186,
    "start_time": "2022-09-08T02:39:06.098Z"
   },
   {
    "duration": 434,
    "start_time": "2022-09-08T02:39:06.289Z"
   },
   {
    "duration": 26,
    "start_time": "2022-09-08T02:39:06.725Z"
   },
   {
    "duration": 288,
    "start_time": "2022-09-08T02:39:06.753Z"
   },
   {
    "duration": 22,
    "start_time": "2022-09-08T02:39:07.043Z"
   },
   {
    "duration": 189,
    "start_time": "2022-09-08T02:39:07.067Z"
   },
   {
    "duration": 175,
    "start_time": "2022-09-08T02:39:07.257Z"
   },
   {
    "duration": 139,
    "start_time": "2022-09-08T02:39:07.434Z"
   },
   {
    "duration": 274,
    "start_time": "2022-09-08T02:39:07.576Z"
   },
   {
    "duration": 5,
    "start_time": "2022-09-08T02:40:32.751Z"
   },
   {
    "duration": 109,
    "start_time": "2022-09-08T02:46:29.783Z"
   },
   {
    "duration": 7,
    "start_time": "2022-09-08T02:46:40.905Z"
   },
   {
    "duration": 9,
    "start_time": "2022-09-08T02:47:00.810Z"
   },
   {
    "duration": 9,
    "start_time": "2022-09-08T02:47:14.241Z"
   },
   {
    "duration": 8,
    "start_time": "2022-09-08T02:48:10.245Z"
   },
   {
    "duration": 25,
    "start_time": "2022-09-08T02:52:26.995Z"
   },
   {
    "duration": 7,
    "start_time": "2022-09-08T03:10:25.511Z"
   },
   {
    "duration": 6,
    "start_time": "2022-09-08T03:10:45.952Z"
   },
   {
    "duration": 11,
    "start_time": "2022-09-08T03:13:00.853Z"
   },
   {
    "duration": 31,
    "start_time": "2022-09-08T03:15:05.068Z"
   },
   {
    "duration": 112,
    "start_time": "2022-09-08T03:15:14.241Z"
   },
   {
    "duration": 8,
    "start_time": "2022-09-08T03:15:23.586Z"
   },
   {
    "duration": 8,
    "start_time": "2022-09-08T03:15:59.272Z"
   },
   {
    "duration": 10,
    "start_time": "2022-09-08T03:21:18.580Z"
   },
   {
    "duration": 10,
    "start_time": "2022-09-08T03:22:00.842Z"
   },
   {
    "duration": 10,
    "start_time": "2022-09-08T03:22:12.731Z"
   },
   {
    "duration": 7,
    "start_time": "2022-09-08T03:23:36.478Z"
   },
   {
    "duration": 11,
    "start_time": "2022-09-08T03:23:50.797Z"
   },
   {
    "duration": 10,
    "start_time": "2022-09-08T03:25:13.917Z"
   },
   {
    "duration": 11,
    "start_time": "2022-09-08T03:25:35.482Z"
   },
   {
    "duration": 51,
    "start_time": "2022-09-08T03:26:34.797Z"
   },
   {
    "duration": 43,
    "start_time": "2022-09-08T03:27:24.410Z"
   },
   {
    "duration": 54,
    "start_time": "2022-09-08T03:27:53.462Z"
   },
   {
    "duration": 12,
    "start_time": "2022-09-08T03:28:08.131Z"
   },
   {
    "duration": 9,
    "start_time": "2022-09-08T03:28:33.580Z"
   },
   {
    "duration": 11,
    "start_time": "2022-09-08T03:28:53.538Z"
   },
   {
    "duration": 9,
    "start_time": "2022-09-08T03:29:01.302Z"
   },
   {
    "duration": 12,
    "start_time": "2022-09-08T03:30:30.561Z"
   },
   {
    "duration": 14,
    "start_time": "2022-09-08T03:31:53.065Z"
   },
   {
    "duration": 17,
    "start_time": "2022-09-08T03:33:11.080Z"
   },
   {
    "duration": 16,
    "start_time": "2022-09-08T03:33:26.532Z"
   },
   {
    "duration": 15,
    "start_time": "2022-09-08T03:33:39.642Z"
   },
   {
    "duration": 21,
    "start_time": "2022-09-08T03:33:57.490Z"
   },
   {
    "duration": 17,
    "start_time": "2022-09-08T03:34:11.629Z"
   },
   {
    "duration": 20,
    "start_time": "2022-09-08T03:34:35.361Z"
   },
   {
    "duration": 19,
    "start_time": "2022-09-08T03:34:48.271Z"
   },
   {
    "duration": 21,
    "start_time": "2022-09-08T03:35:08.426Z"
   },
   {
    "duration": 11,
    "start_time": "2022-09-08T03:35:35.785Z"
   },
   {
    "duration": 13,
    "start_time": "2022-09-08T03:36:37.481Z"
   },
   {
    "duration": 11,
    "start_time": "2022-09-08T03:37:06.113Z"
   },
   {
    "duration": 11,
    "start_time": "2022-09-08T03:37:23.712Z"
   },
   {
    "duration": 17,
    "start_time": "2022-09-08T03:37:41.244Z"
   },
   {
    "duration": 11,
    "start_time": "2022-09-08T03:38:27.291Z"
   },
   {
    "duration": 11,
    "start_time": "2022-09-08T03:39:19.291Z"
   },
   {
    "duration": 10,
    "start_time": "2022-09-08T03:39:56.715Z"
   },
   {
    "duration": 13,
    "start_time": "2022-09-08T03:40:03.408Z"
   },
   {
    "duration": 10,
    "start_time": "2022-09-08T03:40:11.397Z"
   },
   {
    "duration": 13,
    "start_time": "2022-09-08T03:40:23.348Z"
   },
   {
    "duration": 11,
    "start_time": "2022-09-08T03:40:44.163Z"
   },
   {
    "duration": 11,
    "start_time": "2022-09-08T03:41:14.352Z"
   },
   {
    "duration": 14,
    "start_time": "2022-09-08T03:41:53.932Z"
   },
   {
    "duration": 17,
    "start_time": "2022-09-08T03:42:47.807Z"
   },
   {
    "duration": 15,
    "start_time": "2022-09-08T03:43:36.859Z"
   },
   {
    "duration": 9,
    "start_time": "2022-09-08T03:45:21.051Z"
   },
   {
    "duration": 14,
    "start_time": "2022-09-08T03:46:06.937Z"
   },
   {
    "duration": 49,
    "start_time": "2022-09-08T03:46:43.543Z"
   },
   {
    "duration": 11,
    "start_time": "2022-09-08T03:46:56.344Z"
   },
   {
    "duration": 9,
    "start_time": "2022-09-08T03:47:37.842Z"
   },
   {
    "duration": 7,
    "start_time": "2022-09-08T03:47:47.920Z"
   },
   {
    "duration": 10,
    "start_time": "2022-09-08T03:47:58.933Z"
   },
   {
    "duration": 9,
    "start_time": "2022-09-08T03:48:16.670Z"
   },
   {
    "duration": 8,
    "start_time": "2022-09-08T03:48:28.072Z"
   },
   {
    "duration": 8,
    "start_time": "2022-09-08T03:51:02.557Z"
   },
   {
    "duration": 8,
    "start_time": "2022-09-08T03:51:09.776Z"
   },
   {
    "duration": 136,
    "start_time": "2022-09-08T03:51:53.949Z"
   },
   {
    "duration": 11,
    "start_time": "2022-09-08T03:52:07.383Z"
   },
   {
    "duration": 8,
    "start_time": "2022-09-08T03:52:16.362Z"
   },
   {
    "duration": 8,
    "start_time": "2022-09-08T03:52:29.709Z"
   },
   {
    "duration": 11,
    "start_time": "2022-09-08T03:52:48.721Z"
   },
   {
    "duration": 4,
    "start_time": "2022-09-08T03:56:38.857Z"
   },
   {
    "duration": 82,
    "start_time": "2022-09-08T03:56:42.604Z"
   },
   {
    "duration": 5,
    "start_time": "2022-09-08T03:56:52.667Z"
   },
   {
    "duration": 20,
    "start_time": "2022-09-08T03:56:59.348Z"
   },
   {
    "duration": 5,
    "start_time": "2022-09-08T03:57:04.568Z"
   },
   {
    "duration": 6,
    "start_time": "2022-09-08T03:57:06.695Z"
   },
   {
    "duration": 211,
    "start_time": "2022-09-08T03:57:07.663Z"
   },
   {
    "duration": 196,
    "start_time": "2022-09-08T03:57:15.791Z"
   },
   {
    "duration": 8,
    "start_time": "2022-09-08T03:57:26.487Z"
   },
   {
    "duration": 817,
    "start_time": "2022-09-08T03:58:22.868Z"
   },
   {
    "duration": 8,
    "start_time": "2022-09-08T03:58:44.222Z"
   },
   {
    "duration": 9,
    "start_time": "2022-09-08T03:59:07.215Z"
   },
   {
    "duration": 26,
    "start_time": "2022-09-08T03:59:50.115Z"
   },
   {
    "duration": 108,
    "start_time": "2022-09-08T04:10:26.161Z"
   },
   {
    "duration": 112,
    "start_time": "2022-09-08T04:10:46.484Z"
   },
   {
    "duration": 936,
    "start_time": "2022-09-08T04:13:20.497Z"
   },
   {
    "duration": 587,
    "start_time": "2022-09-08T04:13:45.597Z"
   },
   {
    "duration": 866,
    "start_time": "2022-09-08T04:13:58.951Z"
   },
   {
    "duration": 591,
    "start_time": "2022-09-08T04:14:51.771Z"
   },
   {
    "duration": 31,
    "start_time": "2022-09-08T04:15:26.662Z"
   },
   {
    "duration": 84,
    "start_time": "2022-09-08T04:15:36.593Z"
   },
   {
    "duration": 1259,
    "start_time": "2022-09-08T17:17:12.597Z"
   },
   {
    "duration": 132,
    "start_time": "2022-09-08T17:17:13.858Z"
   },
   {
    "duration": 554,
    "start_time": "2022-09-08T17:17:13.992Z"
   },
   {
    "duration": 12,
    "start_time": "2022-09-08T17:17:14.549Z"
   },
   {
    "duration": 38,
    "start_time": "2022-09-08T17:17:14.563Z"
   },
   {
    "duration": 4,
    "start_time": "2022-09-08T17:17:14.603Z"
   },
   {
    "duration": 21,
    "start_time": "2022-09-08T17:17:14.608Z"
   },
   {
    "duration": 4,
    "start_time": "2022-09-08T17:17:14.631Z"
   },
   {
    "duration": 194,
    "start_time": "2022-09-08T17:17:14.636Z"
   },
   {
    "duration": 189,
    "start_time": "2022-09-08T17:17:14.832Z"
   },
   {
    "duration": 8,
    "start_time": "2022-09-08T17:17:15.023Z"
   },
   {
    "duration": 27,
    "start_time": "2022-09-08T17:17:15.032Z"
   },
   {
    "duration": 147,
    "start_time": "2022-09-08T17:17:15.061Z"
   },
   {
    "duration": 222,
    "start_time": "2022-09-08T17:17:15.209Z"
   },
   {
    "duration": 8,
    "start_time": "2022-09-08T17:17:15.433Z"
   },
   {
    "duration": 13,
    "start_time": "2022-09-08T17:17:15.443Z"
   },
   {
    "duration": 49,
    "start_time": "2022-09-08T17:17:15.458Z"
   },
   {
    "duration": 701,
    "start_time": "2022-09-08T17:17:15.509Z"
   },
   {
    "duration": 8,
    "start_time": "2022-09-08T17:17:16.212Z"
   },
   {
    "duration": 386,
    "start_time": "2022-09-08T17:17:16.222Z"
   },
   {
    "duration": 306,
    "start_time": "2022-09-08T17:17:16.609Z"
   },
   {
    "duration": 17,
    "start_time": "2022-09-08T17:17:16.917Z"
   },
   {
    "duration": 210,
    "start_time": "2022-09-08T17:17:16.936Z"
   },
   {
    "duration": 269,
    "start_time": "2022-09-08T17:17:17.147Z"
   },
   {
    "duration": 240,
    "start_time": "2022-09-08T17:17:17.417Z"
   },
   {
    "duration": 1249,
    "start_time": "2022-09-08T17:17:17.676Z"
   },
   {
    "duration": 913,
    "start_time": "2022-09-08T17:17:18.927Z"
   },
   {
    "duration": 160,
    "start_time": "2022-09-08T17:17:19.843Z"
   },
   {
    "duration": 392,
    "start_time": "2022-09-08T17:17:20.004Z"
   },
   {
    "duration": 24,
    "start_time": "2022-09-08T17:17:20.398Z"
   },
   {
    "duration": 278,
    "start_time": "2022-09-08T17:17:20.423Z"
   },
   {
    "duration": 25,
    "start_time": "2022-09-08T17:17:20.703Z"
   },
   {
    "duration": 195,
    "start_time": "2022-09-08T17:17:20.730Z"
   },
   {
    "duration": 171,
    "start_time": "2022-09-08T17:17:20.927Z"
   },
   {
    "duration": 117,
    "start_time": "2022-09-08T17:17:21.100Z"
   },
   {
    "duration": 255,
    "start_time": "2022-09-08T17:17:21.218Z"
   },
   {
    "duration": 10,
    "start_time": "2022-09-08T17:17:21.477Z"
   },
   {
    "duration": 17,
    "start_time": "2022-09-08T17:17:21.488Z"
   },
   {
    "duration": 1232,
    "start_time": "2022-09-08T17:17:56.763Z"
   },
   {
    "duration": 605,
    "start_time": "2022-09-08T17:18:33.151Z"
   },
   {
    "duration": 550,
    "start_time": "2022-09-08T17:21:09.741Z"
   },
   {
    "duration": 548,
    "start_time": "2022-09-08T17:21:27.413Z"
   },
   {
    "duration": 520,
    "start_time": "2022-09-08T17:24:48.891Z"
   },
   {
    "duration": 712,
    "start_time": "2022-09-08T17:25:06.923Z"
   },
   {
    "duration": 160,
    "start_time": "2022-09-08T17:25:40.716Z"
   },
   {
    "duration": 419,
    "start_time": "2022-09-08T17:29:39.119Z"
   },
   {
    "duration": 396,
    "start_time": "2022-09-08T17:29:50.339Z"
   },
   {
    "duration": 374,
    "start_time": "2022-09-08T17:30:21.674Z"
   },
   {
    "duration": 431,
    "start_time": "2022-09-08T17:30:33.879Z"
   },
   {
    "duration": 335,
    "start_time": "2022-09-08T17:31:40.085Z"
   },
   {
    "duration": 164,
    "start_time": "2022-09-08T17:31:52.572Z"
   },
   {
    "duration": 319,
    "start_time": "2022-09-08T17:32:13.808Z"
   },
   {
    "duration": 284,
    "start_time": "2022-09-08T17:32:22.646Z"
   },
   {
    "duration": 217,
    "start_time": "2022-09-08T17:32:29.475Z"
   },
   {
    "duration": 290,
    "start_time": "2022-09-08T17:32:40.821Z"
   },
   {
    "duration": 291,
    "start_time": "2022-09-08T17:32:47.338Z"
   },
   {
    "duration": 164,
    "start_time": "2022-09-08T17:33:04.271Z"
   },
   {
    "duration": 116,
    "start_time": "2022-09-08T17:42:30.854Z"
   },
   {
    "duration": 215,
    "start_time": "2022-09-08T17:42:47.361Z"
   },
   {
    "duration": 23,
    "start_time": "2022-09-08T17:43:05.961Z"
   },
   {
    "duration": 15,
    "start_time": "2022-09-08T17:47:41.167Z"
   },
   {
    "duration": 1309,
    "start_time": "2022-09-08T17:48:15.321Z"
   },
   {
    "duration": 27,
    "start_time": "2022-09-08T17:49:20.953Z"
   },
   {
    "duration": 217,
    "start_time": "2022-09-08T17:49:49.256Z"
   },
   {
    "duration": 27,
    "start_time": "2022-09-08T17:49:54.021Z"
   },
   {
    "duration": 286,
    "start_time": "2022-09-08T18:05:07.505Z"
   },
   {
    "duration": 25,
    "start_time": "2022-09-08T18:05:41.054Z"
   },
   {
    "duration": 33,
    "start_time": "2022-09-08T18:10:24.774Z"
   },
   {
    "duration": 237,
    "start_time": "2022-09-08T18:12:59.359Z"
   },
   {
    "duration": 34,
    "start_time": "2022-09-08T18:13:02.867Z"
   },
   {
    "duration": 46,
    "start_time": "2022-09-08T18:13:45.442Z"
   },
   {
    "duration": 35,
    "start_time": "2022-09-08T18:16:10.895Z"
   },
   {
    "duration": 36,
    "start_time": "2022-09-08T18:17:03.765Z"
   },
   {
    "duration": 219,
    "start_time": "2022-09-08T18:17:12.294Z"
   },
   {
    "duration": 28,
    "start_time": "2022-09-08T18:17:16.899Z"
   },
   {
    "duration": 252,
    "start_time": "2022-09-08T18:23:29.616Z"
   },
   {
    "duration": 43,
    "start_time": "2022-09-08T18:26:10.757Z"
   },
   {
    "duration": 32,
    "start_time": "2022-09-08T18:26:15.031Z"
   },
   {
    "duration": 28,
    "start_time": "2022-09-08T18:40:40.665Z"
   },
   {
    "duration": 23,
    "start_time": "2022-09-08T18:40:51.906Z"
   },
   {
    "duration": 30,
    "start_time": "2022-09-08T18:41:10.993Z"
   },
   {
    "duration": 174,
    "start_time": "2022-09-08T18:42:10.064Z"
   },
   {
    "duration": 183,
    "start_time": "2022-09-08T18:44:22.843Z"
   },
   {
    "duration": 159,
    "start_time": "2022-09-08T18:47:48.962Z"
   },
   {
    "duration": 165,
    "start_time": "2022-09-08T18:48:17.728Z"
   },
   {
    "duration": 120,
    "start_time": "2022-09-08T18:50:39.646Z"
   },
   {
    "duration": 172,
    "start_time": "2022-09-08T18:50:58.793Z"
   },
   {
    "duration": 154,
    "start_time": "2022-09-08T18:51:04.704Z"
   },
   {
    "duration": 191,
    "start_time": "2022-09-08T18:54:14.799Z"
   },
   {
    "duration": 21,
    "start_time": "2022-09-08T18:57:27.464Z"
   },
   {
    "duration": 17,
    "start_time": "2022-09-08T18:58:38.848Z"
   },
   {
    "duration": 16,
    "start_time": "2022-09-08T18:59:19.043Z"
   },
   {
    "duration": 15,
    "start_time": "2022-09-08T18:59:38.159Z"
   },
   {
    "duration": 320,
    "start_time": "2022-09-08T19:01:02.971Z"
   },
   {
    "duration": 185,
    "start_time": "2022-09-08T19:01:10.501Z"
   },
   {
    "duration": 163,
    "start_time": "2022-09-08T19:01:41.273Z"
   },
   {
    "duration": 254,
    "start_time": "2022-09-08T19:02:47.973Z"
   },
   {
    "duration": 170,
    "start_time": "2022-09-08T19:05:03.594Z"
   },
   {
    "duration": 17,
    "start_time": "2022-09-08T19:06:19.600Z"
   },
   {
    "duration": 10,
    "start_time": "2022-09-08T19:09:30.445Z"
   },
   {
    "duration": 15,
    "start_time": "2022-09-08T19:09:38.116Z"
   },
   {
    "duration": 252,
    "start_time": "2022-09-08T19:10:47.873Z"
   },
   {
    "duration": 269,
    "start_time": "2022-09-08T19:10:54.144Z"
   },
   {
    "duration": 563,
    "start_time": "2022-09-08T19:11:05.896Z"
   },
   {
    "duration": 626,
    "start_time": "2022-09-08T19:11:12.572Z"
   },
   {
    "duration": 241,
    "start_time": "2022-09-08T19:11:37.209Z"
   },
   {
    "duration": 188,
    "start_time": "2022-09-08T19:26:32.374Z"
   },
   {
    "duration": 9,
    "start_time": "2022-09-08T19:26:48.996Z"
   },
   {
    "duration": 24,
    "start_time": "2022-09-08T19:26:51.782Z"
   },
   {
    "duration": 3,
    "start_time": "2022-09-08T19:27:28.754Z"
   },
   {
    "duration": 92,
    "start_time": "2022-09-08T19:27:28.762Z"
   },
   {
    "duration": 581,
    "start_time": "2022-09-08T19:27:28.856Z"
   },
   {
    "duration": 13,
    "start_time": "2022-09-08T19:27:29.439Z"
   },
   {
    "duration": 43,
    "start_time": "2022-09-08T19:27:29.453Z"
   },
   {
    "duration": 4,
    "start_time": "2022-09-08T19:27:29.498Z"
   },
   {
    "duration": 25,
    "start_time": "2022-09-08T19:27:29.503Z"
   },
   {
    "duration": 5,
    "start_time": "2022-09-08T19:27:29.530Z"
   },
   {
    "duration": 222,
    "start_time": "2022-09-08T19:27:29.536Z"
   },
   {
    "duration": 196,
    "start_time": "2022-09-08T19:27:29.760Z"
   },
   {
    "duration": 8,
    "start_time": "2022-09-08T19:27:29.958Z"
   },
   {
    "duration": 37,
    "start_time": "2022-09-08T19:27:29.967Z"
   },
   {
    "duration": 145,
    "start_time": "2022-09-08T19:27:30.005Z"
   },
   {
    "duration": 183,
    "start_time": "2022-09-08T19:27:30.151Z"
   },
   {
    "duration": 7,
    "start_time": "2022-09-08T19:27:30.336Z"
   },
   {
    "duration": 19,
    "start_time": "2022-09-08T19:27:30.345Z"
   },
   {
    "duration": 58,
    "start_time": "2022-09-08T19:27:30.366Z"
   },
   {
    "duration": 900,
    "start_time": "2022-09-08T19:27:30.426Z"
   },
   {
    "duration": 9,
    "start_time": "2022-09-08T19:27:31.328Z"
   },
   {
    "duration": 366,
    "start_time": "2022-09-08T19:27:31.339Z"
   },
   {
    "duration": 284,
    "start_time": "2022-09-08T19:27:31.707Z"
   },
   {
    "duration": 14,
    "start_time": "2022-09-08T19:27:31.993Z"
   },
   {
    "duration": 208,
    "start_time": "2022-09-08T19:27:32.009Z"
   },
   {
    "duration": 290,
    "start_time": "2022-09-08T19:27:32.218Z"
   },
   {
    "duration": 257,
    "start_time": "2022-09-08T19:27:32.510Z"
   },
   {
    "duration": 1268,
    "start_time": "2022-09-08T19:27:32.778Z"
   },
   {
    "duration": 665,
    "start_time": "2022-09-08T19:27:34.048Z"
   },
   {
    "duration": 177,
    "start_time": "2022-09-08T19:27:34.715Z"
   },
   {
    "duration": 232,
    "start_time": "2022-09-08T19:27:34.896Z"
   },
   {
    "duration": 26,
    "start_time": "2022-09-08T19:27:35.130Z"
   },
   {
    "duration": 312,
    "start_time": "2022-09-08T19:27:35.158Z"
   },
   {
    "duration": 37,
    "start_time": "2022-09-08T19:27:35.472Z"
   },
   {
    "duration": 14,
    "start_time": "2022-09-08T19:27:35.511Z"
   },
   {
    "duration": 269,
    "start_time": "2022-09-08T19:27:35.526Z"
   },
   {
    "duration": 10,
    "start_time": "2022-09-08T19:27:35.797Z"
   },
   {
    "duration": 12,
    "start_time": "2022-09-08T19:27:35.809Z"
   },
   {
    "duration": 824,
    "start_time": "2022-09-08T19:36:57.004Z"
   },
   {
    "duration": 4,
    "start_time": "2022-09-08T19:38:41.157Z"
   },
   {
    "duration": 264,
    "start_time": "2022-09-08T19:44:52.248Z"
   },
   {
    "duration": 1430,
    "start_time": "2022-09-08T19:46:23.388Z"
   },
   {
    "duration": 548,
    "start_time": "2022-09-08T19:50:16.487Z"
   },
   {
    "duration": 248,
    "start_time": "2022-09-08T19:53:22.413Z"
   },
   {
    "duration": 26,
    "start_time": "2022-09-08T19:53:23.341Z"
   },
   {
    "duration": 50,
    "start_time": "2022-09-09T03:22:24.766Z"
   },
   {
    "duration": 1449,
    "start_time": "2022-09-09T03:22:31.075Z"
   },
   {
    "duration": 242,
    "start_time": "2022-09-09T03:22:32.526Z"
   },
   {
    "duration": 618,
    "start_time": "2022-09-09T03:22:32.770Z"
   },
   {
    "duration": 15,
    "start_time": "2022-09-09T03:22:33.390Z"
   },
   {
    "duration": 30,
    "start_time": "2022-09-09T03:22:33.406Z"
   },
   {
    "duration": 3,
    "start_time": "2022-09-09T03:22:33.438Z"
   },
   {
    "duration": 28,
    "start_time": "2022-09-09T03:22:33.443Z"
   },
   {
    "duration": 6,
    "start_time": "2022-09-09T03:22:33.492Z"
   },
   {
    "duration": 220,
    "start_time": "2022-09-09T03:22:33.500Z"
   },
   {
    "duration": 209,
    "start_time": "2022-09-09T03:22:33.723Z"
   },
   {
    "duration": 8,
    "start_time": "2022-09-09T03:22:33.934Z"
   },
   {
    "duration": 28,
    "start_time": "2022-09-09T03:22:33.944Z"
   },
   {
    "duration": 145,
    "start_time": "2022-09-09T03:22:33.994Z"
   },
   {
    "duration": 185,
    "start_time": "2022-09-09T03:22:34.141Z"
   },
   {
    "duration": 9,
    "start_time": "2022-09-09T03:22:34.328Z"
   },
   {
    "duration": 11,
    "start_time": "2022-09-09T03:22:34.338Z"
   },
   {
    "duration": 49,
    "start_time": "2022-09-09T03:22:34.350Z"
   },
   {
    "duration": 757,
    "start_time": "2022-09-09T03:22:34.401Z"
   },
   {
    "duration": 9,
    "start_time": "2022-09-09T03:22:35.160Z"
   },
   {
    "duration": 386,
    "start_time": "2022-09-09T03:22:35.171Z"
   },
   {
    "duration": 340,
    "start_time": "2022-09-09T03:22:35.559Z"
   },
   {
    "duration": 14,
    "start_time": "2022-09-09T03:22:35.901Z"
   },
   {
    "duration": 220,
    "start_time": "2022-09-09T03:22:35.917Z"
   },
   {
    "duration": 260,
    "start_time": "2022-09-09T03:22:36.139Z"
   },
   {
    "duration": 277,
    "start_time": "2022-09-09T03:22:36.402Z"
   },
   {
    "duration": 1353,
    "start_time": "2022-09-09T03:22:36.680Z"
   },
   {
    "duration": 679,
    "start_time": "2022-09-09T03:22:38.035Z"
   },
   {
    "duration": 178,
    "start_time": "2022-09-09T03:22:38.718Z"
   },
   {
    "duration": 230,
    "start_time": "2022-09-09T03:22:45.599Z"
   },
   {
    "duration": 245,
    "start_time": "2022-09-09T03:23:13.119Z"
   },
   {
    "duration": 239,
    "start_time": "2022-09-09T03:23:20.836Z"
   },
   {
    "duration": 29,
    "start_time": "2022-09-09T03:24:39.660Z"
   },
   {
    "duration": 287,
    "start_time": "2022-09-09T03:27:33.351Z"
   },
   {
    "duration": 29,
    "start_time": "2022-09-09T03:27:39.040Z"
   },
   {
    "duration": 38,
    "start_time": "2022-09-09T03:27:57.636Z"
   },
   {
    "duration": 275,
    "start_time": "2022-09-09T03:28:01.421Z"
   },
   {
    "duration": 28,
    "start_time": "2022-09-09T03:28:04.883Z"
   },
   {
    "duration": 11,
    "start_time": "2022-09-09T03:30:49.711Z"
   },
   {
    "duration": 5,
    "start_time": "2022-09-09T03:31:18.316Z"
   },
   {
    "duration": 11,
    "start_time": "2022-09-09T03:31:51.329Z"
   },
   {
    "duration": 5,
    "start_time": "2022-09-09T03:32:09.671Z"
   },
   {
    "duration": 13,
    "start_time": "2022-09-09T03:32:46.784Z"
   },
   {
    "duration": 11,
    "start_time": "2022-09-09T03:33:36.710Z"
   },
   {
    "duration": 15,
    "start_time": "2022-09-09T03:33:41.795Z"
   },
   {
    "duration": 9,
    "start_time": "2022-09-09T03:35:35.379Z"
   },
   {
    "duration": 10,
    "start_time": "2022-09-09T03:36:46.430Z"
   },
   {
    "duration": 15,
    "start_time": "2022-09-09T03:38:16.404Z"
   },
   {
    "duration": 12,
    "start_time": "2022-09-09T03:39:57.693Z"
   },
   {
    "duration": 10,
    "start_time": "2022-09-09T03:40:13.027Z"
   },
   {
    "duration": 1204,
    "start_time": "2022-09-09T07:03:27.211Z"
   },
   {
    "duration": 235,
    "start_time": "2022-09-09T07:03:28.417Z"
   },
   {
    "duration": 522,
    "start_time": "2022-09-09T07:03:28.653Z"
   },
   {
    "duration": 11,
    "start_time": "2022-09-09T07:03:29.177Z"
   },
   {
    "duration": 24,
    "start_time": "2022-09-09T07:03:29.190Z"
   },
   {
    "duration": 3,
    "start_time": "2022-09-09T07:03:29.216Z"
   },
   {
    "duration": 44,
    "start_time": "2022-09-09T07:03:29.220Z"
   },
   {
    "duration": 4,
    "start_time": "2022-09-09T07:03:29.266Z"
   },
   {
    "duration": 175,
    "start_time": "2022-09-09T07:03:29.272Z"
   },
   {
    "duration": 165,
    "start_time": "2022-09-09T07:03:29.456Z"
   },
   {
    "duration": 7,
    "start_time": "2022-09-09T07:03:29.622Z"
   },
   {
    "duration": 29,
    "start_time": "2022-09-09T07:03:29.630Z"
   },
   {
    "duration": 124,
    "start_time": "2022-09-09T07:03:29.661Z"
   },
   {
    "duration": 151,
    "start_time": "2022-09-09T07:03:29.786Z"
   },
   {
    "duration": 6,
    "start_time": "2022-09-09T07:03:29.939Z"
   },
   {
    "duration": 9,
    "start_time": "2022-09-09T07:03:29.946Z"
   },
   {
    "duration": 29,
    "start_time": "2022-09-09T07:03:29.957Z"
   },
   {
    "duration": 638,
    "start_time": "2022-09-09T07:03:29.987Z"
   },
   {
    "duration": 7,
    "start_time": "2022-09-09T07:03:30.627Z"
   },
   {
    "duration": 352,
    "start_time": "2022-09-09T07:03:30.636Z"
   },
   {
    "duration": 295,
    "start_time": "2022-09-09T07:03:30.990Z"
   },
   {
    "duration": 14,
    "start_time": "2022-09-09T07:03:31.287Z"
   },
   {
    "duration": 173,
    "start_time": "2022-09-09T07:03:31.303Z"
   },
   {
    "duration": 219,
    "start_time": "2022-09-09T07:03:31.478Z"
   },
   {
    "duration": 228,
    "start_time": "2022-09-09T07:03:31.699Z"
   },
   {
    "duration": 1081,
    "start_time": "2022-09-09T07:03:31.954Z"
   },
   {
    "duration": 594,
    "start_time": "2022-09-09T07:03:33.037Z"
   },
   {
    "duration": 150,
    "start_time": "2022-09-09T07:03:33.634Z"
   },
   {
    "duration": 189,
    "start_time": "2022-09-09T07:03:33.785Z"
   },
   {
    "duration": 23,
    "start_time": "2022-09-09T07:03:33.975Z"
   },
   {
    "duration": 221,
    "start_time": "2022-09-09T07:03:34.000Z"
   },
   {
    "duration": 34,
    "start_time": "2022-09-09T07:03:34.223Z"
   },
   {
    "duration": 12,
    "start_time": "2022-09-09T07:03:34.258Z"
   },
   {
    "duration": 218,
    "start_time": "2022-09-09T07:03:34.272Z"
   },
   {
    "duration": 9,
    "start_time": "2022-09-09T07:03:34.491Z"
   },
   {
    "duration": 9,
    "start_time": "2022-09-09T07:03:34.501Z"
   },
   {
    "duration": 9,
    "start_time": "2022-09-09T07:03:34.511Z"
   },
   {
    "duration": 4,
    "start_time": "2022-09-09T07:05:53.545Z"
   },
   {
    "duration": 88,
    "start_time": "2022-09-09T07:06:03.007Z"
   },
   {
    "duration": 8,
    "start_time": "2022-09-09T07:06:44.368Z"
   },
   {
    "duration": 115,
    "start_time": "2022-09-09T07:07:08.367Z"
   },
   {
    "duration": 1130,
    "start_time": "2022-09-09T07:07:46.525Z"
   },
   {
    "duration": 79,
    "start_time": "2022-09-09T07:07:47.657Z"
   },
   {
    "duration": 504,
    "start_time": "2022-09-09T07:07:47.737Z"
   },
   {
    "duration": 18,
    "start_time": "2022-09-09T07:07:48.243Z"
   },
   {
    "duration": 26,
    "start_time": "2022-09-09T07:07:48.262Z"
   },
   {
    "duration": 3,
    "start_time": "2022-09-09T07:07:48.289Z"
   },
   {
    "duration": 18,
    "start_time": "2022-09-09T07:07:48.294Z"
   },
   {
    "duration": 3,
    "start_time": "2022-09-09T07:07:48.314Z"
   },
   {
    "duration": 180,
    "start_time": "2022-09-09T07:07:48.318Z"
   },
   {
    "duration": 164,
    "start_time": "2022-09-09T07:07:48.500Z"
   },
   {
    "duration": 6,
    "start_time": "2022-09-09T07:07:48.665Z"
   },
   {
    "duration": 19,
    "start_time": "2022-09-09T07:07:48.673Z"
   },
   {
    "duration": 126,
    "start_time": "2022-09-09T07:07:48.693Z"
   },
   {
    "duration": 156,
    "start_time": "2022-09-09T07:07:48.821Z"
   },
   {
    "duration": 6,
    "start_time": "2022-09-09T07:07:48.979Z"
   },
   {
    "duration": 8,
    "start_time": "2022-09-09T07:07:48.986Z"
   },
   {
    "duration": 39,
    "start_time": "2022-09-09T07:07:48.995Z"
   },
   {
    "duration": 624,
    "start_time": "2022-09-09T07:07:49.035Z"
   },
   {
    "duration": 7,
    "start_time": "2022-09-09T07:07:49.661Z"
   },
   {
    "duration": 286,
    "start_time": "2022-09-09T07:07:49.669Z"
   },
   {
    "duration": 279,
    "start_time": "2022-09-09T07:07:49.956Z"
   },
   {
    "duration": 18,
    "start_time": "2022-09-09T07:07:50.237Z"
   },
   {
    "duration": 171,
    "start_time": "2022-09-09T07:07:50.256Z"
   },
   {
    "duration": 207,
    "start_time": "2022-09-09T07:07:50.429Z"
   },
   {
    "duration": 264,
    "start_time": "2022-09-09T07:07:50.638Z"
   },
   {
    "duration": 1233,
    "start_time": "2022-09-09T07:07:50.904Z"
   },
   {
    "duration": 581,
    "start_time": "2022-09-09T07:07:52.139Z"
   },
   {
    "duration": 132,
    "start_time": "2022-09-09T07:07:52.723Z"
   },
   {
    "duration": 203,
    "start_time": "2022-09-09T07:07:52.856Z"
   },
   {
    "duration": 24,
    "start_time": "2022-09-09T07:07:53.060Z"
   },
   {
    "duration": 261,
    "start_time": "2022-09-09T07:07:53.085Z"
   },
   {
    "duration": 28,
    "start_time": "2022-09-09T07:07:53.348Z"
   },
   {
    "duration": 14,
    "start_time": "2022-09-09T07:07:53.377Z"
   },
   {
    "duration": 263,
    "start_time": "2022-09-09T07:07:53.392Z"
   },
   {
    "duration": 10,
    "start_time": "2022-09-09T07:07:53.656Z"
   },
   {
    "duration": 22,
    "start_time": "2022-09-09T07:07:53.667Z"
   },
   {
    "duration": 17,
    "start_time": "2022-09-09T07:07:53.691Z"
   },
   {
    "duration": 1158,
    "start_time": "2022-09-09T10:48:52.239Z"
   },
   {
    "duration": 135,
    "start_time": "2022-09-09T10:48:53.400Z"
   },
   {
    "duration": 563,
    "start_time": "2022-09-09T10:48:53.537Z"
   },
   {
    "duration": 13,
    "start_time": "2022-09-09T10:48:54.102Z"
   },
   {
    "duration": 48,
    "start_time": "2022-09-09T10:48:54.116Z"
   },
   {
    "duration": 4,
    "start_time": "2022-09-09T10:48:54.165Z"
   },
   {
    "duration": 25,
    "start_time": "2022-09-09T10:48:54.170Z"
   },
   {
    "duration": 5,
    "start_time": "2022-09-09T10:48:54.197Z"
   },
   {
    "duration": 209,
    "start_time": "2022-09-09T10:48:54.204Z"
   },
   {
    "duration": 192,
    "start_time": "2022-09-09T10:48:54.416Z"
   },
   {
    "duration": 8,
    "start_time": "2022-09-09T10:48:54.609Z"
   },
   {
    "duration": 38,
    "start_time": "2022-09-09T10:48:54.618Z"
   },
   {
    "duration": 142,
    "start_time": "2022-09-09T10:48:54.658Z"
   },
   {
    "duration": 177,
    "start_time": "2022-09-09T10:48:54.802Z"
   },
   {
    "duration": 7,
    "start_time": "2022-09-09T10:48:54.981Z"
   },
   {
    "duration": 9,
    "start_time": "2022-09-09T10:48:54.989Z"
   },
   {
    "duration": 56,
    "start_time": "2022-09-09T10:48:55.000Z"
   },
   {
    "duration": 719,
    "start_time": "2022-09-09T10:48:55.058Z"
   },
   {
    "duration": 9,
    "start_time": "2022-09-09T10:48:55.778Z"
   },
   {
    "duration": 371,
    "start_time": "2022-09-09T10:48:55.788Z"
   },
   {
    "duration": 409,
    "start_time": "2022-09-09T10:48:56.161Z"
   },
   {
    "duration": 15,
    "start_time": "2022-09-09T10:48:56.572Z"
   },
   {
    "duration": 197,
    "start_time": "2022-09-09T10:48:56.589Z"
   },
   {
    "duration": 240,
    "start_time": "2022-09-09T10:48:56.788Z"
   },
   {
    "duration": 304,
    "start_time": "2022-09-09T10:48:57.030Z"
   },
   {
    "duration": 1313,
    "start_time": "2022-09-09T10:48:57.335Z"
   },
   {
    "duration": 636,
    "start_time": "2022-09-09T10:48:58.650Z"
   },
   {
    "duration": 159,
    "start_time": "2022-09-09T10:48:59.289Z"
   },
   {
    "duration": 212,
    "start_time": "2022-09-09T10:48:59.450Z"
   },
   {
    "duration": 30,
    "start_time": "2022-09-09T10:48:59.664Z"
   },
   {
    "duration": 296,
    "start_time": "2022-09-09T10:48:59.696Z"
   },
   {
    "duration": 29,
    "start_time": "2022-09-09T10:48:59.993Z"
   },
   {
    "duration": 17,
    "start_time": "2022-09-09T10:49:00.047Z"
   },
   {
    "duration": 254,
    "start_time": "2022-09-09T10:49:00.066Z"
   },
   {
    "duration": 11,
    "start_time": "2022-09-09T10:49:00.321Z"
   },
   {
    "duration": 25,
    "start_time": "2022-09-09T10:49:00.334Z"
   },
   {
    "duration": 24,
    "start_time": "2022-09-09T10:49:00.361Z"
   },
   {
    "duration": 25,
    "start_time": "2022-09-09T12:25:31.586Z"
   },
   {
    "duration": 7,
    "start_time": "2022-09-09T12:25:40.171Z"
   },
   {
    "duration": 1210,
    "start_time": "2022-09-09T12:54:56.542Z"
   },
   {
    "duration": 221,
    "start_time": "2022-09-09T12:54:57.754Z"
   },
   {
    "duration": 571,
    "start_time": "2022-09-09T12:54:57.977Z"
   },
   {
    "duration": 19,
    "start_time": "2022-09-09T12:54:58.551Z"
   },
   {
    "duration": 49,
    "start_time": "2022-09-09T12:54:58.572Z"
   },
   {
    "duration": 5,
    "start_time": "2022-09-09T12:54:58.623Z"
   },
   {
    "duration": 41,
    "start_time": "2022-09-09T12:54:58.630Z"
   },
   {
    "duration": 5,
    "start_time": "2022-09-09T12:54:58.673Z"
   },
   {
    "duration": 217,
    "start_time": "2022-09-09T12:54:58.680Z"
   },
   {
    "duration": 202,
    "start_time": "2022-09-09T12:54:58.899Z"
   },
   {
    "duration": 8,
    "start_time": "2022-09-09T12:54:59.106Z"
   },
   {
    "duration": 34,
    "start_time": "2022-09-09T12:54:59.115Z"
   },
   {
    "duration": 142,
    "start_time": "2022-09-09T12:54:59.150Z"
   },
   {
    "duration": 197,
    "start_time": "2022-09-09T12:54:59.294Z"
   },
   {
    "duration": 15,
    "start_time": "2022-09-09T12:54:59.492Z"
   },
   {
    "duration": 21,
    "start_time": "2022-09-09T12:54:59.508Z"
   },
   {
    "duration": 47,
    "start_time": "2022-09-09T12:54:59.531Z"
   },
   {
    "duration": 789,
    "start_time": "2022-09-09T12:54:59.580Z"
   },
   {
    "duration": 8,
    "start_time": "2022-09-09T12:55:00.370Z"
   },
   {
    "duration": 371,
    "start_time": "2022-09-09T12:55:00.380Z"
   },
   {
    "duration": 353,
    "start_time": "2022-09-09T12:55:00.753Z"
   },
   {
    "duration": 16,
    "start_time": "2022-09-09T12:55:01.109Z"
   },
   {
    "duration": 226,
    "start_time": "2022-09-09T12:55:01.126Z"
   },
   {
    "duration": 263,
    "start_time": "2022-09-09T12:55:01.354Z"
   },
   {
    "duration": 287,
    "start_time": "2022-09-09T12:55:01.619Z"
   },
   {
    "duration": 1286,
    "start_time": "2022-09-09T12:55:01.908Z"
   },
   {
    "duration": 573,
    "start_time": "2022-09-09T12:55:03.196Z"
   },
   {
    "duration": 146,
    "start_time": "2022-09-09T12:55:03.772Z"
   },
   {
    "duration": 204,
    "start_time": "2022-09-09T12:55:03.920Z"
   },
   {
    "duration": 27,
    "start_time": "2022-09-09T12:55:04.126Z"
   },
   {
    "duration": 264,
    "start_time": "2022-09-09T12:55:04.155Z"
   },
   {
    "duration": 26,
    "start_time": "2022-09-09T12:55:04.421Z"
   },
   {
    "duration": 14,
    "start_time": "2022-09-09T12:55:04.448Z"
   },
   {
    "duration": 274,
    "start_time": "2022-09-09T12:55:04.464Z"
   },
   {
    "duration": 11,
    "start_time": "2022-09-09T12:55:04.740Z"
   },
   {
    "duration": 17,
    "start_time": "2022-09-09T12:55:04.753Z"
   },
   {
    "duration": 10,
    "start_time": "2022-09-09T12:55:04.772Z"
   },
   {
    "duration": 18,
    "start_time": "2022-09-09T12:59:53.236Z"
   },
   {
    "duration": 19,
    "start_time": "2022-09-09T13:01:07.774Z"
   },
   {
    "duration": 5,
    "start_time": "2022-09-09T13:06:07.823Z"
   },
   {
    "duration": 14,
    "start_time": "2022-09-09T13:06:21.594Z"
   },
   {
    "duration": 15,
    "start_time": "2022-09-09T13:08:17.721Z"
   },
   {
    "duration": 3,
    "start_time": "2022-09-09T13:08:30.398Z"
   },
   {
    "duration": 100,
    "start_time": "2022-09-09T13:08:30.402Z"
   },
   {
    "duration": 539,
    "start_time": "2022-09-09T13:08:30.504Z"
   },
   {
    "duration": 11,
    "start_time": "2022-09-09T13:08:31.045Z"
   },
   {
    "duration": 37,
    "start_time": "2022-09-09T13:08:31.058Z"
   },
   {
    "duration": 9,
    "start_time": "2022-09-09T13:08:31.097Z"
   },
   {
    "duration": 32,
    "start_time": "2022-09-09T13:08:31.107Z"
   },
   {
    "duration": 10,
    "start_time": "2022-09-09T13:08:31.141Z"
   },
   {
    "duration": 28,
    "start_time": "2022-09-09T13:08:31.153Z"
   },
   {
    "duration": 46,
    "start_time": "2022-09-09T13:08:31.182Z"
   },
   {
    "duration": 19,
    "start_time": "2022-09-09T13:08:31.230Z"
   },
   {
    "duration": 16,
    "start_time": "2022-09-09T13:08:34.081Z"
   },
   {
    "duration": 76,
    "start_time": "2022-09-09T13:09:45.593Z"
   },
   {
    "duration": 266,
    "start_time": "2022-09-09T13:15:10.159Z"
   },
   {
    "duration": 203,
    "start_time": "2022-09-09T13:15:56.792Z"
   },
   {
    "duration": 282,
    "start_time": "2022-09-09T13:20:06.505Z"
   },
   {
    "duration": 184,
    "start_time": "2022-09-09T13:20:51.562Z"
   },
   {
    "duration": 193,
    "start_time": "2022-09-09T13:23:32.773Z"
   },
   {
    "duration": 104,
    "start_time": "2022-09-09T13:26:10.168Z"
   },
   {
    "duration": 112,
    "start_time": "2022-09-09T13:26:30.536Z"
   },
   {
    "duration": 678,
    "start_time": "2022-09-09T13:26:55.032Z"
   },
   {
    "duration": 221,
    "start_time": "2022-09-09T13:31:18.514Z"
   },
   {
    "duration": 216,
    "start_time": "2022-09-09T13:31:31.674Z"
   },
   {
    "duration": 3,
    "start_time": "2022-09-09T13:31:43.833Z"
   },
   {
    "duration": 81,
    "start_time": "2022-09-09T13:31:43.838Z"
   },
   {
    "duration": 693,
    "start_time": "2022-09-09T13:31:43.921Z"
   },
   {
    "duration": 13,
    "start_time": "2022-09-09T13:31:44.616Z"
   },
   {
    "duration": 27,
    "start_time": "2022-09-09T13:31:44.631Z"
   },
   {
    "duration": 4,
    "start_time": "2022-09-09T13:31:44.659Z"
   },
   {
    "duration": 44,
    "start_time": "2022-09-09T13:31:44.665Z"
   },
   {
    "duration": 4,
    "start_time": "2022-09-09T13:31:44.711Z"
   },
   {
    "duration": 9,
    "start_time": "2022-09-09T13:31:44.717Z"
   },
   {
    "duration": 20,
    "start_time": "2022-09-09T13:31:44.728Z"
   },
   {
    "duration": 18,
    "start_time": "2022-09-09T13:31:44.751Z"
   },
   {
    "duration": 46,
    "start_time": "2022-09-09T13:31:44.770Z"
   },
   {
    "duration": 202,
    "start_time": "2022-09-09T13:31:44.817Z"
   },
   {
    "duration": 8,
    "start_time": "2022-09-09T13:31:45.021Z"
   },
   {
    "duration": 9,
    "start_time": "2022-09-09T13:31:45.031Z"
   },
   {
    "duration": 31,
    "start_time": "2022-09-09T13:31:45.042Z"
   },
   {
    "duration": 756,
    "start_time": "2022-09-09T13:31:45.075Z"
   },
   {
    "duration": 8,
    "start_time": "2022-09-09T13:31:45.832Z"
   },
   {
    "duration": 339,
    "start_time": "2022-09-09T13:31:45.842Z"
   },
   {
    "duration": 219,
    "start_time": "2022-09-09T13:32:55.388Z"
   },
   {
    "duration": 228,
    "start_time": "2022-09-09T13:33:14.620Z"
   },
   {
    "duration": 248,
    "start_time": "2022-09-09T13:33:30.605Z"
   },
   {
    "duration": 234,
    "start_time": "2022-09-09T13:33:41.509Z"
   },
   {
    "duration": 14,
    "start_time": "2022-09-09T13:34:11.645Z"
   },
   {
    "duration": 174,
    "start_time": "2022-09-09T13:34:14.629Z"
   },
   {
    "duration": 311,
    "start_time": "2022-09-09T13:35:52.975Z"
   },
   {
    "duration": 276,
    "start_time": "2022-09-09T13:36:46.114Z"
   },
   {
    "duration": 153,
    "start_time": "2022-09-09T13:38:07.062Z"
   },
   {
    "duration": 1167,
    "start_time": "2022-09-09T13:38:20.753Z"
   },
   {
    "duration": 73,
    "start_time": "2022-09-09T13:41:21.676Z"
   },
   {
    "duration": 525,
    "start_time": "2022-09-09T13:41:28.389Z"
   },
   {
    "duration": 1217,
    "start_time": "2022-09-10T04:19:36.979Z"
   },
   {
    "duration": 223,
    "start_time": "2022-09-10T04:19:38.198Z"
   },
   {
    "duration": 496,
    "start_time": "2022-09-10T04:19:38.422Z"
   },
   {
    "duration": 11,
    "start_time": "2022-09-10T04:19:38.920Z"
   },
   {
    "duration": 40,
    "start_time": "2022-09-10T04:19:38.932Z"
   },
   {
    "duration": 3,
    "start_time": "2022-09-10T04:19:38.973Z"
   },
   {
    "duration": 19,
    "start_time": "2022-09-10T04:19:38.978Z"
   },
   {
    "duration": 5,
    "start_time": "2022-09-10T04:19:38.998Z"
   },
   {
    "duration": 10,
    "start_time": "2022-09-10T04:19:39.005Z"
   },
   {
    "duration": 38,
    "start_time": "2022-09-10T04:19:39.017Z"
   },
   {
    "duration": 17,
    "start_time": "2022-09-10T04:19:39.056Z"
   },
   {
    "duration": 14,
    "start_time": "2022-09-10T04:19:39.074Z"
   },
   {
    "duration": 204,
    "start_time": "2022-09-10T04:19:39.090Z"
   },
   {
    "duration": 7,
    "start_time": "2022-09-10T04:19:39.296Z"
   },
   {
    "duration": 10,
    "start_time": "2022-09-10T04:19:39.305Z"
   },
   {
    "duration": 48,
    "start_time": "2022-09-10T04:19:39.318Z"
   },
   {
    "duration": 617,
    "start_time": "2022-09-10T04:19:39.367Z"
   },
   {
    "duration": 7,
    "start_time": "2022-09-10T04:19:39.986Z"
   },
   {
    "duration": 371,
    "start_time": "2022-09-10T04:19:39.995Z"
   },
   {
    "duration": 228,
    "start_time": "2022-09-10T04:19:40.368Z"
   },
   {
    "duration": 14,
    "start_time": "2022-09-10T04:19:40.597Z"
   },
   {
    "duration": 241,
    "start_time": "2022-09-10T04:19:40.613Z"
   },
   {
    "duration": 212,
    "start_time": "2022-09-10T04:19:40.856Z"
   },
   {
    "duration": 253,
    "start_time": "2022-09-10T04:19:41.069Z"
   },
   {
    "duration": 1068,
    "start_time": "2022-09-10T04:19:41.324Z"
   },
   {
    "duration": 480,
    "start_time": "2022-09-10T04:19:42.394Z"
   },
   {
    "duration": 220,
    "start_time": "2022-09-10T04:19:42.876Z"
   },
   {
    "duration": 203,
    "start_time": "2022-09-10T04:19:43.099Z"
   },
   {
    "duration": 22,
    "start_time": "2022-09-10T04:19:43.303Z"
   },
   {
    "duration": 235,
    "start_time": "2022-09-10T04:19:43.326Z"
   },
   {
    "duration": 24,
    "start_time": "2022-09-10T04:19:43.562Z"
   },
   {
    "duration": 12,
    "start_time": "2022-09-10T04:19:43.587Z"
   },
   {
    "duration": 241,
    "start_time": "2022-09-10T04:19:43.601Z"
   },
   {
    "duration": 14,
    "start_time": "2022-09-10T04:19:43.844Z"
   },
   {
    "duration": 10,
    "start_time": "2022-09-10T04:19:43.859Z"
   },
   {
    "duration": 11,
    "start_time": "2022-09-10T04:19:43.870Z"
   },
   {
    "duration": 8,
    "start_time": "2022-09-10T04:23:02.628Z"
   },
   {
    "duration": 15,
    "start_time": "2022-09-10T04:23:30.168Z"
   },
   {
    "duration": 15,
    "start_time": "2022-09-10T04:24:39.394Z"
   },
   {
    "duration": 75,
    "start_time": "2022-09-10T04:25:39.926Z"
   },
   {
    "duration": 68,
    "start_time": "2022-09-10T04:26:12.572Z"
   },
   {
    "duration": 3,
    "start_time": "2022-09-10T04:26:37.894Z"
   },
   {
    "duration": 17,
    "start_time": "2022-09-10T04:26:56.283Z"
   },
   {
    "duration": 16,
    "start_time": "2022-09-10T04:31:01.705Z"
   },
   {
    "duration": 25,
    "start_time": "2022-09-10T04:34:27.684Z"
   },
   {
    "duration": 103,
    "start_time": "2022-09-10T04:34:55.108Z"
   },
   {
    "duration": 3,
    "start_time": "2022-09-10T04:35:27.638Z"
   },
   {
    "duration": 77,
    "start_time": "2022-09-10T04:35:27.642Z"
   },
   {
    "duration": 485,
    "start_time": "2022-09-10T04:35:27.721Z"
   },
   {
    "duration": 12,
    "start_time": "2022-09-10T04:35:28.207Z"
   },
   {
    "duration": 36,
    "start_time": "2022-09-10T04:35:28.220Z"
   },
   {
    "duration": 3,
    "start_time": "2022-09-10T04:35:28.258Z"
   },
   {
    "duration": 30,
    "start_time": "2022-09-10T04:35:35.958Z"
   },
   {
    "duration": 3,
    "start_time": "2022-09-10T04:38:11.729Z"
   },
   {
    "duration": 72,
    "start_time": "2022-09-10T04:38:11.737Z"
   },
   {
    "duration": 479,
    "start_time": "2022-09-10T04:38:11.811Z"
   },
   {
    "duration": 11,
    "start_time": "2022-09-10T04:38:12.291Z"
   },
   {
    "duration": 23,
    "start_time": "2022-09-10T04:38:12.304Z"
   },
   {
    "duration": 4,
    "start_time": "2022-09-10T04:38:12.328Z"
   },
   {
    "duration": 32,
    "start_time": "2022-09-10T04:38:21.981Z"
   },
   {
    "duration": 2,
    "start_time": "2022-09-10T04:39:00.223Z"
   },
   {
    "duration": 74,
    "start_time": "2022-09-10T04:39:01.279Z"
   },
   {
    "duration": 597,
    "start_time": "2022-09-10T04:39:03.946Z"
   },
   {
    "duration": 11,
    "start_time": "2022-09-10T04:39:05.586Z"
   },
   {
    "duration": 25,
    "start_time": "2022-09-10T04:39:07.136Z"
   },
   {
    "duration": 4,
    "start_time": "2022-09-10T04:39:10.379Z"
   },
   {
    "duration": 16,
    "start_time": "2022-09-10T04:39:12.362Z"
   },
   {
    "duration": 26,
    "start_time": "2022-09-10T04:39:19.998Z"
   },
   {
    "duration": 9,
    "start_time": "2022-09-10T04:39:31.833Z"
   },
   {
    "duration": 17,
    "start_time": "2022-09-10T04:40:30.822Z"
   },
   {
    "duration": 17,
    "start_time": "2022-09-10T04:48:57.373Z"
   },
   {
    "duration": 3,
    "start_time": "2022-09-10T04:49:17.404Z"
   },
   {
    "duration": 92,
    "start_time": "2022-09-10T04:49:17.411Z"
   },
   {
    "duration": 579,
    "start_time": "2022-09-10T04:49:17.505Z"
   },
   {
    "duration": 12,
    "start_time": "2022-09-10T04:49:18.086Z"
   },
   {
    "duration": 25,
    "start_time": "2022-09-10T04:49:18.100Z"
   },
   {
    "duration": 3,
    "start_time": "2022-09-10T04:49:18.126Z"
   },
   {
    "duration": 46,
    "start_time": "2022-09-10T04:49:18.131Z"
   },
   {
    "duration": 23,
    "start_time": "2022-09-10T04:49:18.178Z"
   },
   {
    "duration": 11,
    "start_time": "2022-09-10T04:49:18.203Z"
   },
   {
    "duration": 8,
    "start_time": "2022-09-10T04:49:18.215Z"
   },
   {
    "duration": 14,
    "start_time": "2022-09-10T04:49:18.225Z"
   },
   {
    "duration": 25,
    "start_time": "2022-09-10T04:49:18.241Z"
   },
   {
    "duration": 27,
    "start_time": "2022-09-10T04:49:18.268Z"
   },
   {
    "duration": 35,
    "start_time": "2022-09-10T04:49:18.296Z"
   },
   {
    "duration": 195,
    "start_time": "2022-09-10T04:49:18.333Z"
   },
   {
    "duration": 6,
    "start_time": "2022-09-10T04:49:18.530Z"
   },
   {
    "duration": 30,
    "start_time": "2022-09-10T04:49:18.537Z"
   },
   {
    "duration": 44,
    "start_time": "2022-09-10T04:49:18.569Z"
   },
   {
    "duration": 674,
    "start_time": "2022-09-10T04:49:18.614Z"
   },
   {
    "duration": 2,
    "start_time": "2022-09-10T04:49:19.290Z"
   },
   {
    "duration": 9,
    "start_time": "2022-09-10T04:49:22.719Z"
   },
   {
    "duration": 5,
    "start_time": "2022-09-10T04:49:29.327Z"
   },
   {
    "duration": 23,
    "start_time": "2022-09-10T04:50:12.756Z"
   },
   {
    "duration": 6,
    "start_time": "2022-09-10T04:51:12.545Z"
   },
   {
    "duration": 7,
    "start_time": "2022-09-10T04:51:13.406Z"
   },
   {
    "duration": 13,
    "start_time": "2022-09-10T04:52:59.183Z"
   },
   {
    "duration": 468,
    "start_time": "2022-09-10T04:53:17.535Z"
   },
   {
    "duration": 298,
    "start_time": "2022-09-10T04:58:50.523Z"
   },
   {
    "duration": 318,
    "start_time": "2022-09-10T04:59:00.967Z"
   },
   {
    "duration": 155,
    "start_time": "2022-09-10T05:00:19.305Z"
   },
   {
    "duration": 9,
    "start_time": "2022-09-10T05:06:56.644Z"
   },
   {
    "duration": 9,
    "start_time": "2022-09-10T05:07:09.528Z"
   },
   {
    "duration": 1105,
    "start_time": "2022-09-10T05:08:18.253Z"
   },
   {
    "duration": 81,
    "start_time": "2022-09-10T05:08:19.360Z"
   },
   {
    "duration": 516,
    "start_time": "2022-09-10T05:08:19.442Z"
   },
   {
    "duration": 15,
    "start_time": "2022-09-10T05:08:19.960Z"
   },
   {
    "duration": 27,
    "start_time": "2022-09-10T05:08:19.976Z"
   },
   {
    "duration": 4,
    "start_time": "2022-09-10T05:08:20.005Z"
   },
   {
    "duration": 23,
    "start_time": "2022-09-10T05:08:20.010Z"
   },
   {
    "duration": 42,
    "start_time": "2022-09-10T05:08:20.035Z"
   },
   {
    "duration": 8,
    "start_time": "2022-09-10T05:08:20.079Z"
   },
   {
    "duration": 7,
    "start_time": "2022-09-10T05:08:20.089Z"
   },
   {
    "duration": 9,
    "start_time": "2022-09-10T05:08:20.097Z"
   },
   {
    "duration": 20,
    "start_time": "2022-09-10T05:08:20.108Z"
   },
   {
    "duration": 42,
    "start_time": "2022-09-10T05:08:20.130Z"
   },
   {
    "duration": 16,
    "start_time": "2022-09-10T05:08:20.174Z"
   },
   {
    "duration": 206,
    "start_time": "2022-09-10T05:08:20.191Z"
   },
   {
    "duration": 7,
    "start_time": "2022-09-10T05:08:20.399Z"
   },
   {
    "duration": 10,
    "start_time": "2022-09-10T05:08:20.407Z"
   },
   {
    "duration": 38,
    "start_time": "2022-09-10T05:08:20.419Z"
   },
   {
    "duration": 679,
    "start_time": "2022-09-10T05:08:20.459Z"
   },
   {
    "duration": 5,
    "start_time": "2022-09-10T05:08:21.139Z"
   },
   {
    "duration": 16,
    "start_time": "2022-09-10T05:08:21.146Z"
   },
   {
    "duration": 321,
    "start_time": "2022-09-10T05:08:21.163Z"
   },
   {
    "duration": 253,
    "start_time": "2022-09-10T05:08:21.485Z"
   },
   {
    "duration": 18,
    "start_time": "2022-09-10T05:08:21.740Z"
   },
   {
    "duration": 301,
    "start_time": "2022-09-10T05:08:21.763Z"
   },
   {
    "duration": 1108,
    "start_time": "2022-09-10T05:09:31.163Z"
   },
   {
    "duration": 83,
    "start_time": "2022-09-10T05:09:32.275Z"
   },
   {
    "duration": 568,
    "start_time": "2022-09-10T05:09:32.360Z"
   },
   {
    "duration": 12,
    "start_time": "2022-09-10T05:09:32.930Z"
   },
   {
    "duration": 39,
    "start_time": "2022-09-10T05:09:32.943Z"
   },
   {
    "duration": 3,
    "start_time": "2022-09-10T05:09:32.984Z"
   },
   {
    "duration": 22,
    "start_time": "2022-09-10T05:09:32.989Z"
   },
   {
    "duration": 18,
    "start_time": "2022-09-10T05:09:33.013Z"
   },
   {
    "duration": 27,
    "start_time": "2022-09-10T05:09:33.032Z"
   },
   {
    "duration": 7,
    "start_time": "2022-09-10T05:09:33.062Z"
   },
   {
    "duration": 13,
    "start_time": "2022-09-10T05:09:33.070Z"
   },
   {
    "duration": 22,
    "start_time": "2022-09-10T05:09:33.085Z"
   },
   {
    "duration": 16,
    "start_time": "2022-09-10T05:09:33.108Z"
   },
   {
    "duration": 30,
    "start_time": "2022-09-10T05:09:33.126Z"
   },
   {
    "duration": 190,
    "start_time": "2022-09-10T05:09:33.158Z"
   },
   {
    "duration": 10,
    "start_time": "2022-09-10T05:09:33.349Z"
   },
   {
    "duration": 13,
    "start_time": "2022-09-10T05:09:33.361Z"
   },
   {
    "duration": 31,
    "start_time": "2022-09-10T05:09:33.376Z"
   },
   {
    "duration": 646,
    "start_time": "2022-09-10T05:09:33.409Z"
   },
   {
    "duration": 29,
    "start_time": "2022-09-10T05:09:34.056Z"
   },
   {
    "duration": 8,
    "start_time": "2022-09-10T05:09:34.086Z"
   },
   {
    "duration": 363,
    "start_time": "2022-09-10T05:09:34.095Z"
   },
   {
    "duration": 254,
    "start_time": "2022-09-10T05:09:34.460Z"
   },
   {
    "duration": 13,
    "start_time": "2022-09-10T05:09:34.716Z"
   },
   {
    "duration": 244,
    "start_time": "2022-09-10T05:09:34.730Z"
   },
   {
    "duration": 214,
    "start_time": "2022-09-10T05:12:14.076Z"
   },
   {
    "duration": 238,
    "start_time": "2022-09-10T05:12:14.293Z"
   },
   {
    "duration": 1133,
    "start_time": "2022-09-10T05:12:14.532Z"
   },
   {
    "duration": 508,
    "start_time": "2022-09-10T05:12:15.667Z"
   },
   {
    "duration": 143,
    "start_time": "2022-09-10T05:12:16.176Z"
   },
   {
    "duration": 209,
    "start_time": "2022-09-10T05:12:16.321Z"
   },
   {
    "duration": 32,
    "start_time": "2022-09-10T05:12:16.532Z"
   },
   {
    "duration": 267,
    "start_time": "2022-09-10T05:12:16.566Z"
   },
   {
    "duration": 30,
    "start_time": "2022-09-10T05:12:16.834Z"
   },
   {
    "duration": 19,
    "start_time": "2022-09-10T05:12:16.866Z"
   },
   {
    "duration": 265,
    "start_time": "2022-09-10T05:12:16.886Z"
   },
   {
    "duration": 11,
    "start_time": "2022-09-10T05:12:17.154Z"
   },
   {
    "duration": 11,
    "start_time": "2022-09-10T05:12:17.168Z"
   },
   {
    "duration": 12,
    "start_time": "2022-09-10T05:12:17.180Z"
   },
   {
    "duration": 4,
    "start_time": "2022-09-10T05:12:17.193Z"
   },
   {
    "duration": 1053,
    "start_time": "2022-09-10T05:12:41.708Z"
   },
   {
    "duration": 81,
    "start_time": "2022-09-10T05:12:42.763Z"
   },
   {
    "duration": 568,
    "start_time": "2022-09-10T05:12:42.845Z"
   },
   {
    "duration": 11,
    "start_time": "2022-09-10T05:12:43.415Z"
   },
   {
    "duration": 35,
    "start_time": "2022-09-10T05:12:43.427Z"
   },
   {
    "duration": 4,
    "start_time": "2022-09-10T05:12:43.464Z"
   },
   {
    "duration": 22,
    "start_time": "2022-09-10T05:12:43.470Z"
   },
   {
    "duration": 15,
    "start_time": "2022-09-10T05:12:43.493Z"
   },
   {
    "duration": 6,
    "start_time": "2022-09-10T05:12:43.510Z"
   },
   {
    "duration": 5,
    "start_time": "2022-09-10T05:12:43.518Z"
   },
   {
    "duration": 32,
    "start_time": "2022-09-10T05:12:43.524Z"
   },
   {
    "duration": 21,
    "start_time": "2022-09-10T05:12:43.557Z"
   },
   {
    "duration": 16,
    "start_time": "2022-09-10T05:12:43.579Z"
   },
   {
    "duration": 14,
    "start_time": "2022-09-10T05:12:43.596Z"
   },
   {
    "duration": 207,
    "start_time": "2022-09-10T05:12:43.611Z"
   },
   {
    "duration": 6,
    "start_time": "2022-09-10T05:12:43.820Z"
   },
   {
    "duration": 6,
    "start_time": "2022-09-10T05:12:43.827Z"
   },
   {
    "duration": 56,
    "start_time": "2022-09-10T05:12:43.835Z"
   },
   {
    "duration": 657,
    "start_time": "2022-09-10T05:12:43.893Z"
   },
   {
    "duration": 8,
    "start_time": "2022-09-10T05:12:44.554Z"
   },
   {
    "duration": 18,
    "start_time": "2022-09-10T05:12:44.564Z"
   },
   {
    "duration": 275,
    "start_time": "2022-09-10T05:12:44.583Z"
   },
   {
    "duration": 250,
    "start_time": "2022-09-10T05:12:44.859Z"
   },
   {
    "duration": 14,
    "start_time": "2022-09-10T05:12:45.110Z"
   },
   {
    "duration": 250,
    "start_time": "2022-09-10T05:12:45.125Z"
   },
   {
    "duration": 1409,
    "start_time": "2022-09-10T05:12:45.377Z"
   },
   {
    "duration": 235,
    "start_time": "2022-09-10T05:12:46.788Z"
   },
   {
    "duration": 304,
    "start_time": "2022-09-10T05:12:47.026Z"
   },
   {
    "duration": 1167,
    "start_time": "2022-09-10T05:12:47.332Z"
   },
   {
    "duration": 491,
    "start_time": "2022-09-10T05:12:48.501Z"
   },
   {
    "duration": 167,
    "start_time": "2022-09-10T05:12:48.994Z"
   },
   {
    "duration": 346,
    "start_time": "2022-09-10T05:12:49.163Z"
   },
   {
    "duration": 24,
    "start_time": "2022-09-10T05:12:49.510Z"
   },
   {
    "duration": 249,
    "start_time": "2022-09-10T05:12:49.536Z"
   },
   {
    "duration": 23,
    "start_time": "2022-09-10T05:12:49.786Z"
   },
   {
    "duration": 12,
    "start_time": "2022-09-10T05:12:49.810Z"
   },
   {
    "duration": 254,
    "start_time": "2022-09-10T05:12:49.824Z"
   },
   {
    "duration": 9,
    "start_time": "2022-09-10T05:12:50.079Z"
   },
   {
    "duration": 8,
    "start_time": "2022-09-10T05:12:50.090Z"
   },
   {
    "duration": 9,
    "start_time": "2022-09-10T05:12:50.099Z"
   },
   {
    "duration": 114146,
    "start_time": "2022-09-10T05:13:17.964Z"
   },
   {
    "duration": 1015,
    "start_time": "2022-09-10T05:18:17.925Z"
   },
   {
    "duration": 101,
    "start_time": "2022-09-10T05:18:18.942Z"
   },
   {
    "duration": 525,
    "start_time": "2022-09-10T05:18:19.045Z"
   },
   {
    "duration": 16,
    "start_time": "2022-09-10T05:18:19.572Z"
   },
   {
    "duration": 29,
    "start_time": "2022-09-10T05:18:19.589Z"
   },
   {
    "duration": 3,
    "start_time": "2022-09-10T05:18:19.620Z"
   },
   {
    "duration": 39,
    "start_time": "2022-09-10T05:18:19.624Z"
   },
   {
    "duration": 17,
    "start_time": "2022-09-10T05:18:19.664Z"
   },
   {
    "duration": 8,
    "start_time": "2022-09-10T05:18:19.683Z"
   },
   {
    "duration": 4,
    "start_time": "2022-09-10T05:18:19.693Z"
   },
   {
    "duration": 7,
    "start_time": "2022-09-10T05:18:19.698Z"
   },
   {
    "duration": 22,
    "start_time": "2022-09-10T05:18:19.707Z"
   },
   {
    "duration": 21,
    "start_time": "2022-09-10T05:18:19.754Z"
   },
   {
    "duration": 20,
    "start_time": "2022-09-10T05:18:19.777Z"
   },
   {
    "duration": 208,
    "start_time": "2022-09-10T05:18:19.798Z"
   },
   {
    "duration": 6,
    "start_time": "2022-09-10T05:18:20.008Z"
   },
   {
    "duration": 10,
    "start_time": "2022-09-10T05:18:20.015Z"
   },
   {
    "duration": 49,
    "start_time": "2022-09-10T05:18:20.026Z"
   },
   {
    "duration": 651,
    "start_time": "2022-09-10T05:18:20.076Z"
   },
   {
    "duration": 5,
    "start_time": "2022-09-10T05:18:20.729Z"
   },
   {
    "duration": 10,
    "start_time": "2022-09-10T05:18:20.736Z"
   },
   {
    "duration": 308,
    "start_time": "2022-09-10T05:18:20.755Z"
   },
   {
    "duration": 234,
    "start_time": "2022-09-10T05:18:21.065Z"
   },
   {
    "duration": 14,
    "start_time": "2022-09-10T05:18:21.301Z"
   },
   {
    "duration": 263,
    "start_time": "2022-09-10T05:18:21.316Z"
   },
   {
    "duration": 2568,
    "start_time": "2022-09-10T05:18:21.581Z"
   },
   {
    "duration": 247,
    "start_time": "2022-09-10T05:18:24.151Z"
   },
   {
    "duration": 419,
    "start_time": "2022-09-10T05:18:24.401Z"
   },
   {
    "duration": 1125,
    "start_time": "2022-09-10T05:18:24.821Z"
   },
   {
    "duration": 513,
    "start_time": "2022-09-10T05:18:25.955Z"
   },
   {
    "duration": 143,
    "start_time": "2022-09-10T05:18:26.470Z"
   },
   {
    "duration": 235,
    "start_time": "2022-09-10T05:18:26.614Z"
   },
   {
    "duration": 26,
    "start_time": "2022-09-10T05:18:26.855Z"
   },
   {
    "duration": 245,
    "start_time": "2022-09-10T05:18:26.883Z"
   },
   {
    "duration": 34,
    "start_time": "2022-09-10T05:18:27.130Z"
   },
   {
    "duration": 14,
    "start_time": "2022-09-10T05:18:27.166Z"
   },
   {
    "duration": 385,
    "start_time": "2022-09-10T05:18:27.181Z"
   },
   {
    "duration": 11,
    "start_time": "2022-09-10T05:18:27.568Z"
   },
   {
    "duration": 12,
    "start_time": "2022-09-10T05:18:27.580Z"
   },
   {
    "duration": 9,
    "start_time": "2022-09-10T05:18:27.594Z"
   },
   {
    "duration": 217,
    "start_time": "2022-09-10T05:19:26.507Z"
   },
   {
    "duration": 390,
    "start_time": "2022-09-10T05:21:41.216Z"
   },
   {
    "duration": 399,
    "start_time": "2022-09-10T05:25:50.137Z"
   },
   {
    "duration": 559,
    "start_time": "2022-09-10T05:26:05.986Z"
   },
   {
    "duration": 229,
    "start_time": "2022-09-10T05:26:34.632Z"
   },
   {
    "duration": 310,
    "start_time": "2022-09-10T05:27:35.349Z"
   },
   {
    "duration": 207,
    "start_time": "2022-09-10T05:28:29.049Z"
   },
   {
    "duration": 286,
    "start_time": "2022-09-10T05:28:48.480Z"
   },
   {
    "duration": 473,
    "start_time": "2022-09-10T05:29:10.862Z"
   },
   {
    "duration": 2058,
    "start_time": "2022-09-10T05:30:54.204Z"
   },
   {
    "duration": 237,
    "start_time": "2022-09-10T05:31:34.465Z"
   },
   {
    "duration": 2155,
    "start_time": "2022-09-10T05:31:49.914Z"
   },
   {
    "duration": 2103,
    "start_time": "2022-09-10T05:33:28.987Z"
   },
   {
    "duration": 1359,
    "start_time": "2022-09-10T05:33:48.785Z"
   },
   {
    "duration": 278,
    "start_time": "2022-09-10T05:34:23.628Z"
   },
   {
    "duration": 1165,
    "start_time": "2022-09-10T05:35:02.595Z"
   },
   {
    "duration": 1360,
    "start_time": "2022-09-10T05:35:12.627Z"
   },
   {
    "duration": 1280,
    "start_time": "2022-09-10T05:35:45.460Z"
   },
   {
    "duration": 1396,
    "start_time": "2022-09-10T05:35:56.853Z"
   },
   {
    "duration": 1656,
    "start_time": "2022-09-10T05:36:26.829Z"
   },
   {
    "duration": 213,
    "start_time": "2022-09-10T05:36:44.892Z"
   },
   {
    "duration": 818,
    "start_time": "2022-09-10T05:36:51.677Z"
   },
   {
    "duration": 437,
    "start_time": "2022-09-10T05:39:00.167Z"
   },
   {
    "duration": 401,
    "start_time": "2022-09-10T05:39:32.463Z"
   },
   {
    "duration": 514,
    "start_time": "2022-09-10T05:39:53.395Z"
   },
   {
    "duration": 468,
    "start_time": "2022-09-10T05:40:18.483Z"
   },
   {
    "duration": 17,
    "start_time": "2022-09-10T05:42:20.752Z"
   },
   {
    "duration": 10,
    "start_time": "2022-09-10T05:42:51.363Z"
   },
   {
    "duration": 14,
    "start_time": "2022-09-10T05:43:23.371Z"
   },
   {
    "duration": 22,
    "start_time": "2022-09-10T05:43:47.059Z"
   },
   {
    "duration": 14,
    "start_time": "2022-09-10T05:44:10.837Z"
   },
   {
    "duration": 19,
    "start_time": "2022-09-10T05:44:24.085Z"
   },
   {
    "duration": 73,
    "start_time": "2022-09-10T05:44:43.479Z"
   },
   {
    "duration": 14,
    "start_time": "2022-09-10T05:44:46.489Z"
   },
   {
    "duration": 113,
    "start_time": "2022-09-10T05:44:57.304Z"
   },
   {
    "duration": 18,
    "start_time": "2022-09-10T05:45:07.476Z"
   },
   {
    "duration": 9,
    "start_time": "2022-09-10T05:45:23.889Z"
   },
   {
    "duration": 8,
    "start_time": "2022-09-10T05:45:29.783Z"
   },
   {
    "duration": 243,
    "start_time": "2022-09-10T06:51:33.826Z"
   },
   {
    "duration": 273,
    "start_time": "2022-09-10T06:52:05.745Z"
   },
   {
    "duration": 261,
    "start_time": "2022-09-10T06:52:17.201Z"
   },
   {
    "duration": 268,
    "start_time": "2022-09-10T06:58:07.793Z"
   },
   {
    "duration": 192,
    "start_time": "2022-09-10T07:05:41.676Z"
   },
   {
    "duration": 245,
    "start_time": "2022-09-10T07:07:02.879Z"
   },
   {
    "duration": 3061,
    "start_time": "2022-09-10T07:08:11.977Z"
   },
   {
    "duration": 3190,
    "start_time": "2022-09-10T07:10:35.519Z"
   },
   {
    "duration": 3075,
    "start_time": "2022-09-10T07:12:09.060Z"
   },
   {
    "duration": 334,
    "start_time": "2022-09-10T07:12:54.429Z"
   },
   {
    "duration": 270,
    "start_time": "2022-09-10T07:13:22.081Z"
   },
   {
    "duration": 293,
    "start_time": "2022-09-10T07:14:00.206Z"
   },
   {
    "duration": 278,
    "start_time": "2022-09-10T07:14:25.064Z"
   },
   {
    "duration": 3554,
    "start_time": "2022-09-10T07:15:03.512Z"
   },
   {
    "duration": 80,
    "start_time": "2022-09-10T07:17:10.707Z"
   },
   {
    "duration": 211,
    "start_time": "2022-09-10T07:17:23.654Z"
   },
   {
    "duration": 3921,
    "start_time": "2022-09-10T07:17:52.757Z"
   },
   {
    "duration": 3727,
    "start_time": "2022-09-10T07:18:05.892Z"
   },
   {
    "duration": 167,
    "start_time": "2022-09-10T07:19:46.716Z"
   },
   {
    "duration": 156,
    "start_time": "2022-09-10T07:20:13.302Z"
   },
   {
    "duration": 170,
    "start_time": "2022-09-10T07:20:45.161Z"
   },
   {
    "duration": 9,
    "start_time": "2022-09-10T07:21:08.326Z"
   },
   {
    "duration": 9,
    "start_time": "2022-09-10T07:21:19.817Z"
   },
   {
    "duration": 5,
    "start_time": "2022-09-10T07:22:02.078Z"
   },
   {
    "duration": 2276,
    "start_time": "2022-09-10T07:22:13.840Z"
   },
   {
    "duration": 130,
    "start_time": "2022-09-10T07:22:50.053Z"
   },
   {
    "duration": 1874,
    "start_time": "2022-09-10T07:23:13.056Z"
   },
   {
    "duration": 12,
    "start_time": "2022-09-10T07:29:20.582Z"
   },
   {
    "duration": 13,
    "start_time": "2022-09-10T07:29:55.294Z"
   },
   {
    "duration": 13,
    "start_time": "2022-09-10T07:30:49.273Z"
   },
   {
    "duration": 12,
    "start_time": "2022-09-10T07:31:00.021Z"
   },
   {
    "duration": 82,
    "start_time": "2022-09-10T07:31:24.582Z"
   },
   {
    "duration": 12,
    "start_time": "2022-09-10T07:31:31.074Z"
   },
   {
    "duration": 207,
    "start_time": "2022-09-10T07:31:50.993Z"
   },
   {
    "duration": 142,
    "start_time": "2022-09-10T07:32:02.110Z"
   },
   {
    "duration": 38,
    "start_time": "2022-09-10T07:33:23.272Z"
   },
   {
    "duration": 83,
    "start_time": "2022-09-10T07:35:00.981Z"
   },
   {
    "duration": 17,
    "start_time": "2022-09-10T07:35:10.467Z"
   },
   {
    "duration": 92,
    "start_time": "2022-09-10T07:35:33.096Z"
   },
   {
    "duration": 140,
    "start_time": "2022-09-10T07:37:55.750Z"
   },
   {
    "duration": 128,
    "start_time": "2022-09-10T07:38:11.515Z"
   },
   {
    "duration": 3582,
    "start_time": "2022-09-10T07:39:44.096Z"
   },
   {
    "duration": 3500,
    "start_time": "2022-09-10T07:40:20.744Z"
   },
   {
    "duration": 277,
    "start_time": "2022-09-10T07:40:59.505Z"
   },
   {
    "duration": 88,
    "start_time": "2022-09-10T07:41:25.550Z"
   },
   {
    "duration": 111,
    "start_time": "2022-09-10T07:41:40.677Z"
   },
   {
    "duration": 177,
    "start_time": "2022-09-10T07:42:12.430Z"
   },
   {
    "duration": 328,
    "start_time": "2022-09-10T07:42:57.023Z"
   },
   {
    "duration": 89,
    "start_time": "2022-09-10T07:44:16.490Z"
   },
   {
    "duration": 171,
    "start_time": "2022-09-10T07:44:32.497Z"
   },
   {
    "duration": 174,
    "start_time": "2022-09-10T07:44:51.749Z"
   },
   {
    "duration": 209,
    "start_time": "2022-09-10T07:45:07.113Z"
   },
   {
    "duration": 1619,
    "start_time": "2022-09-10T07:45:38.930Z"
   },
   {
    "duration": 6,
    "start_time": "2022-09-10T07:47:19.575Z"
   },
   {
    "duration": 3,
    "start_time": "2022-09-10T07:47:59.648Z"
   },
   {
    "duration": 1655,
    "start_time": "2022-09-10T07:50:46.224Z"
   },
   {
    "duration": 1814,
    "start_time": "2022-09-10T07:51:51.228Z"
   },
   {
    "duration": 1626,
    "start_time": "2022-09-10T07:52:49.176Z"
   },
   {
    "duration": 171,
    "start_time": "2022-09-10T07:55:14.876Z"
   },
   {
    "duration": 321,
    "start_time": "2022-09-10T07:56:00.774Z"
   },
   {
    "duration": 1634,
    "start_time": "2022-09-10T07:57:26.047Z"
   },
   {
    "duration": 982,
    "start_time": "2022-09-10T07:57:56.196Z"
   },
   {
    "duration": 869,
    "start_time": "2022-09-10T07:58:10.531Z"
   },
   {
    "duration": 1726,
    "start_time": "2022-09-10T09:52:40.995Z"
   },
   {
    "duration": 159,
    "start_time": "2022-09-10T09:55:07.096Z"
   },
   {
    "duration": 182,
    "start_time": "2022-09-10T09:55:20.455Z"
   },
   {
    "duration": 1622,
    "start_time": "2022-09-10T09:59:33.226Z"
   },
   {
    "duration": 153,
    "start_time": "2022-09-10T09:59:55.424Z"
   },
   {
    "duration": 339,
    "start_time": "2022-09-10T10:01:15.592Z"
   },
   {
    "duration": 167,
    "start_time": "2022-09-10T10:01:25.735Z"
   },
   {
    "duration": 163,
    "start_time": "2022-09-10T10:01:33.916Z"
   },
   {
    "duration": 167,
    "start_time": "2022-09-10T10:01:52.283Z"
   },
   {
    "duration": 165,
    "start_time": "2022-09-10T10:02:06.958Z"
   },
   {
    "duration": 166,
    "start_time": "2022-09-10T10:02:24.872Z"
   },
   {
    "duration": 171,
    "start_time": "2022-09-10T10:02:40.173Z"
   },
   {
    "duration": 78,
    "start_time": "2022-09-10T10:04:43.031Z"
   },
   {
    "duration": 152,
    "start_time": "2022-09-10T10:05:19.090Z"
   },
   {
    "duration": 1543,
    "start_time": "2022-09-10T10:06:04.747Z"
   },
   {
    "duration": 149,
    "start_time": "2022-09-10T10:06:42.434Z"
   },
   {
    "duration": 1785,
    "start_time": "2022-09-10T10:07:08.304Z"
   },
   {
    "duration": 141,
    "start_time": "2022-09-10T10:08:15.673Z"
   },
   {
    "duration": 152,
    "start_time": "2022-09-10T10:08:45.047Z"
   },
   {
    "duration": 1591,
    "start_time": "2022-09-10T10:11:16.466Z"
   },
   {
    "duration": 1636,
    "start_time": "2022-09-10T10:12:12.123Z"
   },
   {
    "duration": 1542,
    "start_time": "2022-09-10T10:12:50.783Z"
   },
   {
    "duration": 1463,
    "start_time": "2022-09-10T10:13:15.416Z"
   },
   {
    "duration": 151,
    "start_time": "2022-09-10T10:14:41.070Z"
   },
   {
    "duration": 1568,
    "start_time": "2022-09-10T10:17:42.401Z"
   },
   {
    "duration": 148,
    "start_time": "2022-09-10T10:18:02.073Z"
   },
   {
    "duration": 1552,
    "start_time": "2022-09-10T10:18:10.508Z"
   },
   {
    "duration": 154,
    "start_time": "2022-09-10T10:18:22.381Z"
   },
   {
    "duration": 158,
    "start_time": "2022-09-10T10:19:02.626Z"
   },
   {
    "duration": 1570,
    "start_time": "2022-09-10T10:19:10.113Z"
   },
   {
    "duration": 3016,
    "start_time": "2022-09-10T10:20:57.480Z"
   },
   {
    "duration": 3460,
    "start_time": "2022-09-10T10:21:11.776Z"
   },
   {
    "duration": 73,
    "start_time": "2022-09-10T10:21:40.683Z"
   },
   {
    "duration": 3531,
    "start_time": "2022-09-10T10:22:30.836Z"
   },
   {
    "duration": 3536,
    "start_time": "2022-09-10T10:22:55.706Z"
   },
   {
    "duration": 3580,
    "start_time": "2022-09-10T10:23:17.847Z"
   },
   {
    "duration": 4273,
    "start_time": "2022-09-10T10:24:12.737Z"
   },
   {
    "duration": 3857,
    "start_time": "2022-09-10T10:25:07.152Z"
   },
   {
    "duration": 4026,
    "start_time": "2022-09-10T10:25:23.492Z"
   },
   {
    "duration": 4239,
    "start_time": "2022-09-10T10:25:33.721Z"
   },
   {
    "duration": 1388,
    "start_time": "2022-09-10T12:09:36.749Z"
   },
   {
    "duration": 228,
    "start_time": "2022-09-10T12:09:38.139Z"
   },
   {
    "duration": 608,
    "start_time": "2022-09-10T12:09:38.369Z"
   },
   {
    "duration": 15,
    "start_time": "2022-09-10T12:09:38.979Z"
   },
   {
    "duration": 28,
    "start_time": "2022-09-10T12:09:38.996Z"
   },
   {
    "duration": 4,
    "start_time": "2022-09-10T12:09:39.026Z"
   },
   {
    "duration": 50,
    "start_time": "2022-09-10T12:09:39.031Z"
   },
   {
    "duration": 18,
    "start_time": "2022-09-10T12:09:39.083Z"
   },
   {
    "duration": 9,
    "start_time": "2022-09-10T12:09:39.102Z"
   },
   {
    "duration": 5,
    "start_time": "2022-09-10T12:09:39.114Z"
   },
   {
    "duration": 11,
    "start_time": "2022-09-10T12:09:39.120Z"
   },
   {
    "duration": 46,
    "start_time": "2022-09-10T12:09:39.133Z"
   },
   {
    "duration": 19,
    "start_time": "2022-09-10T12:09:39.181Z"
   },
   {
    "duration": 17,
    "start_time": "2022-09-10T12:09:39.202Z"
   },
   {
    "duration": 232,
    "start_time": "2022-09-10T12:09:39.221Z"
   },
   {
    "duration": 14,
    "start_time": "2022-09-10T12:09:39.454Z"
   },
   {
    "duration": 9,
    "start_time": "2022-09-10T12:09:39.470Z"
   },
   {
    "duration": 58,
    "start_time": "2022-09-10T12:09:39.481Z"
   },
   {
    "duration": 780,
    "start_time": "2022-09-10T12:09:39.541Z"
   },
   {
    "duration": 7,
    "start_time": "2022-09-10T12:09:40.323Z"
   },
   {
    "duration": 13,
    "start_time": "2022-09-10T12:09:40.333Z"
   },
   {
    "duration": 423,
    "start_time": "2022-09-10T12:09:40.349Z"
   },
   {
    "duration": 261,
    "start_time": "2022-09-10T12:09:40.774Z"
   },
   {
    "duration": 15,
    "start_time": "2022-09-10T12:09:41.037Z"
   },
   {
    "duration": 269,
    "start_time": "2022-09-10T12:09:41.054Z"
   },
   {
    "duration": 482,
    "start_time": "2022-09-10T12:09:41.325Z"
   },
   {
    "duration": 290,
    "start_time": "2022-09-10T12:09:41.809Z"
   },
   {
    "duration": 277,
    "start_time": "2022-09-10T12:09:42.104Z"
   },
   {
    "duration": 4865,
    "start_time": "2022-09-10T12:09:42.383Z"
   },
   {
    "duration": 528,
    "start_time": "2022-09-10T12:09:47.249Z"
   },
   {
    "duration": 261,
    "start_time": "2022-09-10T12:09:47.779Z"
   },
   {
    "duration": 73,
    "start_time": "2022-09-10T12:09:48.042Z"
   },
   {
    "duration": 0,
    "start_time": "2022-09-10T12:09:48.117Z"
   },
   {
    "duration": 0,
    "start_time": "2022-09-10T12:09:48.118Z"
   },
   {
    "duration": 0,
    "start_time": "2022-09-10T12:09:48.118Z"
   },
   {
    "duration": 0,
    "start_time": "2022-09-10T12:09:48.120Z"
   },
   {
    "duration": 0,
    "start_time": "2022-09-10T12:09:48.121Z"
   },
   {
    "duration": 0,
    "start_time": "2022-09-10T12:09:48.123Z"
   },
   {
    "duration": 0,
    "start_time": "2022-09-10T12:09:48.123Z"
   },
   {
    "duration": 0,
    "start_time": "2022-09-10T12:09:48.125Z"
   },
   {
    "duration": 111,
    "start_time": "2022-09-10T12:16:29.080Z"
   },
   {
    "duration": 669,
    "start_time": "2022-09-10T12:17:06.445Z"
   },
   {
    "duration": 593,
    "start_time": "2022-09-10T12:17:55.740Z"
   },
   {
    "duration": 570,
    "start_time": "2022-09-10T12:18:20.056Z"
   },
   {
    "duration": 577,
    "start_time": "2022-09-10T12:18:41.258Z"
   },
   {
    "duration": 521,
    "start_time": "2022-09-10T12:18:54.254Z"
   },
   {
    "duration": 731,
    "start_time": "2022-09-10T12:19:05.922Z"
   },
   {
    "duration": 544,
    "start_time": "2022-09-10T12:19:17.228Z"
   },
   {
    "duration": 187,
    "start_time": "2022-09-10T12:45:29.425Z"
   },
   {
    "duration": 180,
    "start_time": "2022-09-10T12:45:40.251Z"
   },
   {
    "duration": 91,
    "start_time": "2022-09-10T13:02:30.733Z"
   },
   {
    "duration": 73,
    "start_time": "2022-09-10T13:02:40.077Z"
   },
   {
    "duration": 79,
    "start_time": "2022-09-10T13:02:48.961Z"
   },
   {
    "duration": 67,
    "start_time": "2022-09-10T13:03:11.151Z"
   },
   {
    "duration": 225,
    "start_time": "2022-09-10T13:03:37.562Z"
   },
   {
    "duration": 244,
    "start_time": "2022-09-10T13:05:12.185Z"
   },
   {
    "duration": 31,
    "start_time": "2022-09-10T13:05:24.983Z"
   },
   {
    "duration": 272,
    "start_time": "2022-09-10T13:08:30.985Z"
   },
   {
    "duration": 30,
    "start_time": "2022-09-10T13:08:41.879Z"
   },
   {
    "duration": 14,
    "start_time": "2022-09-10T13:13:07.877Z"
   },
   {
    "duration": 255,
    "start_time": "2022-09-10T13:13:54.636Z"
   },
   {
    "duration": 392,
    "start_time": "2022-09-10T13:14:24.737Z"
   },
   {
    "duration": 307,
    "start_time": "2022-09-10T13:15:24.001Z"
   },
   {
    "duration": 415,
    "start_time": "2022-09-10T13:15:36.458Z"
   },
   {
    "duration": 275,
    "start_time": "2022-09-10T13:15:47.769Z"
   },
   {
    "duration": 174,
    "start_time": "2022-09-10T13:18:20.283Z"
   },
   {
    "duration": 153,
    "start_time": "2022-09-10T13:19:33.191Z"
   },
   {
    "duration": 433,
    "start_time": "2022-09-10T13:21:05.914Z"
   },
   {
    "duration": 242,
    "start_time": "2022-09-10T13:23:11.297Z"
   },
   {
    "duration": 239,
    "start_time": "2022-09-10T13:23:24.545Z"
   },
   {
    "duration": 248,
    "start_time": "2022-09-10T13:23:40.134Z"
   },
   {
    "duration": 194,
    "start_time": "2022-09-10T13:24:24.115Z"
   },
   {
    "duration": 92,
    "start_time": "2022-09-10T13:25:14.503Z"
   },
   {
    "duration": 132,
    "start_time": "2022-09-10T13:26:04.647Z"
   },
   {
    "duration": 226,
    "start_time": "2022-09-10T13:26:09.111Z"
   },
   {
    "duration": 244,
    "start_time": "2022-09-10T13:26:22.143Z"
   },
   {
    "duration": 602,
    "start_time": "2022-09-10T13:27:49.051Z"
   },
   {
    "duration": 672,
    "start_time": "2022-09-10T13:27:57.387Z"
   },
   {
    "duration": 540,
    "start_time": "2022-09-10T13:28:08.319Z"
   },
   {
    "duration": 329,
    "start_time": "2022-09-10T13:30:11.091Z"
   },
   {
    "duration": 185,
    "start_time": "2022-09-10T13:33:03.083Z"
   },
   {
    "duration": 168,
    "start_time": "2022-09-10T13:33:48.922Z"
   },
   {
    "duration": 160,
    "start_time": "2022-09-10T13:34:42.912Z"
   },
   {
    "duration": 9,
    "start_time": "2022-09-10T13:47:09.874Z"
   },
   {
    "duration": 10,
    "start_time": "2022-09-10T14:08:07.814Z"
   },
   {
    "duration": 18,
    "start_time": "2022-09-10T14:09:19.789Z"
   },
   {
    "duration": 9,
    "start_time": "2022-09-10T14:10:41.089Z"
   },
   {
    "duration": 9,
    "start_time": "2022-09-10T14:11:35.920Z"
   },
   {
    "duration": 9,
    "start_time": "2022-09-10T14:12:27.887Z"
   },
   {
    "duration": 15,
    "start_time": "2022-09-10T14:13:32.925Z"
   },
   {
    "duration": 13,
    "start_time": "2022-09-10T14:13:45.598Z"
   },
   {
    "duration": 9,
    "start_time": "2022-09-10T14:15:14.447Z"
   },
   {
    "duration": 1143,
    "start_time": "2022-09-10T14:29:14.579Z"
   },
   {
    "duration": 89,
    "start_time": "2022-09-10T14:29:15.725Z"
   },
   {
    "duration": 593,
    "start_time": "2022-09-10T14:29:15.815Z"
   },
   {
    "duration": 13,
    "start_time": "2022-09-10T14:29:16.410Z"
   },
   {
    "duration": 27,
    "start_time": "2022-09-10T14:29:16.425Z"
   },
   {
    "duration": 5,
    "start_time": "2022-09-10T14:29:16.468Z"
   },
   {
    "duration": 24,
    "start_time": "2022-09-10T14:29:16.475Z"
   },
   {
    "duration": 18,
    "start_time": "2022-09-10T14:29:16.500Z"
   },
   {
    "duration": 11,
    "start_time": "2022-09-10T14:29:16.519Z"
   },
   {
    "duration": 6,
    "start_time": "2022-09-10T14:29:16.535Z"
   },
   {
    "duration": 13,
    "start_time": "2022-09-10T14:29:16.568Z"
   },
   {
    "duration": 34,
    "start_time": "2022-09-10T14:29:16.582Z"
   },
   {
    "duration": 22,
    "start_time": "2022-09-10T14:29:16.618Z"
   },
   {
    "duration": 41,
    "start_time": "2022-09-10T14:29:16.642Z"
   },
   {
    "duration": 260,
    "start_time": "2022-09-10T14:29:16.686Z"
   },
   {
    "duration": 8,
    "start_time": "2022-09-10T14:29:16.948Z"
   },
   {
    "duration": 8,
    "start_time": "2022-09-10T14:29:16.968Z"
   },
   {
    "duration": 37,
    "start_time": "2022-09-10T14:29:16.977Z"
   },
   {
    "duration": 740,
    "start_time": "2022-09-10T14:29:17.016Z"
   },
   {
    "duration": 11,
    "start_time": "2022-09-10T14:29:17.757Z"
   },
   {
    "duration": 9,
    "start_time": "2022-09-10T14:29:17.770Z"
   },
   {
    "duration": 295,
    "start_time": "2022-09-10T14:29:17.780Z"
   },
   {
    "duration": 255,
    "start_time": "2022-09-10T14:29:18.076Z"
   },
   {
    "duration": 16,
    "start_time": "2022-09-10T14:29:18.332Z"
   },
   {
    "duration": 271,
    "start_time": "2022-09-10T14:29:18.350Z"
   },
   {
    "duration": 444,
    "start_time": "2022-09-10T14:29:18.623Z"
   },
   {
    "duration": 279,
    "start_time": "2022-09-10T14:29:19.069Z"
   },
   {
    "duration": 291,
    "start_time": "2022-09-10T14:29:19.352Z"
   },
   {
    "duration": 4579,
    "start_time": "2022-09-10T14:29:19.645Z"
   },
   {
    "duration": 564,
    "start_time": "2022-09-10T14:29:24.225Z"
   },
   {
    "duration": 292,
    "start_time": "2022-09-10T14:29:24.791Z"
   },
   {
    "duration": 242,
    "start_time": "2022-09-10T14:29:25.086Z"
   },
   {
    "duration": 42,
    "start_time": "2022-09-10T14:29:25.330Z"
   },
   {
    "duration": 274,
    "start_time": "2022-09-10T14:29:25.374Z"
   },
   {
    "duration": 36,
    "start_time": "2022-09-10T14:29:25.650Z"
   },
   {
    "duration": 13,
    "start_time": "2022-09-10T14:29:25.688Z"
   },
   {
    "duration": 252,
    "start_time": "2022-09-10T14:29:25.703Z"
   },
   {
    "duration": 97,
    "start_time": "2022-09-10T14:29:25.957Z"
   },
   {
    "duration": 17,
    "start_time": "2022-09-10T14:29:26.055Z"
   },
   {
    "duration": 11,
    "start_time": "2022-09-10T14:29:26.073Z"
   },
   {
    "duration": 1132,
    "start_time": "2022-09-10T14:37:34.285Z"
   },
   {
    "duration": 94,
    "start_time": "2022-09-10T14:37:35.420Z"
   },
   {
    "duration": 639,
    "start_time": "2022-09-10T14:37:35.516Z"
   },
   {
    "duration": 21,
    "start_time": "2022-09-10T14:37:36.158Z"
   },
   {
    "duration": 30,
    "start_time": "2022-09-10T14:37:36.181Z"
   },
   {
    "duration": 5,
    "start_time": "2022-09-10T14:37:36.213Z"
   },
   {
    "duration": 24,
    "start_time": "2022-09-10T14:37:36.219Z"
   },
   {
    "duration": 20,
    "start_time": "2022-09-10T14:37:36.269Z"
   },
   {
    "duration": 10,
    "start_time": "2022-09-10T14:37:36.290Z"
   },
   {
    "duration": 5,
    "start_time": "2022-09-10T14:37:36.303Z"
   },
   {
    "duration": 8,
    "start_time": "2022-09-10T14:37:36.310Z"
   },
   {
    "duration": 52,
    "start_time": "2022-09-10T14:37:36.320Z"
   },
   {
    "duration": 20,
    "start_time": "2022-09-10T14:37:36.374Z"
   },
   {
    "duration": 18,
    "start_time": "2022-09-10T14:37:36.396Z"
   },
   {
    "duration": 311,
    "start_time": "2022-09-10T14:37:36.415Z"
   },
   {
    "duration": 8,
    "start_time": "2022-09-10T14:37:36.728Z"
   },
   {
    "duration": 7,
    "start_time": "2022-09-10T14:37:36.738Z"
   },
   {
    "duration": 72,
    "start_time": "2022-09-10T14:37:36.747Z"
   },
   {
    "duration": 748,
    "start_time": "2022-09-10T14:37:36.821Z"
   },
   {
    "duration": 7,
    "start_time": "2022-09-10T14:37:37.571Z"
   },
   {
    "duration": 12,
    "start_time": "2022-09-10T14:37:37.580Z"
   },
   {
    "duration": 394,
    "start_time": "2022-09-10T14:37:37.594Z"
   },
   {
    "duration": 278,
    "start_time": "2022-09-10T14:37:37.989Z"
   },
   {
    "duration": 17,
    "start_time": "2022-09-10T14:37:38.269Z"
   },
   {
    "duration": 289,
    "start_time": "2022-09-10T14:37:38.287Z"
   },
   {
    "duration": 506,
    "start_time": "2022-09-10T14:37:38.578Z"
   },
   {
    "duration": 302,
    "start_time": "2022-09-10T14:37:39.086Z"
   },
   {
    "duration": 289,
    "start_time": "2022-09-10T14:37:39.391Z"
   },
   {
    "duration": 4976,
    "start_time": "2022-09-10T14:37:39.682Z"
   },
   {
    "duration": 558,
    "start_time": "2022-09-10T14:37:44.667Z"
   },
   {
    "duration": 290,
    "start_time": "2022-09-10T14:37:45.226Z"
   },
   {
    "duration": 258,
    "start_time": "2022-09-10T14:37:45.518Z"
   },
   {
    "duration": 28,
    "start_time": "2022-09-10T14:37:45.778Z"
   },
   {
    "duration": 299,
    "start_time": "2022-09-10T14:37:45.808Z"
   },
   {
    "duration": 28,
    "start_time": "2022-09-10T14:37:46.109Z"
   },
   {
    "duration": 41,
    "start_time": "2022-09-10T14:37:46.138Z"
   },
   {
    "duration": 270,
    "start_time": "2022-09-10T14:37:46.180Z"
   },
   {
    "duration": 130,
    "start_time": "2022-09-10T14:37:46.452Z"
   },
   {
    "duration": 12,
    "start_time": "2022-09-10T14:37:46.584Z"
   },
   {
    "duration": 14,
    "start_time": "2022-09-10T14:37:46.599Z"
   },
   {
    "duration": 1443,
    "start_time": "2022-09-11T09:20:45.141Z"
   },
   {
    "duration": 276,
    "start_time": "2022-09-11T09:20:46.587Z"
   },
   {
    "duration": 677,
    "start_time": "2022-09-11T09:20:46.866Z"
   },
   {
    "duration": 23,
    "start_time": "2022-09-11T09:20:47.546Z"
   },
   {
    "duration": 35,
    "start_time": "2022-09-11T09:20:47.570Z"
   },
   {
    "duration": 3,
    "start_time": "2022-09-11T09:20:47.607Z"
   },
   {
    "duration": 22,
    "start_time": "2022-09-11T09:20:47.612Z"
   },
   {
    "duration": 46,
    "start_time": "2022-09-11T09:20:47.636Z"
   },
   {
    "duration": 10,
    "start_time": "2022-09-11T09:20:47.685Z"
   },
   {
    "duration": 5,
    "start_time": "2022-09-11T09:20:47.698Z"
   },
   {
    "duration": 10,
    "start_time": "2022-09-11T09:20:47.705Z"
   },
   {
    "duration": 54,
    "start_time": "2022-09-11T09:20:47.717Z"
   },
   {
    "duration": 24,
    "start_time": "2022-09-11T09:20:47.773Z"
   },
   {
    "duration": 24,
    "start_time": "2022-09-11T09:20:47.798Z"
   },
   {
    "duration": 243,
    "start_time": "2022-09-11T09:20:47.824Z"
   },
   {
    "duration": 9,
    "start_time": "2022-09-11T09:20:48.069Z"
   },
   {
    "duration": 18,
    "start_time": "2022-09-11T09:20:48.079Z"
   },
   {
    "duration": 36,
    "start_time": "2022-09-11T09:20:48.099Z"
   },
   {
    "duration": 795,
    "start_time": "2022-09-11T09:20:48.136Z"
   },
   {
    "duration": 6,
    "start_time": "2022-09-11T09:20:48.933Z"
   },
   {
    "duration": 25,
    "start_time": "2022-09-11T09:20:48.941Z"
   },
   {
    "duration": 422,
    "start_time": "2022-09-11T09:20:48.968Z"
   },
   {
    "duration": 295,
    "start_time": "2022-09-11T09:20:49.392Z"
   },
   {
    "duration": 16,
    "start_time": "2022-09-11T09:20:49.689Z"
   },
   {
    "duration": 304,
    "start_time": "2022-09-11T09:20:49.707Z"
   },
   {
    "duration": 509,
    "start_time": "2022-09-11T09:20:50.012Z"
   },
   {
    "duration": 334,
    "start_time": "2022-09-11T09:20:50.523Z"
   },
   {
    "duration": 307,
    "start_time": "2022-09-11T09:20:50.860Z"
   },
   {
    "duration": 5002,
    "start_time": "2022-09-11T09:20:51.169Z"
   },
   {
    "duration": 705,
    "start_time": "2022-09-11T09:20:56.172Z"
   },
   {
    "duration": 294,
    "start_time": "2022-09-11T09:20:56.879Z"
   },
   {
    "duration": 270,
    "start_time": "2022-09-11T09:20:57.175Z"
   },
   {
    "duration": 40,
    "start_time": "2022-09-11T09:20:57.447Z"
   },
   {
    "duration": 315,
    "start_time": "2022-09-11T09:20:57.489Z"
   },
   {
    "duration": 29,
    "start_time": "2022-09-11T09:20:57.806Z"
   },
   {
    "duration": 37,
    "start_time": "2022-09-11T09:20:57.836Z"
   },
   {
    "duration": 268,
    "start_time": "2022-09-11T09:20:57.875Z"
   },
   {
    "duration": 101,
    "start_time": "2022-09-11T09:20:58.144Z"
   },
   {
    "duration": 9,
    "start_time": "2022-09-11T09:20:58.246Z"
   },
   {
    "duration": 11,
    "start_time": "2022-09-11T09:20:58.268Z"
   }
  ],
  "kernelspec": {
   "display_name": "Python 3 (ipykernel)",
   "language": "python",
   "name": "python3"
  },
  "language_info": {
   "codemirror_mode": {
    "name": "ipython",
    "version": 3
   },
   "file_extension": ".py",
   "mimetype": "text/x-python",
   "name": "python",
   "nbconvert_exporter": "python",
   "pygments_lexer": "ipython3",
   "version": "3.9.12"
  },
  "toc": {
   "base_numbering": 1,
   "nav_menu": {},
   "number_sections": true,
   "sideBar": true,
   "skip_h1_title": true,
   "title_cell": "Table of Contents",
   "title_sidebar": "Contents",
   "toc_cell": false,
   "toc_position": {},
   "toc_section_display": true,
   "toc_window_display": false
  }
 },
 "nbformat": 4,
 "nbformat_minor": 2
}
