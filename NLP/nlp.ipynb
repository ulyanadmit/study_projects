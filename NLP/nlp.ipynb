{
 "cells": [
  {
   "cell_type": "markdown",
   "metadata": {
    "toc": true
   },
   "source": [
    "<h1>Содержание<span class=\"tocSkip\"></span></h1>\n",
    "<div class=\"toc\"><ul class=\"toc-item\"><li><span><a href=\"#Подготовка\" data-toc-modified-id=\"Подготовка-1\"><span class=\"toc-item-num\">1&nbsp;&nbsp;</span>Подготовка</a></span></li><li><span><a href=\"#Обучение\" data-toc-modified-id=\"Обучение-2\"><span class=\"toc-item-num\">2&nbsp;&nbsp;</span>Обучение</a></span></li><li><span><a href=\"#Проверка-модели\" data-toc-modified-id=\"Проверка-модели-3\"><span class=\"toc-item-num\">3&nbsp;&nbsp;</span>Проверка модели</a></span></li><li><span><a href=\"#Вывод\" data-toc-modified-id=\"Вывод-4\"><span class=\"toc-item-num\">4&nbsp;&nbsp;</span>Вывод</a></span></li><li><span><a href=\"#Чек-лист-проверки\" data-toc-modified-id=\"Чек-лист-проверки-5\"><span class=\"toc-item-num\">5&nbsp;&nbsp;</span>Чек-лист проверки</a></span></li></ul></div>"
   ]
  },
  {
   "cell_type": "markdown",
   "metadata": {},
   "source": [
    "# Проект для «Викишоп»"
   ]
  },
  {
   "cell_type": "markdown",
   "metadata": {},
   "source": [
    "Интернет-магазин «Викишоп» запускает новый сервис. Теперь пользователи могут редактировать и дополнять описания товаров, как в вики-сообществах. То есть клиенты предлагают свои правки и комментируют изменения других. Магазину нужен инструмент, который будет искать токсичные комментарии и отправлять их на модерацию. \n",
    "\n",
    "Обучите модель классифицировать комментарии на позитивные и негативные. В вашем распоряжении набор данных с разметкой о токсичности правок.\n",
    "\n",
    "Постройте модель со значением метрики качества *F1* не меньше 0.75. \n",
    "\n",
    "\n",
    "**Описание данных**\n",
    "\n",
    "Данные находятся в файле `toxic_comments.csv`. Столбец *text* в нём содержит текст комментария, а *toxic* — целевой признак."
   ]
  },
  {
   "cell_type": "markdown",
   "metadata": {},
   "source": [
    "## Подготовка"
   ]
  },
  {
   "cell_type": "code",
   "execution_count": 1,
   "metadata": {},
   "outputs": [
    {
     "name": "stdout",
     "output_type": "stream",
     "text": [
      "Requirement already satisfied: textblob in /opt/conda/lib/python3.9/site-packages (0.17.1)\r\n",
      "Requirement already satisfied: nltk>=3.1 in /opt/conda/lib/python3.9/site-packages (from textblob) (3.6.1)\r\n",
      "Requirement already satisfied: regex in /opt/conda/lib/python3.9/site-packages (from nltk>=3.1->textblob) (2022.8.17)\r\n",
      "Requirement already satisfied: tqdm in /opt/conda/lib/python3.9/site-packages (from nltk>=3.1->textblob) (4.61.2)\r\n",
      "Requirement already satisfied: joblib in /opt/conda/lib/python3.9/site-packages (from nltk>=3.1->textblob) (1.1.0)\r\n",
      "Requirement already satisfied: click in /opt/conda/lib/python3.9/site-packages (from nltk>=3.1->textblob) (8.1.3)\r\n"
     ]
    }
   ],
   "source": [
    "!pip install textblob"
   ]
  },
  {
   "cell_type": "code",
   "execution_count": 2,
   "metadata": {},
   "outputs": [],
   "source": [
    "import numpy as np\n",
    "import pandas as pd\n",
    "\n",
    "import re\n",
    "from textblob import TextBlob, Word\n",
    "import nltk\n",
    "from nltk.corpus import stopwords as nltk_stopwords\n",
    "\n",
    "from sklearn.utils import shuffle\n",
    "from sklearn.feature_extraction.text import TfidfVectorizer\n",
    "\n",
    "from sklearn.pipeline import Pipeline\n",
    "from sklearn.linear_model import LogisticRegression\n",
    "from lightgbm import LGBMClassifier\n",
    "from sklearn.naive_bayes import ComplementNB\n",
    "from sklearn.linear_model import SGDClassifier\n",
    "\n",
    "from sklearn.model_selection import cross_val_score, train_test_split, RandomizedSearchCV\n",
    "from sklearn.metrics import f1_score "
   ]
  },
  {
   "cell_type": "code",
   "execution_count": 3,
   "metadata": {},
   "outputs": [
    {
     "name": "stderr",
     "output_type": "stream",
     "text": [
      "[nltk_data] Downloading package averaged_perceptron_tagger to\n",
      "[nltk_data]     /home/jovyan/nltk_data...\n",
      "[nltk_data]   Package averaged_perceptron_tagger is already up-to-\n",
      "[nltk_data]       date!\n"
     ]
    },
    {
     "data": {
      "text/plain": [
       "True"
      ]
     },
     "execution_count": 3,
     "metadata": {},
     "output_type": "execute_result"
    }
   ],
   "source": [
    "nltk.download('averaged_perceptron_tagger')"
   ]
  },
  {
   "cell_type": "code",
   "execution_count": 4,
   "metadata": {},
   "outputs": [
    {
     "name": "stderr",
     "output_type": "stream",
     "text": [
      "[nltk_data] Downloading package stopwords to /home/jovyan/nltk_data...\n",
      "[nltk_data]   Package stopwords is already up-to-date!\n"
     ]
    },
    {
     "data": {
      "text/plain": [
       "True"
      ]
     },
     "execution_count": 4,
     "metadata": {},
     "output_type": "execute_result"
    }
   ],
   "source": [
    "nltk.download('stopwords')"
   ]
  },
  {
   "cell_type": "code",
   "execution_count": 5,
   "metadata": {},
   "outputs": [],
   "source": [
    "df = pd.read_csv('/datasets/toxic_comments.csv')"
   ]
  },
  {
   "cell_type": "code",
   "execution_count": 6,
   "metadata": {},
   "outputs": [
    {
     "name": "stdout",
     "output_type": "stream",
     "text": [
      "<class 'pandas.core.frame.DataFrame'>\n",
      "RangeIndex: 159292 entries, 0 to 159291\n",
      "Data columns (total 3 columns):\n",
      " #   Column      Non-Null Count   Dtype \n",
      "---  ------      --------------   ----- \n",
      " 0   Unnamed: 0  159292 non-null  int64 \n",
      " 1   text        159292 non-null  object\n",
      " 2   toxic       159292 non-null  int64 \n",
      "dtypes: int64(2), object(1)\n",
      "memory usage: 3.6+ MB\n"
     ]
    }
   ],
   "source": [
    "df.info()"
   ]
  },
  {
   "cell_type": "code",
   "execution_count": 7,
   "metadata": {},
   "outputs": [
    {
     "data": {
      "text/html": [
       "<div>\n",
       "<style scoped>\n",
       "    .dataframe tbody tr th:only-of-type {\n",
       "        vertical-align: middle;\n",
       "    }\n",
       "\n",
       "    .dataframe tbody tr th {\n",
       "        vertical-align: top;\n",
       "    }\n",
       "\n",
       "    .dataframe thead th {\n",
       "        text-align: right;\n",
       "    }\n",
       "</style>\n",
       "<table border=\"1\" class=\"dataframe\">\n",
       "  <thead>\n",
       "    <tr style=\"text-align: right;\">\n",
       "      <th></th>\n",
       "      <th>Unnamed: 0</th>\n",
       "      <th>text</th>\n",
       "      <th>toxic</th>\n",
       "    </tr>\n",
       "  </thead>\n",
       "  <tbody>\n",
       "    <tr>\n",
       "      <th>0</th>\n",
       "      <td>0</td>\n",
       "      <td>Explanation\\nWhy the edits made under my usern...</td>\n",
       "      <td>0</td>\n",
       "    </tr>\n",
       "    <tr>\n",
       "      <th>1</th>\n",
       "      <td>1</td>\n",
       "      <td>D'aww! He matches this background colour I'm s...</td>\n",
       "      <td>0</td>\n",
       "    </tr>\n",
       "    <tr>\n",
       "      <th>2</th>\n",
       "      <td>2</td>\n",
       "      <td>Hey man, I'm really not trying to edit war. It...</td>\n",
       "      <td>0</td>\n",
       "    </tr>\n",
       "    <tr>\n",
       "      <th>3</th>\n",
       "      <td>3</td>\n",
       "      <td>\"\\nMore\\nI can't make any real suggestions on ...</td>\n",
       "      <td>0</td>\n",
       "    </tr>\n",
       "    <tr>\n",
       "      <th>4</th>\n",
       "      <td>4</td>\n",
       "      <td>You, sir, are my hero. Any chance you remember...</td>\n",
       "      <td>0</td>\n",
       "    </tr>\n",
       "  </tbody>\n",
       "</table>\n",
       "</div>"
      ],
      "text/plain": [
       "   Unnamed: 0                                               text  toxic\n",
       "0           0  Explanation\\nWhy the edits made under my usern...      0\n",
       "1           1  D'aww! He matches this background colour I'm s...      0\n",
       "2           2  Hey man, I'm really not trying to edit war. It...      0\n",
       "3           3  \"\\nMore\\nI can't make any real suggestions on ...      0\n",
       "4           4  You, sir, are my hero. Any chance you remember...      0"
      ]
     },
     "execution_count": 7,
     "metadata": {},
     "output_type": "execute_result"
    }
   ],
   "source": [
    "df.head()"
   ]
  },
  {
   "cell_type": "code",
   "execution_count": 8,
   "metadata": {},
   "outputs": [
    {
     "data": {
      "text/plain": [
       "16186"
      ]
     },
     "execution_count": 8,
     "metadata": {},
     "output_type": "execute_result"
    }
   ],
   "source": [
    "df['toxic'].sum()"
   ]
  },
  {
   "cell_type": "code",
   "execution_count": 9,
   "metadata": {},
   "outputs": [],
   "source": [
    "def clear_text(text):\n",
    "    '''\n",
    "    Функция на вход принимает текст, возвращает текст,\n",
    "    очищенный от всех символов, кроме пробелов и букв английского  алфавита\n",
    "    '''\n",
    "    text_re = re.sub(r'[^a-zA-Z ]', ' ', text)\n",
    "    text_split = text_re.split()\n",
    "    text_join = ' '.join(text_split)\n",
    "    return text_join"
   ]
  },
  {
   "cell_type": "code",
   "execution_count": 10,
   "metadata": {},
   "outputs": [],
   "source": [
    "# очистим текст от лишних символов\n",
    "df['clear_text'] = df['text'].apply(lambda x: clear_text(x))"
   ]
  },
  {
   "cell_type": "code",
   "execution_count": 11,
   "metadata": {},
   "outputs": [],
   "source": [
    "def lemmatize_with_postag(sentence):\n",
    "    '''\n",
    "    Функция на вход принимает текст, возвращает лемматизированный текст\n",
    "    '''\n",
    "    sent = TextBlob(sentence)\n",
    "    tag_dict = {\"J\": 'a', \n",
    "                \"N\": 'n', \n",
    "                \"V\": 'v', \n",
    "                \"R\": 'r'}\n",
    "    words_and_tags = [(w, tag_dict.get(pos[0], 'n')) for w, pos in sent.tags]    \n",
    "    lemmatized_list = [wd.lemmatize(tag) for wd, tag in words_and_tags]\n",
    "    return \" \".join(lemmatized_list)"
   ]
  },
  {
   "cell_type": "code",
   "execution_count": 12,
   "metadata": {},
   "outputs": [],
   "source": [
    "# лемматизируем текст\n",
    "df['lemm_text'] = df['clear_text'].apply(lambda x: lemmatize_with_postag(x))"
   ]
  },
  {
   "cell_type": "code",
   "execution_count": 13,
   "metadata": {},
   "outputs": [],
   "source": [
    "# создадим переменные с признаками и целевым признаком\n",
    "X = df['lemm_text']\n",
    "y = df['toxic']"
   ]
  },
  {
   "cell_type": "code",
   "execution_count": 15,
   "metadata": {},
   "outputs": [
    {
     "data": {
      "text/plain": [
       "((143362,), (143362,))"
      ]
     },
     "execution_count": 15,
     "metadata": {},
     "output_type": "execute_result"
    }
   ],
   "source": [
    "# разделим  выборку на тренировочную и тестовую\n",
    "X_train, X_test, y_train, y_test = train_test_split(X, y, test_size=0.1, random_state=42)\n",
    "X_train.shape, y_train.shape"
   ]
  },
  {
   "cell_type": "markdown",
   "metadata": {},
   "source": [
    "Мы загрузили данные. Всего в нашем распоряжении 159292 объекта, пропусков нет. Выборка несбалансирована, в положительном классе 10% выборки.\n",
    "\n",
    "Мы очистили текст от  личшних символов (оставили буквы английского алфавита и пробелы), лемматизировали текст, создали  переменные с признаками и целевым признаком. Разделили выборку на тренировочную  и тестовую, размер тестовой части - 10%."
   ]
  },
  {
   "cell_type": "markdown",
   "metadata": {},
   "source": [
    "## Обучение"
   ]
  },
  {
   "cell_type": "code",
   "execution_count": 18,
   "metadata": {},
   "outputs": [],
   "source": [
    "# инициализируем трансформер для вычисления TD-IDF\n",
    "stopwords = set(nltk_stopwords.words('english'))\n",
    "transform = TfidfVectorizer(stop_words=stopwords)"
   ]
  },
  {
   "cell_type": "code",
   "execution_count": 19,
   "metadata": {},
   "outputs": [],
   "source": [
    "from sklearn.naive_bayes import ComplementNB"
   ]
  },
  {
   "cell_type": "code",
   "execution_count": 20,
   "metadata": {},
   "outputs": [],
   "source": [
    "# зададим параметры линейной регресии\n",
    "lr_opt_params= { \n",
    "    'lr_classifier__C': range(1,15),   \n",
    "    'lr_classifier__class_weight': ['balanced','None'] \n",
    "    }\n",
    "\n",
    "# зададим параметры градиентного бустинга\n",
    "boost_opt_params= { \n",
    "    'boost_classifier__n_estimators': range(10,101,10),\n",
    "    'boost_classifier__max_depth' : range(1,13)\n",
    "    }\n",
    "\n",
    "# зададим параметры стохастического градиентного спуска\n",
    "sgd_opt_params= {\n",
    "    'sgd_classifier__alpha': (0.00001, 0.000001),\n",
    "    'sgd_classifier__penalty': ('l2', 'elasticnet'),\n",
    "    'sgd_classifier__n_iter_no_change': range(3, 10)\n",
    "    }\n",
    "\n",
    "# зададим параметры наивного байеса\n",
    "bayes_opt_params= {\n",
    "     'bayes_classifier__alpha': np.logspace(-6, 6, 13)\n",
    "     }\n",
    "\n",
    "# инициализируем модели\n",
    "clfs_params = {\n",
    "    'lr_classifier': LogisticRegression(max_iter=500),\n",
    "    'boost_classifier': LGBMClassifier(random_state=42),\n",
    "    'sgd_classifier': SGDClassifier(random_state=42, class_weight='balanced'),\n",
    "    'bayes_classifier': ComplementNB()\n",
    "    }"
   ]
  },
  {
   "cell_type": "code",
   "execution_count": 21,
   "metadata": {},
   "outputs": [
    {
     "name": "stdout",
     "output_type": "stream",
     "text": [
      "Best lr_classifier parameters:\n",
      "{'lr_classifier__class_weight': 'None', 'lr_classifier__C': 13}\n",
      "Best lr_classifier score: 0.7709513080144632\n",
      "Best boost_classifier parameters:\n",
      "{'boost_classifier__n_estimators': 80, 'boost_classifier__max_depth': 12}\n",
      "Best boost_classifier score: 0.6843447838410496\n",
      "Best sgd_classifier parameters:\n",
      "{'sgd_classifier__penalty': 'elasticnet', 'sgd_classifier__n_iter_no_change': 7, 'sgd_classifier__alpha': 1e-05}\n",
      "Best sgd_classifier score: 0.7420282667046277\n",
      "Best bayes_classifier parameters:\n",
      "{'bayes_classifier__alpha': 0.1}\n",
      "Best bayes_classifier score: 0.6546830626331073\n",
      "-----------------------------------------------------\n",
      "Best Classifier:\n",
      "Pipeline(steps=[('transformer',\n",
      "                 TfidfVectorizer(stop_words={'a', 'about', 'above', 'after',\n",
      "                                             'again', 'against', 'ain', 'all',\n",
      "                                             'am', 'an', 'and', 'any', 'are',\n",
      "                                             'aren', \"aren't\", 'as', 'at', 'be',\n",
      "                                             'because', 'been', 'before',\n",
      "                                             'being', 'below', 'between',\n",
      "                                             'both', 'but', 'by', 'can',\n",
      "                                             'couldn', \"couldn't\", ...})),\n",
      "                ('lr_classifier',\n",
      "                 LogisticRegression(C=13, class_weight='None', max_iter=500))]) \n",
      "Best Score: 0.7709513080144632 \n"
     ]
    }
   ],
   "source": [
    "# создадим функцию для подбора модели\n",
    "def select_best_model():\n",
    "    best_score = 0\n",
    "    i = 0\n",
    "    opt_param = [lr_opt_params, boost_opt_params, sgd_opt_params, bayes_opt_params]\n",
    "    for key,val in clfs_params.items():\n",
    "        \n",
    "        clf = Pipeline(\n",
    "            [\n",
    "                ('transformer', transform),\n",
    "                (key, val)\n",
    "            ]\n",
    "        )\n",
    "        clf_rand_search = RandomizedSearchCV(clf, opt_param[i], cv=5, scoring='f1')\n",
    "        clf_rand_search.fit(X_train, y_train)\n",
    "        \n",
    "        print('Best {} parameters:'.format(key))\n",
    "        print(clf_rand_search.best_params_)\n",
    "        \n",
    "        print('Best {} score: {}'.format(key,clf_rand_search.best_score_))\n",
    "        \n",
    "        if  clf_rand_search.best_score_> best_score:\n",
    "            \n",
    "            best_score=clf_rand_search.best_score_\n",
    "            best_model=clf_rand_search.best_estimator_\n",
    "            \n",
    "        i+=1\n",
    "    print('-----------------------------------------------------')\n",
    "     \n",
    "    print(\"Best Classifier:\\n{} \".format(best_model))\n",
    "    print(\"Best Score: {} \".format(best_score))\n",
    "    return best_model,best_score\n",
    "\n",
    "\n",
    "result = select_best_model()\n",
    "best_model, best_score = result[0], result[1]"
   ]
  },
  {
   "cell_type": "markdown",
   "metadata": {},
   "source": [
    "Мы  обучили следующие модели:\n",
    "- логистическая регрессия,\n",
    "- градиентный бустинг LightGBM,\n",
    "- стохастический градиентный спуск из библиотеки sklearn,\n",
    "- модель на основе наивного байесовского  алгоритма для несбалансированных данных.\n",
    "\n",
    "Наилучший результат показала логистическая регрессия, метрика F1 равна 0.77."
   ]
  },
  {
   "cell_type": "markdown",
   "metadata": {},
   "source": [
    "## Проверка модели"
   ]
  },
  {
   "cell_type": "code",
   "execution_count": 25,
   "metadata": {},
   "outputs": [
    {
     "name": "stdout",
     "output_type": "stream",
     "text": [
      "Метрика F1 модели: 0.7802690582959642\n"
     ]
    }
   ],
   "source": [
    "pred = best_model.predict(X_test)\n",
    "f1 = f1_score(y_test, pred)\n",
    "print('Метрика F1 модели:', f1)"
   ]
  },
  {
   "cell_type": "markdown",
   "metadata": {},
   "source": [
    "Мы проверили лучшую модель на тестовой выборке, метрика F1 равна 0.78."
   ]
  },
  {
   "cell_type": "markdown",
   "metadata": {},
   "source": [
    "## Вывод"
   ]
  },
  {
   "cell_type": "markdown",
   "metadata": {},
   "source": [
    "Целью нашей работы было создание и обучение модели классифицировать комментариев пользователей на позитивные и негативные. В нашем распоряжении набор данных с разметкой о токсичности комментариев.\n",
    "\n",
    "Метрикой качества является F1, целевое значение метрики - не меньше 0.75. \n",
    "\n",
    "Всего в нашем распоряжении 159292 объекта, пропусков нет. Выборка несбалансирована, в положительном классе 10% выборки.\n",
    "\n",
    "Мы очистили текст от  личшних символов (оставили буквы английского алфавита и пробелы), лемматизировали текст, создали  переменные с признаками и целевым признаком. Разделили выборку на тренировочную  и тестовую, размер тестовой части - 10%.\n",
    "\n",
    "Мы вычислили TF-IDF.\n",
    "\n",
    "Мы  обучили следующие модели:\n",
    "- логистическая регрессия,\n",
    "- градиентный бустинг LightGBM,\n",
    "- стохастический градиентный спуск из библиотеки sklearn,\n",
    "- модель на основе наивного байесовского  алгоритма для несбалансированных данных.\n",
    "\n",
    "Наилучший результат показала логистическая регрессия, метрика F1 равна 0.77.\n",
    "\n",
    "Мы проверили лучшую модель на тестовой выборке, метрика F1 равна 0.78.\n",
    "\n",
    "В итоге в качестве модели у нас есть модель <b>логистической регрессии</b>, ее <b>метрика F1 равна 0.78</b>, что выше целевого значения."
   ]
  },
  {
   "cell_type": "code",
   "execution_count": null,
   "metadata": {},
   "outputs": [],
   "source": []
  }
 ],
 "metadata": {
  "ExecuteTimeLog": [
   {
    "duration": 1090,
    "start_time": "2022-12-20T16:18:00.124Z"
   },
   {
    "duration": 3207,
    "start_time": "2022-12-20T16:18:58.146Z"
   },
   {
    "duration": 16,
    "start_time": "2022-12-20T16:19:06.113Z"
   },
   {
    "duration": 29,
    "start_time": "2022-12-20T16:19:28.586Z"
   },
   {
    "duration": 6,
    "start_time": "2022-12-20T16:19:47.066Z"
   },
   {
    "duration": 5,
    "start_time": "2022-12-20T16:20:08.309Z"
   },
   {
    "duration": 5,
    "start_time": "2022-12-20T16:27:48.653Z"
   },
   {
    "duration": 2027,
    "start_time": "2022-12-20T16:28:33.581Z"
   },
   {
    "duration": 92,
    "start_time": "2022-12-20T16:28:39.041Z"
   },
   {
    "duration": 4,
    "start_time": "2022-12-20T16:32:46.060Z"
   },
   {
    "duration": 4,
    "start_time": "2022-12-20T16:33:59.781Z"
   },
   {
    "duration": 3,
    "start_time": "2022-12-20T16:34:09.609Z"
   },
   {
    "duration": 15,
    "start_time": "2022-12-20T16:35:45.038Z"
   },
   {
    "duration": 4,
    "start_time": "2022-12-20T16:36:25.124Z"
   },
   {
    "duration": 4,
    "start_time": "2022-12-20T16:36:29.885Z"
   },
   {
    "duration": 3,
    "start_time": "2022-12-20T16:36:40.404Z"
   },
   {
    "duration": 3,
    "start_time": "2022-12-20T16:36:44.848Z"
   },
   {
    "duration": 3,
    "start_time": "2022-12-20T16:36:47.757Z"
   },
   {
    "duration": 729,
    "start_time": "2022-12-20T16:36:50.492Z"
   },
   {
    "duration": 807,
    "start_time": "2022-12-20T16:36:56.223Z"
   },
   {
    "duration": 16,
    "start_time": "2022-12-20T16:37:37.742Z"
   },
   {
    "duration": 75,
    "start_time": "2022-12-20T16:39:19.614Z"
   },
   {
    "duration": 33,
    "start_time": "2022-12-20T16:39:39.545Z"
   },
   {
    "duration": 327,
    "start_time": "2022-12-20T16:41:36.303Z"
   },
   {
    "duration": 3700863,
    "start_time": "2022-12-20T16:41:50.991Z"
   },
   {
    "duration": 0,
    "start_time": "2022-12-20T17:43:31.857Z"
   },
   {
    "duration": 12,
    "start_time": "2022-12-20T17:43:38.874Z"
   },
   {
    "duration": 74189,
    "start_time": "2022-12-20T17:44:34.788Z"
   },
   {
    "duration": 0,
    "start_time": "2022-12-20T17:45:48.980Z"
   },
   {
    "duration": 0,
    "start_time": "2022-12-20T17:45:48.981Z"
   },
   {
    "duration": 65876,
    "start_time": "2022-12-20T17:45:58.458Z"
   },
   {
    "duration": 0,
    "start_time": "2022-12-20T17:47:04.336Z"
   },
   {
    "duration": 7948,
    "start_time": "2022-12-20T17:47:08.955Z"
   },
   {
    "duration": 7917,
    "start_time": "2022-12-20T17:47:41.274Z"
   },
   {
    "duration": 1229,
    "start_time": "2022-12-21T02:32:02.632Z"
   },
   {
    "duration": 3665,
    "start_time": "2022-12-21T02:32:13.047Z"
   },
   {
    "duration": 43,
    "start_time": "2022-12-21T02:32:23.238Z"
   },
   {
    "duration": 19,
    "start_time": "2022-12-21T02:32:26.155Z"
   },
   {
    "duration": 8,
    "start_time": "2022-12-21T02:32:37.944Z"
   },
   {
    "duration": 5,
    "start_time": "2022-12-21T02:32:39.291Z"
   },
   {
    "duration": 3,
    "start_time": "2022-12-21T02:32:54.131Z"
   },
   {
    "duration": 99,
    "start_time": "2022-12-21T02:34:24.512Z"
   },
   {
    "duration": 9,
    "start_time": "2022-12-21T02:36:48.087Z"
   },
   {
    "duration": 4,
    "start_time": "2022-12-21T02:36:51.997Z"
   },
   {
    "duration": 74,
    "start_time": "2022-12-21T02:37:33.225Z"
   },
   {
    "duration": 2171,
    "start_time": "2022-12-21T02:37:43.600Z"
   },
   {
    "duration": 352,
    "start_time": "2022-12-21T02:39:15.113Z"
   },
   {
    "duration": 10,
    "start_time": "2022-12-21T02:39:27.496Z"
   },
   {
    "duration": 3603,
    "start_time": "2022-12-21T02:40:07.525Z"
   },
   {
    "duration": 383,
    "start_time": "2022-12-21T02:40:18.201Z"
   },
   {
    "duration": 376,
    "start_time": "2022-12-21T02:40:24.641Z"
   },
   {
    "duration": 10,
    "start_time": "2022-12-21T02:41:20.206Z"
   },
   {
    "duration": 4,
    "start_time": "2022-12-21T02:41:33.548Z"
   },
   {
    "duration": 596,
    "start_time": "2022-12-21T02:41:36.223Z"
   },
   {
    "duration": 606827,
    "start_time": "2022-12-21T02:41:53.406Z"
   },
   {
    "duration": 19,
    "start_time": "2022-12-21T02:52:58.172Z"
   },
   {
    "duration": 111,
    "start_time": "2022-12-21T02:53:43.492Z"
   },
   {
    "duration": 10164,
    "start_time": "2022-12-21T02:53:55.214Z"
   },
   {
    "duration": 12035,
    "start_time": "2022-12-21T02:54:48.624Z"
   },
   {
    "duration": 8,
    "start_time": "2022-12-21T02:57:52.624Z"
   },
   {
    "duration": 10,
    "start_time": "2022-12-21T02:58:35.230Z"
   },
   {
    "duration": 5,
    "start_time": "2022-12-21T02:59:03.674Z"
   },
   {
    "duration": 5,
    "start_time": "2022-12-21T02:59:13.978Z"
   },
   {
    "duration": 4,
    "start_time": "2022-12-21T02:59:36.086Z"
   },
   {
    "duration": 6,
    "start_time": "2022-12-21T03:01:05.670Z"
   },
   {
    "duration": 62,
    "start_time": "2022-12-21T03:02:18.120Z"
   },
   {
    "duration": 7,
    "start_time": "2022-12-21T03:02:48.453Z"
   },
   {
    "duration": 13708,
    "start_time": "2022-12-21T03:04:29.432Z"
   },
   {
    "duration": 5,
    "start_time": "2022-12-21T03:04:57.659Z"
   },
   {
    "duration": 15,
    "start_time": "2022-12-21T03:08:14.520Z"
   },
   {
    "duration": 11,
    "start_time": "2022-12-21T03:08:48.234Z"
   },
   {
    "duration": 11,
    "start_time": "2022-12-21T03:10:01.811Z"
   },
   {
    "duration": 9,
    "start_time": "2022-12-21T03:14:05.471Z"
   },
   {
    "duration": 12,
    "start_time": "2022-12-21T03:18:37.680Z"
   },
   {
    "duration": 22,
    "start_time": "2022-12-21T03:19:01.418Z"
   },
   {
    "duration": 10,
    "start_time": "2022-12-21T03:19:26.337Z"
   },
   {
    "duration": 5946,
    "start_time": "2022-12-21T03:20:08.999Z"
   },
   {
    "duration": 507,
    "start_time": "2022-12-21T15:56:33.705Z"
   },
   {
    "duration": 3668,
    "start_time": "2022-12-21T15:56:40.504Z"
   },
   {
    "duration": 1114,
    "start_time": "2022-12-21T15:56:44.979Z"
   },
   {
    "duration": 79,
    "start_time": "2022-12-21T15:56:51.824Z"
   },
   {
    "duration": 1489,
    "start_time": "2022-12-21T15:57:06.096Z"
   },
   {
    "duration": 2165,
    "start_time": "2022-12-21T15:57:57.741Z"
   },
   {
    "duration": 4683,
    "start_time": "2022-12-21T15:59:26.352Z"
   },
   {
    "duration": 17,
    "start_time": "2022-12-21T15:59:46.682Z"
   },
   {
    "duration": 4693,
    "start_time": "2022-12-21T16:00:44.532Z"
   },
   {
    "duration": 15,
    "start_time": "2022-12-21T16:00:53.831Z"
   },
   {
    "duration": 97,
    "start_time": "2022-12-21T16:01:04.536Z"
   },
   {
    "duration": 23,
    "start_time": "2022-12-21T16:01:44.856Z"
   },
   {
    "duration": 11,
    "start_time": "2022-12-21T16:01:51.152Z"
   },
   {
    "duration": 4,
    "start_time": "2022-12-21T16:01:52.705Z"
   },
   {
    "duration": 9,
    "start_time": "2022-12-21T16:01:53.427Z"
   },
   {
    "duration": 4554,
    "start_time": "2022-12-21T16:02:03.952Z"
   },
   {
    "duration": 4,
    "start_time": "2022-12-21T16:02:12.304Z"
   },
   {
    "duration": 38,
    "start_time": "2022-12-21T16:02:13.778Z"
   },
   {
    "duration": 5,
    "start_time": "2022-12-21T16:04:03.591Z"
   },
   {
    "duration": 40,
    "start_time": "2022-12-21T16:04:48.895Z"
   },
   {
    "duration": 55,
    "start_time": "2022-12-21T16:04:51.536Z"
   },
   {
    "duration": 4,
    "start_time": "2022-12-21T16:05:34.704Z"
   },
   {
    "duration": 67,
    "start_time": "2022-12-21T16:06:08.480Z"
   },
   {
    "duration": 144,
    "start_time": "2022-12-21T16:06:40.928Z"
   },
   {
    "duration": 1511,
    "start_time": "2022-12-21T16:07:04.038Z"
   },
   {
    "duration": 5,
    "start_time": "2022-12-21T16:07:31.938Z"
   },
   {
    "duration": 1697,
    "start_time": "2022-12-21T16:07:55.584Z"
   },
   {
    "duration": 54,
    "start_time": "2022-12-21T16:08:31.837Z"
   },
   {
    "duration": 48,
    "start_time": "2022-12-21T16:08:41.047Z"
   },
   {
    "duration": 87,
    "start_time": "2022-12-21T16:09:09.630Z"
   },
   {
    "duration": 3876,
    "start_time": "2022-12-21T16:09:37.074Z"
   },
   {
    "duration": 56,
    "start_time": "2022-12-21T16:09:44.448Z"
   },
   {
    "duration": 71,
    "start_time": "2022-12-21T16:09:48.128Z"
   },
   {
    "duration": 80,
    "start_time": "2022-12-21T16:09:50.928Z"
   },
   {
    "duration": 17439,
    "start_time": "2022-12-21T16:10:05.132Z"
   },
   {
    "duration": 8395,
    "start_time": "2022-12-21T16:10:39.778Z"
   },
   {
    "duration": 11,
    "start_time": "2022-12-21T16:10:48.632Z"
   },
   {
    "duration": 1830,
    "start_time": "2022-12-21T16:12:56.182Z"
   },
   {
    "duration": 8,
    "start_time": "2022-12-21T16:16:37.380Z"
   },
   {
    "duration": 13,
    "start_time": "2022-12-21T16:17:00.884Z"
   },
   {
    "duration": 56719,
    "start_time": "2022-12-21T16:17:15.380Z"
   },
   {
    "duration": 56323,
    "start_time": "2022-12-21T16:18:29.637Z"
   },
   {
    "duration": 58427,
    "start_time": "2022-12-21T16:25:32.950Z"
   },
   {
    "duration": 59133,
    "start_time": "2022-12-21T16:27:24.250Z"
   },
   {
    "duration": 344343,
    "start_time": "2022-12-21T16:29:06.541Z"
   },
   {
    "duration": 17,
    "start_time": "2022-12-21T16:36:23.327Z"
   },
   {
    "duration": 29,
    "start_time": "2022-12-21T16:38:05.936Z"
   },
   {
    "duration": 13575,
    "start_time": "2022-12-21T16:39:06.053Z"
   },
   {
    "duration": 51160,
    "start_time": "2022-12-21T16:39:21.832Z"
   },
   {
    "duration": 135,
    "start_time": "2022-12-21T16:46:36.982Z"
   },
   {
    "duration": 588943,
    "start_time": "2022-12-21T16:48:33.730Z"
   },
   {
    "duration": 5970,
    "start_time": "2022-12-21T17:23:29.036Z"
   },
   {
    "duration": 3178,
    "start_time": "2022-12-21T17:23:35.008Z"
   },
   {
    "duration": 3,
    "start_time": "2022-12-21T17:23:38.188Z"
   },
   {
    "duration": 63,
    "start_time": "2022-12-21T17:23:38.195Z"
   },
   {
    "duration": 2538,
    "start_time": "2022-12-21T17:23:38.260Z"
   },
   {
    "duration": 105,
    "start_time": "2022-12-21T17:23:40.799Z"
   },
   {
    "duration": 89,
    "start_time": "2022-12-21T17:23:40.906Z"
   },
   {
    "duration": 63,
    "start_time": "2022-12-21T17:23:40.998Z"
   },
   {
    "duration": 29,
    "start_time": "2022-12-21T17:23:41.063Z"
   },
   {
    "duration": 6002,
    "start_time": "2022-12-21T17:23:41.097Z"
   },
   {
    "duration": 338,
    "start_time": "2022-12-21T17:23:47.158Z"
   },
   {
    "duration": 0,
    "start_time": "2022-12-21T17:23:47.497Z"
   },
   {
    "duration": 0,
    "start_time": "2022-12-21T17:23:47.569Z"
   },
   {
    "duration": 0,
    "start_time": "2022-12-21T17:23:47.570Z"
   },
   {
    "duration": 0,
    "start_time": "2022-12-21T17:23:47.571Z"
   },
   {
    "duration": 0,
    "start_time": "2022-12-21T17:23:47.572Z"
   },
   {
    "duration": 0,
    "start_time": "2022-12-21T17:23:47.578Z"
   },
   {
    "duration": 0,
    "start_time": "2022-12-21T17:23:47.579Z"
   },
   {
    "duration": 0,
    "start_time": "2022-12-21T17:23:47.580Z"
   },
   {
    "duration": 0,
    "start_time": "2022-12-21T17:23:47.582Z"
   },
   {
    "duration": 0,
    "start_time": "2022-12-21T17:23:47.585Z"
   },
   {
    "duration": 0,
    "start_time": "2022-12-21T17:23:47.586Z"
   },
   {
    "duration": 0,
    "start_time": "2022-12-21T17:23:47.587Z"
   },
   {
    "duration": 0,
    "start_time": "2022-12-21T17:23:47.589Z"
   },
   {
    "duration": 0,
    "start_time": "2022-12-21T17:23:47.590Z"
   },
   {
    "duration": 0,
    "start_time": "2022-12-21T17:23:47.591Z"
   },
   {
    "duration": 1003,
    "start_time": "2022-12-21T17:24:21.386Z"
   },
   {
    "duration": 6,
    "start_time": "2022-12-21T17:24:23.608Z"
   },
   {
    "duration": 15,
    "start_time": "2022-12-21T17:24:31.374Z"
   },
   {
    "duration": 4,
    "start_time": "2022-12-21T17:24:39.244Z"
   },
   {
    "duration": 29,
    "start_time": "2022-12-21T17:24:47.754Z"
   },
   {
    "duration": 3394,
    "start_time": "2022-12-21T17:25:10.614Z"
   },
   {
    "duration": 3,
    "start_time": "2022-12-21T17:26:52.795Z"
   },
   {
    "duration": 99,
    "start_time": "2022-12-21T17:31:06.458Z"
   },
   {
    "duration": 11397,
    "start_time": "2022-12-21T17:31:06.670Z"
   },
   {
    "duration": 6293,
    "start_time": "2022-12-21T17:31:18.070Z"
   },
   {
    "duration": 420,
    "start_time": "2022-12-21T17:31:24.375Z"
   },
   {
    "duration": 69,
    "start_time": "2022-12-21T17:31:24.798Z"
   },
   {
    "duration": 4511,
    "start_time": "2022-12-21T17:31:24.871Z"
   },
   {
    "duration": 183,
    "start_time": "2022-12-21T17:31:29.383Z"
   },
   {
    "duration": 185,
    "start_time": "2022-12-21T17:31:29.576Z"
   },
   {
    "duration": 93,
    "start_time": "2022-12-21T17:31:29.765Z"
   },
   {
    "duration": 21,
    "start_time": "2022-12-21T17:31:29.859Z"
   },
   {
    "duration": 11703,
    "start_time": "2022-12-21T17:31:29.958Z"
   },
   {
    "duration": 86,
    "start_time": "2022-12-21T17:31:41.679Z"
   },
   {
    "duration": 5,
    "start_time": "2022-12-21T17:31:41.774Z"
   },
   {
    "duration": 197,
    "start_time": "2022-12-21T17:31:41.781Z"
   },
   {
    "duration": 182,
    "start_time": "2022-12-21T17:31:41.981Z"
   },
   {
    "duration": 16712,
    "start_time": "2022-12-21T17:31:42.165Z"
   },
   {
    "duration": 81,
    "start_time": "2022-12-21T17:31:58.882Z"
   },
   {
    "duration": 290,
    "start_time": "2022-12-21T17:31:58.971Z"
   },
   {
    "duration": 23,
    "start_time": "2022-12-21T17:31:59.263Z"
   },
   {
    "duration": 275,
    "start_time": "2022-12-21T17:31:59.287Z"
   },
   {
    "duration": 312,
    "start_time": "2022-12-21T17:31:59.566Z"
   },
   {
    "duration": 94791,
    "start_time": "2022-12-21T17:31:59.965Z"
   },
   {
    "duration": 694,
    "start_time": "2022-12-21T17:33:34.763Z"
   },
   {
    "duration": 0,
    "start_time": "2022-12-21T17:33:35.466Z"
   },
   {
    "duration": 0,
    "start_time": "2022-12-21T17:33:35.473Z"
   },
   {
    "duration": 0,
    "start_time": "2022-12-21T17:33:35.476Z"
   },
   {
    "duration": 0,
    "start_time": "2022-12-21T17:33:35.477Z"
   },
   {
    "duration": 533335,
    "start_time": "2022-12-21T17:33:48.258Z"
   },
   {
    "duration": 222,
    "start_time": "2022-12-21T17:43:14.856Z"
   },
   {
    "duration": 48,
    "start_time": "2022-12-22T04:16:26.664Z"
   },
   {
    "duration": 429,
    "start_time": "2022-12-22T04:16:39.416Z"
   },
   {
    "duration": 2736,
    "start_time": "2022-12-22T04:16:45.850Z"
   },
   {
    "duration": 1049,
    "start_time": "2022-12-22T04:16:55.213Z"
   },
   {
    "duration": 3684,
    "start_time": "2022-12-22T04:17:13.241Z"
   },
   {
    "duration": 5,
    "start_time": "2022-12-22T04:17:22.097Z"
   },
   {
    "duration": 4,
    "start_time": "2022-12-22T04:17:22.842Z"
   },
   {
    "duration": 5,
    "start_time": "2022-12-22T04:17:23.716Z"
   },
   {
    "duration": 34,
    "start_time": "2022-12-22T04:17:25.378Z"
   },
   {
    "duration": 89,
    "start_time": "2022-12-22T04:17:26.397Z"
   },
   {
    "duration": 14427,
    "start_time": "2022-12-22T04:17:27.517Z"
   },
   {
    "duration": 7,
    "start_time": "2022-12-22T17:23:42.682Z"
   },
   {
    "duration": 2980,
    "start_time": "2022-12-22T17:26:09.146Z"
   },
   {
    "duration": 1406,
    "start_time": "2022-12-22T17:26:12.128Z"
   },
   {
    "duration": 685,
    "start_time": "2022-12-22T17:26:13.536Z"
   },
   {
    "duration": 6,
    "start_time": "2022-12-22T17:26:14.223Z"
   },
   {
    "duration": 3672,
    "start_time": "2022-12-22T17:26:14.232Z"
   },
   {
    "duration": 32,
    "start_time": "2022-12-22T17:26:17.905Z"
   },
   {
    "duration": 8,
    "start_time": "2022-12-22T17:26:17.939Z"
   },
   {
    "duration": 4,
    "start_time": "2022-12-22T17:26:17.948Z"
   },
   {
    "duration": 7,
    "start_time": "2022-12-22T17:26:17.954Z"
   },
   {
    "duration": 1895,
    "start_time": "2022-12-22T17:26:17.963Z"
   },
   {
    "duration": 4,
    "start_time": "2022-12-22T17:26:19.860Z"
   },
   {
    "duration": 534700,
    "start_time": "2022-12-22T17:26:19.866Z"
   },
   {
    "duration": 3,
    "start_time": "2022-12-22T17:35:14.568Z"
   },
   {
    "duration": 31,
    "start_time": "2022-12-22T17:35:14.573Z"
   },
   {
    "duration": 61,
    "start_time": "2022-12-22T17:35:14.606Z"
   },
   {
    "duration": 71,
    "start_time": "2022-12-22T17:35:14.668Z"
   },
   {
    "duration": 13934,
    "start_time": "2022-12-22T17:35:14.741Z"
   },
   {
    "duration": 262210,
    "start_time": "2022-12-22T17:35:28.677Z"
   },
   {
    "duration": 441889,
    "start_time": "2022-12-22T17:39:50.889Z"
   },
   {
    "duration": 8589357,
    "start_time": "2022-12-22T17:47:12.779Z"
   },
   {
    "duration": 44,
    "start_time": "2022-12-22T20:10:22.138Z"
   },
   {
    "duration": 1078,
    "start_time": "2022-12-24T06:19:58.751Z"
   },
   {
    "duration": 3021,
    "start_time": "2022-12-24T06:23:51.349Z"
   },
   {
    "duration": 646,
    "start_time": "2022-12-24T06:24:03.880Z"
   },
   {
    "duration": 602,
    "start_time": "2022-12-24T06:24:08.488Z"
   },
   {
    "duration": 6,
    "start_time": "2022-12-24T06:24:10.485Z"
   },
   {
    "duration": 2482,
    "start_time": "2022-12-24T06:24:13.428Z"
   },
   {
    "duration": 40,
    "start_time": "2022-12-24T06:24:16.853Z"
   },
   {
    "duration": 10,
    "start_time": "2022-12-24T06:24:22.097Z"
   },
   {
    "duration": 5,
    "start_time": "2022-12-24T06:24:24.347Z"
   },
   {
    "duration": 4,
    "start_time": "2022-12-24T06:24:28.021Z"
   },
   {
    "duration": 2118,
    "start_time": "2022-12-24T06:24:29.429Z"
   },
   {
    "duration": 4,
    "start_time": "2022-12-24T06:24:32.688Z"
   },
   {
    "duration": 662497,
    "start_time": "2022-12-24T06:24:37.112Z"
   },
   {
    "duration": 3,
    "start_time": "2022-12-24T06:41:00.966Z"
   },
   {
    "duration": 39,
    "start_time": "2022-12-24T06:41:05.440Z"
   },
   {
    "duration": 5,
    "start_time": "2022-12-24T06:41:23.910Z"
   },
   {
    "duration": 5,
    "start_time": "2022-12-24T06:41:32.031Z"
   },
   {
    "duration": 50,
    "start_time": "2022-12-24T11:30:53.094Z"
   },
   {
    "duration": 4,
    "start_time": "2022-12-24T11:32:11.872Z"
   },
   {
    "duration": 45,
    "start_time": "2022-12-24T11:32:17.584Z"
   },
   {
    "duration": 8,
    "start_time": "2022-12-24T11:32:54.848Z"
   },
   {
    "duration": 2902,
    "start_time": "2022-12-24T11:33:06.036Z"
   },
   {
    "duration": 1410,
    "start_time": "2022-12-24T11:33:10.219Z"
   },
   {
    "duration": 89,
    "start_time": "2022-12-24T11:33:21.919Z"
   },
   {
    "duration": 2292,
    "start_time": "2022-12-24T11:33:25.120Z"
   },
   {
    "duration": 31,
    "start_time": "2022-12-24T11:33:28.685Z"
   },
   {
    "duration": 4,
    "start_time": "2022-12-24T11:33:32.907Z"
   },
   {
    "duration": 2039,
    "start_time": "2022-12-24T11:33:35.240Z"
   },
   {
    "duration": 4,
    "start_time": "2022-12-24T11:33:44.538Z"
   },
   {
    "duration": 238,
    "start_time": "2022-12-24T11:33:46.096Z"
   },
   {
    "duration": 373,
    "start_time": "2022-12-24T11:33:54.066Z"
   },
   {
    "duration": 6,
    "start_time": "2022-12-24T11:33:55.230Z"
   },
   {
    "duration": 740,
    "start_time": "2022-12-24T11:33:56.319Z"
   },
   {
    "duration": 858,
    "start_time": "2022-12-24T11:34:02.267Z"
   },
   {
    "duration": 3,
    "start_time": "2022-12-24T11:34:29.890Z"
   },
   {
    "duration": 1955,
    "start_time": "2022-12-24T11:34:30.702Z"
   },
   {
    "duration": 4,
    "start_time": "2022-12-24T11:34:33.566Z"
   },
   {
    "duration": 276230,
    "start_time": "2022-12-24T11:34:37.602Z"
   },
   {
    "duration": 4,
    "start_time": "2022-12-24T11:39:57.195Z"
   },
   {
    "duration": 11,
    "start_time": "2022-12-24T11:39:59.756Z"
   },
   {
    "duration": 11,
    "start_time": "2022-12-24T11:40:10.183Z"
   },
   {
    "duration": 761,
    "start_time": "2022-12-24T11:40:14.910Z"
   },
   {
    "duration": 3,
    "start_time": "2022-12-24T11:40:15.780Z"
   },
   {
    "duration": 11,
    "start_time": "2022-12-24T11:40:17.073Z"
   },
   {
    "duration": 7,
    "start_time": "2022-12-24T11:40:18.544Z"
   },
   {
    "duration": 3,
    "start_time": "2022-12-24T11:40:23.260Z"
   },
   {
    "duration": 24,
    "start_time": "2022-12-24T11:40:24.544Z"
   },
   {
    "duration": 4,
    "start_time": "2022-12-24T11:40:26.065Z"
   },
   {
    "duration": 3985,
    "start_time": "2022-12-24T11:40:29.720Z"
   },
   {
    "duration": 3,
    "start_time": "2022-12-24T11:40:39.934Z"
   },
   {
    "duration": 7,
    "start_time": "2022-12-24T11:40:43.596Z"
   },
   {
    "duration": 19,
    "start_time": "2022-12-24T11:40:56.946Z"
   },
   {
    "duration": 3,
    "start_time": "2022-12-24T11:41:00.024Z"
   },
   {
    "duration": 18,
    "start_time": "2022-12-24T11:41:02.805Z"
   },
   {
    "duration": 5,
    "start_time": "2022-12-24T11:41:11.903Z"
   },
   {
    "duration": 5,
    "start_time": "2022-12-24T11:41:13.699Z"
   },
   {
    "duration": 3,
    "start_time": "2022-12-24T11:41:15.650Z"
   },
   {
    "duration": 5,
    "start_time": "2022-12-24T11:41:16.572Z"
   },
   {
    "duration": 766632,
    "start_time": "2022-12-24T11:41:17.788Z"
   },
   {
    "duration": 13,
    "start_time": "2022-12-24T11:56:59.308Z"
   },
   {
    "duration": 91651,
    "start_time": "2022-12-24T11:58:17.979Z"
   },
   {
    "duration": 14,
    "start_time": "2022-12-24T12:00:47.660Z"
   },
   {
    "duration": 4,
    "start_time": "2022-12-24T12:02:01.762Z"
   },
   {
    "duration": 6,
    "start_time": "2022-12-24T12:04:49.947Z"
   },
   {
    "duration": 3,
    "start_time": "2022-12-24T12:04:53.653Z"
   },
   {
    "duration": 56,
    "start_time": "2022-12-24T12:04:59.105Z"
   },
   {
    "duration": 46,
    "start_time": "2022-12-24T12:06:09.222Z"
   },
   {
    "duration": 2292,
    "start_time": "2022-12-24T12:06:25.188Z"
   },
   {
    "duration": 106865,
    "start_time": "2022-12-24T12:07:05.750Z"
   },
   {
    "duration": 2,
    "start_time": "2022-12-24T12:21:47.245Z"
   },
   {
    "duration": 14,
    "start_time": "2022-12-24T12:23:07.524Z"
   },
   {
    "duration": 6,
    "start_time": "2022-12-24T12:23:22.714Z"
   },
   {
    "duration": 9,
    "start_time": "2022-12-24T12:23:54.653Z"
   },
   {
    "duration": 6,
    "start_time": "2022-12-24T12:24:06.330Z"
   },
   {
    "duration": 9,
    "start_time": "2022-12-24T12:24:58.555Z"
   },
   {
    "duration": 4,
    "start_time": "2022-12-24T12:25:13.661Z"
   },
   {
    "duration": 9,
    "start_time": "2022-12-24T12:25:17.553Z"
   },
   {
    "duration": 8,
    "start_time": "2022-12-24T12:25:58.381Z"
   },
   {
    "duration": 9,
    "start_time": "2022-12-24T12:27:47.714Z"
   },
   {
    "duration": 12,
    "start_time": "2022-12-24T12:28:16.184Z"
   },
   {
    "duration": 6,
    "start_time": "2022-12-24T12:28:47.581Z"
   },
   {
    "duration": 5,
    "start_time": "2022-12-24T12:29:06.645Z"
   },
   {
    "duration": 4,
    "start_time": "2022-12-24T12:35:21.337Z"
   },
   {
    "duration": 4,
    "start_time": "2022-12-24T12:35:22.578Z"
   },
   {
    "duration": 3,
    "start_time": "2022-12-24T12:35:35.011Z"
   },
   {
    "duration": 289040,
    "start_time": "2022-12-24T12:35:39.486Z"
   },
   {
    "duration": 10,
    "start_time": "2022-12-24T12:41:01.478Z"
   },
   {
    "duration": 11,
    "start_time": "2022-12-24T12:41:27.577Z"
   },
   {
    "duration": 4,
    "start_time": "2022-12-24T12:42:37.709Z"
   },
   {
    "duration": 749,
    "start_time": "2022-12-24T12:42:42.101Z"
   },
   {
    "duration": 3,
    "start_time": "2022-12-24T12:42:43.550Z"
   },
   {
    "duration": 11,
    "start_time": "2022-12-24T12:42:45.349Z"
   },
   {
    "duration": 3,
    "start_time": "2022-12-24T12:42:52.863Z"
   },
   {
    "duration": 31,
    "start_time": "2022-12-24T12:42:54.222Z"
   },
   {
    "duration": 4,
    "start_time": "2022-12-24T12:42:57.110Z"
   },
   {
    "duration": 7672,
    "start_time": "2022-12-24T12:42:58.820Z"
   },
   {
    "duration": 3,
    "start_time": "2022-12-24T12:43:09.150Z"
   },
   {
    "duration": 8,
    "start_time": "2022-12-24T12:43:15.005Z"
   },
   {
    "duration": 4,
    "start_time": "2022-12-24T12:43:21.972Z"
   },
   {
    "duration": 6,
    "start_time": "2022-12-24T12:43:23.303Z"
   },
   {
    "duration": 660588,
    "start_time": "2022-12-24T12:43:28.239Z"
   },
   {
    "duration": 18,
    "start_time": "2022-12-24T12:54:46.154Z"
   },
   {
    "duration": 2084,
    "start_time": "2022-12-24T13:06:06.222Z"
   },
   {
    "duration": 1438,
    "start_time": "2022-12-24T13:06:08.310Z"
   },
   {
    "duration": 12874,
    "start_time": "2022-12-24T13:06:09.750Z"
   },
   {
    "duration": 5,
    "start_time": "2022-12-24T13:06:22.626Z"
   },
   {
    "duration": 810,
    "start_time": "2022-12-24T13:06:22.632Z"
   },
   {
    "duration": 32,
    "start_time": "2022-12-24T13:06:23.443Z"
   },
   {
    "duration": 28,
    "start_time": "2022-12-24T13:06:23.477Z"
   },
   {
    "duration": 20,
    "start_time": "2022-12-24T13:06:23.507Z"
   },
   {
    "duration": 5,
    "start_time": "2022-12-24T13:06:23.529Z"
   },
   {
    "duration": 2137,
    "start_time": "2022-12-24T13:06:23.536Z"
   },
   {
    "duration": 4,
    "start_time": "2022-12-24T13:06:25.675Z"
   },
   {
    "duration": 597527,
    "start_time": "2022-12-24T13:06:25.680Z"
   },
   {
    "duration": 2,
    "start_time": "2022-12-24T13:16:23.210Z"
   },
   {
    "duration": 17,
    "start_time": "2022-12-24T13:16:23.214Z"
   },
   {
    "duration": 39,
    "start_time": "2022-12-24T13:16:23.232Z"
   },
   {
    "duration": 2,
    "start_time": "2022-12-24T13:16:23.273Z"
   },
   {
    "duration": 7,
    "start_time": "2022-12-24T13:16:23.276Z"
   },
   {
    "duration": 17,
    "start_time": "2022-12-24T13:16:23.285Z"
   },
   {
    "duration": 12,
    "start_time": "2022-12-24T13:16:23.303Z"
   },
   {
    "duration": 19131621,
    "start_time": "2022-12-24T13:16:23.317Z"
   },
   {
    "duration": 2,
    "start_time": "2022-12-24T18:35:14.941Z"
   },
   {
    "duration": 8,
    "start_time": "2022-12-24T18:35:14.945Z"
   },
   {
    "duration": 8,
    "start_time": "2022-12-24T18:35:14.957Z"
   },
   {
    "duration": 676,
    "start_time": "2022-12-24T18:35:14.967Z"
   },
   {
    "duration": 765,
    "start_time": "2022-12-24T18:37:05.509Z"
   },
   {
    "duration": 2963,
    "start_time": "2022-12-25T02:40:27.852Z"
   },
   {
    "duration": 1664,
    "start_time": "2022-12-25T02:40:33.803Z"
   },
   {
    "duration": 454,
    "start_time": "2022-12-25T02:40:37.945Z"
   },
   {
    "duration": 8,
    "start_time": "2022-12-25T02:40:39.290Z"
   },
   {
    "duration": 2276,
    "start_time": "2022-12-25T02:40:40.556Z"
   },
   {
    "duration": 3,
    "start_time": "2022-12-25T02:41:09.722Z"
   },
   {
    "duration": 3,
    "start_time": "2022-12-25T02:41:11.069Z"
   },
   {
    "duration": 3,
    "start_time": "2022-12-25T02:41:12.128Z"
   },
   {
    "duration": 10,
    "start_time": "2022-12-25T02:41:14.209Z"
   },
   {
    "duration": 9,
    "start_time": "2022-12-25T02:41:15.342Z"
   },
   {
    "duration": 5,
    "start_time": "2022-12-25T02:41:16.800Z"
   },
   {
    "duration": 4,
    "start_time": "2022-12-25T02:41:17.292Z"
   },
   {
    "duration": 29,
    "start_time": "2022-12-25T02:41:18.732Z"
   },
   {
    "duration": 6,
    "start_time": "2022-12-25T02:41:19.934Z"
   },
   {
    "duration": 4606,
    "start_time": "2022-12-25T02:41:22.773Z"
   },
   {
    "duration": 2,
    "start_time": "2022-12-25T02:41:28.903Z"
   },
   {
    "duration": 7,
    "start_time": "2022-12-25T02:41:36.076Z"
   },
   {
    "duration": 4,
    "start_time": "2022-12-25T02:41:42.256Z"
   },
   {
    "duration": 4,
    "start_time": "2022-12-25T02:46:01.590Z"
   },
   {
    "duration": 131,
    "start_time": "2022-12-25T02:50:35.779Z"
   },
   {
    "duration": 6,
    "start_time": "2022-12-25T02:50:54.377Z"
   },
   {
    "duration": 840615,
    "start_time": "2022-12-25T02:51:02.017Z"
   },
   {
    "duration": 2028,
    "start_time": "2022-12-25T03:15:52.322Z"
   },
   {
    "duration": 1305,
    "start_time": "2022-12-25T03:15:54.352Z"
   },
   {
    "duration": 209,
    "start_time": "2022-12-25T03:15:55.659Z"
   },
   {
    "duration": 4,
    "start_time": "2022-12-25T03:15:55.870Z"
   },
   {
    "duration": 853,
    "start_time": "2022-12-25T03:15:55.876Z"
   },
   {
    "duration": 3,
    "start_time": "2022-12-25T03:15:56.730Z"
   },
   {
    "duration": 21,
    "start_time": "2022-12-25T03:15:56.734Z"
   },
   {
    "duration": 14,
    "start_time": "2022-12-25T03:15:56.757Z"
   },
   {
    "duration": 7,
    "start_time": "2022-12-25T03:15:56.773Z"
   },
   {
    "duration": 5,
    "start_time": "2022-12-25T03:15:56.783Z"
   },
   {
    "duration": 25,
    "start_time": "2022-12-25T03:15:56.790Z"
   },
   {
    "duration": 5,
    "start_time": "2022-12-25T03:15:56.817Z"
   },
   {
    "duration": 4813,
    "start_time": "2022-12-25T03:15:56.824Z"
   },
   {
    "duration": 3,
    "start_time": "2022-12-25T03:16:01.639Z"
   },
   {
    "duration": 20,
    "start_time": "2022-12-25T03:16:01.643Z"
   },
   {
    "duration": 25,
    "start_time": "2022-12-25T03:16:01.665Z"
   },
   {
    "duration": 8,
    "start_time": "2022-12-25T03:16:01.692Z"
   },
   {
    "duration": 5,
    "start_time": "2022-12-25T03:16:01.701Z"
   },
   {
    "duration": 5,
    "start_time": "2022-12-25T03:16:01.708Z"
   },
   {
    "duration": 8,
    "start_time": "2022-12-25T03:16:01.715Z"
   },
   {
    "duration": 5,
    "start_time": "2022-12-25T03:16:01.725Z"
   },
   {
    "duration": 6862,
    "start_time": "2022-12-25T03:16:01.731Z"
   },
   {
    "duration": 3,
    "start_time": "2022-12-25T03:16:08.594Z"
   },
   {
    "duration": 6,
    "start_time": "2022-12-25T03:16:08.598Z"
   },
   {
    "duration": 7,
    "start_time": "2022-12-25T03:16:08.605Z"
   },
   {
    "duration": 11,
    "start_time": "2022-12-25T03:16:08.616Z"
   },
   {
    "duration": 2089,
    "start_time": "2022-12-25T03:33:45.675Z"
   },
   {
    "duration": 1274,
    "start_time": "2022-12-25T03:33:47.766Z"
   },
   {
    "duration": 143,
    "start_time": "2022-12-25T03:33:49.042Z"
   },
   {
    "duration": 5,
    "start_time": "2022-12-25T03:33:49.187Z"
   },
   {
    "duration": 851,
    "start_time": "2022-12-25T03:33:49.194Z"
   },
   {
    "duration": 31,
    "start_time": "2022-12-25T03:33:50.047Z"
   },
   {
    "duration": 12,
    "start_time": "2022-12-25T03:33:50.079Z"
   },
   {
    "duration": 8,
    "start_time": "2022-12-25T03:33:50.092Z"
   },
   {
    "duration": 16,
    "start_time": "2022-12-25T03:33:50.101Z"
   },
   {
    "duration": 2033,
    "start_time": "2022-12-25T03:33:50.120Z"
   },
   {
    "duration": 3,
    "start_time": "2022-12-25T03:33:52.155Z"
   },
   {
    "duration": 518101,
    "start_time": "2022-12-25T03:33:52.160Z"
   },
   {
    "duration": 3,
    "start_time": "2022-12-25T03:42:30.262Z"
   },
   {
    "duration": 32,
    "start_time": "2022-12-25T03:42:30.266Z"
   },
   {
    "duration": 56,
    "start_time": "2022-12-25T03:42:30.300Z"
   },
   {
    "duration": 2,
    "start_time": "2022-12-25T03:42:30.358Z"
   },
   {
    "duration": 7,
    "start_time": "2022-12-25T03:42:30.361Z"
   },
   {
    "duration": 34,
    "start_time": "2022-12-25T03:42:30.369Z"
   },
   {
    "duration": 38,
    "start_time": "2022-12-25T03:42:30.404Z"
   },
   {
    "duration": 34,
    "start_time": "2022-12-25T03:42:30.443Z"
   },
   {
    "duration": 11177986,
    "start_time": "2022-12-25T03:42:30.479Z"
   },
   {
    "duration": 2,
    "start_time": "2022-12-25T06:48:48.467Z"
   },
   {
    "duration": 6,
    "start_time": "2022-12-25T06:48:48.470Z"
   },
   {
    "duration": 9,
    "start_time": "2022-12-25T06:48:48.477Z"
   },
   {
    "duration": 626,
    "start_time": "2022-12-25T06:48:48.487Z"
   }
  ],
  "kernelspec": {
   "display_name": "Python 3 (ipykernel)",
   "language": "python",
   "name": "python3"
  },
  "language_info": {
   "codemirror_mode": {
    "name": "ipython",
    "version": 3
   },
   "file_extension": ".py",
   "mimetype": "text/x-python",
   "name": "python",
   "nbconvert_exporter": "python",
   "pygments_lexer": "ipython3",
   "version": "3.9.12"
  },
  "toc": {
   "base_numbering": 1,
   "nav_menu": {},
   "number_sections": true,
   "sideBar": true,
   "skip_h1_title": true,
   "title_cell": "Содержание",
   "title_sidebar": "Contents",
   "toc_cell": true,
   "toc_position": {
    "height": "calc(100% - 180px)",
    "left": "10px",
    "top": "150px",
    "width": "302.391px"
   },
   "toc_section_display": true,
   "toc_window_display": false
  }
 },
 "nbformat": 4,
 "nbformat_minor": 2
}
